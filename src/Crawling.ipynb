{
 "cells": [
  {
   "cell_type": "markdown",
   "metadata": {},
   "source": [
    "### 기본 세팅"
   ]
  },
  {
   "cell_type": "code",
   "execution_count": 1,
   "metadata": {},
   "outputs": [],
   "source": [
    "import time\n",
    "import pandas as pd\n",
    "import tqdm\n",
    "import pickle\n",
    "\n",
    "from selenium import webdriver\n",
    "import pyperclip\n",
    "import klembord\n",
    "from selenium.webdriver import ActionChains\n",
    "from selenium.webdriver.common.keys import Keys\n",
    "import multiprocessing\n",
    "from multiprocessing import Pool\n",
    "\n",
    "import clipboard\n",
    "\n"
   ]
  },
  {
   "cell_type": "markdown",
   "metadata": {},
   "source": [
    "### 네이버 카페 로그인"
   ]
  },
  {
   "cell_type": "code",
   "execution_count": 2,
   "metadata": {},
   "outputs": [],
   "source": [
    "def copy_input(xpath, input):\n",
    "    #pyperclip.copy(input)\n",
    "    #klembord.set_text(input)\n",
    "    clipboard.copy(input)\n",
    "    driver.find_element_by_xpath(xpath).click()\n",
    "    ActionChains(driver).key_down(Keys.CONTROL).send_keys('v').key_up(Keys.CONTROL).perform()\n",
    "    time.sleep(1)"
   ]
  },
  {
   "cell_type": "code",
   "execution_count": 6,
   "metadata": {},
   "outputs": [],
   "source": [
    "op = webdriver.ChromeOptions()\n",
    "op.add_argument('--headless')\n",
    "driver = webdriver.Chrome('/home/super/sr_work/chromedriver',options=op)\n",
    "driver.implicitly_wait(3)"
   ]
  },
  {
   "cell_type": "code",
   "execution_count": 7,
   "metadata": {},
   "outputs": [
    {
     "ename": "PyperclipException",
     "evalue": "\n    Pyperclip could not find a copy/paste mechanism for your system.\n    For more information, please visit https://pyperclip.readthedocs.io/en/latest/index.html#not-implemented-error ",
     "output_type": "error",
     "traceback": [
      "\u001b[0;31m---------------------------------------------------------------------------\u001b[0m",
      "\u001b[0;31mPyperclipException\u001b[0m                        Traceback (most recent call last)",
      "\u001b[0;32m<ipython-input-7-e33a6bd74606>\u001b[0m in \u001b[0;36m<module>\u001b[0;34m\u001b[0m\n\u001b[1;32m      5\u001b[0m \u001b[0mtime\u001b[0m\u001b[0;34m.\u001b[0m\u001b[0msleep\u001b[0m\u001b[0;34m(\u001b[0m\u001b[0;36m1\u001b[0m\u001b[0;34m)\u001b[0m\u001b[0;34m\u001b[0m\u001b[0;34m\u001b[0m\u001b[0m\n\u001b[1;32m      6\u001b[0m \u001b[0;34m\u001b[0m\u001b[0m\n\u001b[0;32m----> 7\u001b[0;31m \u001b[0mcopy_input\u001b[0m\u001b[0;34m(\u001b[0m\u001b[0;34m'//*[@id=\"id\"]'\u001b[0m\u001b[0;34m,\u001b[0m \u001b[0mnaver_id\u001b[0m\u001b[0;34m)\u001b[0m\u001b[0;34m\u001b[0m\u001b[0;34m\u001b[0m\u001b[0m\n\u001b[0m\u001b[1;32m      8\u001b[0m \u001b[0mtime\u001b[0m\u001b[0;34m.\u001b[0m\u001b[0msleep\u001b[0m\u001b[0;34m(\u001b[0m\u001b[0;36m1\u001b[0m\u001b[0;34m)\u001b[0m\u001b[0;34m\u001b[0m\u001b[0;34m\u001b[0m\u001b[0m\n\u001b[1;32m      9\u001b[0m \u001b[0mcopy_input\u001b[0m\u001b[0;34m(\u001b[0m\u001b[0;34m'//*[@id=\"pw\"]'\u001b[0m\u001b[0;34m,\u001b[0m \u001b[0mnaver_pw\u001b[0m\u001b[0;34m)\u001b[0m\u001b[0;34m\u001b[0m\u001b[0;34m\u001b[0m\u001b[0m\n",
      "\u001b[0;32m<ipython-input-2-97c6e2b099c1>\u001b[0m in \u001b[0;36mcopy_input\u001b[0;34m(xpath, input)\u001b[0m\n\u001b[1;32m      2\u001b[0m     \u001b[0;31m#pyperclip.copy(input)\u001b[0m\u001b[0;34m\u001b[0m\u001b[0;34m\u001b[0m\u001b[0;34m\u001b[0m\u001b[0m\n\u001b[1;32m      3\u001b[0m     \u001b[0;31m#klembord.set_text(input)\u001b[0m\u001b[0;34m\u001b[0m\u001b[0;34m\u001b[0m\u001b[0;34m\u001b[0m\u001b[0m\n\u001b[0;32m----> 4\u001b[0;31m     \u001b[0mclipboard\u001b[0m\u001b[0;34m.\u001b[0m\u001b[0mcopy\u001b[0m\u001b[0;34m(\u001b[0m\u001b[0minput\u001b[0m\u001b[0;34m)\u001b[0m\u001b[0;34m\u001b[0m\u001b[0;34m\u001b[0m\u001b[0m\n\u001b[0m\u001b[1;32m      5\u001b[0m     \u001b[0mdriver\u001b[0m\u001b[0;34m.\u001b[0m\u001b[0mfind_element_by_xpath\u001b[0m\u001b[0;34m(\u001b[0m\u001b[0mxpath\u001b[0m\u001b[0;34m)\u001b[0m\u001b[0;34m.\u001b[0m\u001b[0mclick\u001b[0m\u001b[0;34m(\u001b[0m\u001b[0;34m)\u001b[0m\u001b[0;34m\u001b[0m\u001b[0;34m\u001b[0m\u001b[0m\n\u001b[1;32m      6\u001b[0m     \u001b[0mActionChains\u001b[0m\u001b[0;34m(\u001b[0m\u001b[0mdriver\u001b[0m\u001b[0;34m)\u001b[0m\u001b[0;34m.\u001b[0m\u001b[0mkey_down\u001b[0m\u001b[0;34m(\u001b[0m\u001b[0mKeys\u001b[0m\u001b[0;34m.\u001b[0m\u001b[0mCONTROL\u001b[0m\u001b[0;34m)\u001b[0m\u001b[0;34m.\u001b[0m\u001b[0msend_keys\u001b[0m\u001b[0;34m(\u001b[0m\u001b[0;34m'v'\u001b[0m\u001b[0;34m)\u001b[0m\u001b[0;34m.\u001b[0m\u001b[0mkey_up\u001b[0m\u001b[0;34m(\u001b[0m\u001b[0mKeys\u001b[0m\u001b[0;34m.\u001b[0m\u001b[0mCONTROL\u001b[0m\u001b[0;34m)\u001b[0m\u001b[0;34m.\u001b[0m\u001b[0mperform\u001b[0m\u001b[0;34m(\u001b[0m\u001b[0;34m)\u001b[0m\u001b[0;34m\u001b[0m\u001b[0;34m\u001b[0m\u001b[0m\n",
      "\u001b[0;32m~/anaconda3/lib/python3.8/site-packages/pyperclip/__init__.py\u001b[0m in \u001b[0;36mlazy_load_stub_copy\u001b[0;34m(text)\u001b[0m\n\u001b[1;32m    657\u001b[0m     \u001b[0;32mglobal\u001b[0m \u001b[0mcopy\u001b[0m\u001b[0;34m,\u001b[0m \u001b[0mpaste\u001b[0m\u001b[0;34m\u001b[0m\u001b[0;34m\u001b[0m\u001b[0m\n\u001b[1;32m    658\u001b[0m     \u001b[0mcopy\u001b[0m\u001b[0;34m,\u001b[0m \u001b[0mpaste\u001b[0m \u001b[0;34m=\u001b[0m \u001b[0mdetermine_clipboard\u001b[0m\u001b[0;34m(\u001b[0m\u001b[0;34m)\u001b[0m\u001b[0;34m\u001b[0m\u001b[0;34m\u001b[0m\u001b[0m\n\u001b[0;32m--> 659\u001b[0;31m     \u001b[0;32mreturn\u001b[0m \u001b[0mcopy\u001b[0m\u001b[0;34m(\u001b[0m\u001b[0mtext\u001b[0m\u001b[0;34m)\u001b[0m\u001b[0;34m\u001b[0m\u001b[0;34m\u001b[0m\u001b[0m\n\u001b[0m\u001b[1;32m    660\u001b[0m \u001b[0;34m\u001b[0m\u001b[0m\n\u001b[1;32m    661\u001b[0m \u001b[0;34m\u001b[0m\u001b[0m\n",
      "\u001b[0;32m~/anaconda3/lib/python3.8/site-packages/pyperclip/__init__.py\u001b[0m in \u001b[0;36m__call__\u001b[0;34m(self, *args, **kwargs)\u001b[0m\n\u001b[1;32m    334\u001b[0m \u001b[0;34m\u001b[0m\u001b[0m\n\u001b[1;32m    335\u001b[0m         \u001b[0;32mdef\u001b[0m \u001b[0m__call__\u001b[0m\u001b[0;34m(\u001b[0m\u001b[0mself\u001b[0m\u001b[0;34m,\u001b[0m \u001b[0;34m*\u001b[0m\u001b[0margs\u001b[0m\u001b[0;34m,\u001b[0m \u001b[0;34m**\u001b[0m\u001b[0mkwargs\u001b[0m\u001b[0;34m)\u001b[0m\u001b[0;34m:\u001b[0m\u001b[0;34m\u001b[0m\u001b[0;34m\u001b[0m\u001b[0m\n\u001b[0;32m--> 336\u001b[0;31m             \u001b[0;32mraise\u001b[0m \u001b[0mPyperclipException\u001b[0m\u001b[0;34m(\u001b[0m\u001b[0mEXCEPT_MSG\u001b[0m\u001b[0;34m)\u001b[0m\u001b[0;34m\u001b[0m\u001b[0;34m\u001b[0m\u001b[0m\n\u001b[0m\u001b[1;32m    337\u001b[0m \u001b[0;34m\u001b[0m\u001b[0m\n\u001b[1;32m    338\u001b[0m         \u001b[0;32mif\u001b[0m \u001b[0mPY2\u001b[0m\u001b[0;34m:\u001b[0m\u001b[0;34m\u001b[0m\u001b[0;34m\u001b[0m\u001b[0m\n",
      "\u001b[0;31mPyperclipException\u001b[0m: \n    Pyperclip could not find a copy/paste mechanism for your system.\n    For more information, please visit https://pyperclip.readthedocs.io/en/latest/index.html#not-implemented-error "
     ]
    }
   ],
   "source": [
    "naver_id = 'ksl970330'\n",
    "naver_pw = 'zz43574357!'\n",
    "\n",
    "driver.get('https://nid.naver.com/nidlogin.login')             \n",
    "time.sleep(1)\n",
    "\n",
    "copy_input('//*[@id=\"id\"]', naver_id)\n",
    "time.sleep(1)\n",
    "copy_input('//*[@id=\"pw\"]', naver_pw)\n",
    "time.sleep(1)\n",
    "\n",
    "driver.find_element_by_xpath('//*[@id=\"frmNIDLogin\"]/fieldset/input').click()"
   ]
  },
  {
   "cell_type": "markdown",
   "metadata": {},
   "source": [
    "### 크롤링"
   ]
  },
  {
   "cell_type": "code",
   "execution_count": 5,
   "metadata": {},
   "outputs": [],
   "source": [
    "def crawling_address_and_nickname(menuid):\n",
    "    page = 0\n",
    "    address = []\n",
    "    nickname = []\n",
    "\n",
    "    while page <= 1:\n",
    "        try:\n",
    "            page += 1\n",
    "            driver.get(f\"https://cafe.naver.com/ArticleList.nhn?search.clubid=11856775&search.menuid={menuid}&search.boardtype=L&search.page={page}\")\n",
    "            driver.switch_to.frame(\"cafe_main\")\n",
    "\n",
    "            try:\n",
    "                if driver.find_element_by_class_name(\"nodata\").text == '등록된 게시글이 없습니다.':\n",
    "                    break\n",
    "            except:\n",
    "                pass\n",
    "\n",
    "            for i in range(1, 51, 1):\n",
    "                cur_address = driver.find_element_by_xpath(f\"/html/body/div[1]/div/div[4]/table/tbody/tr[{i}]/td[1]/div[2]/div/a[1]\").get_attribute(\"href\")\n",
    "                cur_nickname = driver.find_element_by_xpath(f\"/html/body/div[1]/div/div[4]/table/tbody/tr[{i}]/td[2]/div/table/tbody/tr/td/a\").get_attribute(\"onclick\")\n",
    "                \n",
    "                address.append(cur_address)\n",
    "                nickname.append(cur_nickname)\n",
    "\n",
    "            driver.switch_to.default_content()   \n",
    "            break\n",
    "        except:\n",
    "            pass\n",
    "        \n",
    "    return address, nickname"
   ]
  },
  {
   "cell_type": "code",
   "execution_count": 6,
   "metadata": {},
   "outputs": [],
   "source": [
    "# nickname에 mbti가 있으면 추출\n",
    "def find_mbti_in_nickname(nickname, mbti_group):\n",
    "    for i in range(len(nickname)):\n",
    "        nickname[i] = nickname[i].lower()\n",
    "        \n",
    "    drop_idx = []   \n",
    "\n",
    "    for i in range(len(nickname)):\n",
    "        check_cnt = 0\n",
    "\n",
    "        for mbti in mbti_group:        \n",
    "            if mbti in nickname[i]:\n",
    "                nickname[i] = mbti\n",
    "\n",
    "            if mbti not in nickname[i]:\n",
    "                check_cnt += 1\n",
    "\n",
    "        if check_cnt == 16:\n",
    "            drop_idx.append(i)\n",
    "            \n",
    "    return nickname, drop_idx"
   ]
  },
  {
   "cell_type": "code",
   "execution_count": 7,
   "metadata": {},
   "outputs": [],
   "source": [
    "# nickname에 mbti가 없으면 드랍\n",
    "def drop_idx_in_address_and_nickname(address, nickname, drop_idx):\n",
    "    for i in range(len(address)):\n",
    "        while i in drop_idx:\n",
    "            address.pop(i)\n",
    "            nickname.pop(i)\n",
    "            drop_idx.remove(i)\n",
    "\n",
    "            for idx in range(len(drop_idx)):\n",
    "                drop_idx[idx] -= 1\n",
    "                \n",
    "    return address, nickname"
   ]
  },
  {
   "cell_type": "code",
   "execution_count": 8,
   "metadata": {},
   "outputs": [],
   "source": [
    "def crawling_title_and_content(address):\n",
    "    title = []\n",
    "    content = []\n",
    "    \n",
    "    for url in tqdm(address):\n",
    "        try:\n",
    "            driver.get(url)\n",
    "            driver.switch_to.frame(\"cafe_main\")\n",
    "            \n",
    "            cur_title = driver.find_element_by_css_selector(\"h3.title_text\").text\n",
    "            cur_content = driver.find_element_by_class_name(\"se-main-container\").text\n",
    "\n",
    "            title.append(cur_title)\n",
    "            content.append(cur_content)\n",
    "\n",
    "        except:\n",
    "            pass\n",
    "    \n",
    "    return title, content"
   ]
  },
  {
   "cell_type": "code",
   "execution_count": 9,
   "metadata": {},
   "outputs": [],
   "source": [
    "def crawling(menuid, mbti_group):\n",
    "    pool = Pool(multiprocessing.cpu_count() * 2)\n",
    "    \n",
    "    print(' crawling address and nickname... ')\n",
    "    start_time = time.time()\n",
    "    address, nickname = crawling_address_and_nickname(menuid) \n",
    "    print('  progress time: {:.7f} seconds \\n'.format(time.time() - start_time))\n",
    "    \n",
    "    \n",
    "    print(' extracting mbti from nickname... ')\n",
    "    start_time = time.time()\n",
    "    nickname, drop_idx = find_mbti_in_nickname(nickname, mbti_group)                    # nickname에 mbti가 있으면 추출\n",
    "    address, nickname = drop_idx_in_address_and_nickname(address, nickname, drop_idx)   # nickname에 mbti가 없으면 드랍\n",
    "    print('  progress time: {:.7f} seconds \\n'.format(time.time() - start_time))\n",
    "    \n",
    "    \n",
    "    print(' crawling title and content... ')\n",
    "    start_time = time.time()\n",
    "    results = pool.map(crawling_title_and_content, address) \n",
    "    pool.close()\n",
    "    pool.join()\n",
    "    \n",
    "    title = []\n",
    "    nickname = []\n",
    "    for result in results:\n",
    "        title.append(result[0])\n",
    "        nickname.append(result[1])\n",
    "    print('  progress time: {:.7f} seconds \\n'.format(time.time() - start_time))\n",
    "    \n",
    "    \n",
    "    data = pd.DataFrame({'mbti': nickname, 'title': title, 'content': content})\n",
    "    return data"
   ]
  },
  {
   "cell_type": "code",
   "execution_count": 10,
   "metadata": {},
   "outputs": [],
   "source": [
    "mbti_group = ['intj', 'intp', 'entj', 'entp',\n",
    "              'infj', 'infp', 'enfj', 'enfp',\n",
    "              'istj', 'isfj', 'estj', 'esfj',\n",
    "              'istp', 'isfp', 'estp', 'esfp']"
   ]
  },
  {
   "cell_type": "code",
   "execution_count": null,
   "metadata": {},
   "outputs": [
    {
     "name": "stdout",
     "output_type": "stream",
     "text": [
      " crawling address and nickname... \n",
      "  progress time: 15.8801427 seconds \n",
      "\n",
      " extracting mbti from nickname... \n",
      "  progress time: 0.0000000 seconds \n",
      "\n",
      " crawling title and content... \n"
     ]
    }
   ],
   "source": [
    "# INFP & ENFP 게시판 크롤링, menuid=18\n",
    "data18 = crawling(18, mbti_group)\n",
    "data18.head(5)"
   ]
  },
  {
   "cell_type": "code",
   "execution_count": 25,
   "metadata": {},
   "outputs": [],
   "source": [
    "data18.to_pickle('menuid=18 crawling.pkl')\n",
    "\n",
    "with open(\"./menuid=18 crawling.pickle\", \"wb\") as MyFile:\n",
    "    pickle.dump(data18, MyFile)"
   ]
  },
  {
   "cell_type": "code",
   "execution_count": 13,
   "metadata": {},
   "outputs": [
    {
     "data": {
      "text/html": [
       "<div>\n",
       "<style scoped>\n",
       "    .dataframe tbody tr th:only-of-type {\n",
       "        vertical-align: middle;\n",
       "    }\n",
       "\n",
       "    .dataframe tbody tr th {\n",
       "        vertical-align: top;\n",
       "    }\n",
       "\n",
       "    .dataframe thead th {\n",
       "        text-align: right;\n",
       "    }\n",
       "</style>\n",
       "<table border=\"1\" class=\"dataframe\">\n",
       "  <thead>\n",
       "    <tr style=\"text-align: right;\">\n",
       "      <th></th>\n",
       "      <th>mbti</th>\n",
       "      <th>title</th>\n",
       "      <th>content</th>\n",
       "    </tr>\n",
       "  </thead>\n",
       "  <tbody>\n",
       "    <tr>\n",
       "      <th>0</th>\n",
       "      <td>entp</td>\n",
       "      <td>엔팁이 하는 30문답!</td>\n",
       "      <td>Q1. 사소한데 정 떨어지는 행동은?\\n- 손톱 밑 때 같은 자기 몸이나 물건 더러...</td>\n",
       "    </tr>\n",
       "    <tr>\n",
       "      <th>1</th>\n",
       "      <td>intp</td>\n",
       "      <td>내로남불? 내불남로!</td>\n",
       "      <td>인팁이 멍청한 사람 싫어한다는데 저는 저 한정인 것 같아요😂 같은 실수 반복하면 스...</td>\n",
       "    </tr>\n",
       "    <tr>\n",
       "      <th>2</th>\n",
       "      <td>intp</td>\n",
       "      <td>인팁이 이렇게 단순합니다</td>\n",
       "      <td>제가 맞춤법돌리는거 귀차나서 걍 글귀만 쓰는데 이거보고 기분좋아져서 헤실헤실거리는중...</td>\n",
       "    </tr>\n",
       "    <tr>\n",
       "      <th>3</th>\n",
       "      <td>intj</td>\n",
       "      <td>인팁분들 맞춤법</td>\n",
       "      <td>신경 많이 쓰시나요? 오타 살짝나도 바로바로 고쳐서 보내는데 본인이 편하니까 고치는...</td>\n",
       "    </tr>\n",
       "    <tr>\n",
       "      <th>4</th>\n",
       "      <td>intp</td>\n",
       "      <td>라세님의 30문답</td>\n",
       "      <td>심심해서 해보는 30문답!\\nQ1. 사소한데 정 떨어지는 행동은?\\n- 맨날 이거싫...</td>\n",
       "    </tr>\n",
       "  </tbody>\n",
       "</table>\n",
       "</div>"
      ],
      "text/plain": [
       "   mbti          title                                            content\n",
       "0  entp   엔팁이 하는 30문답!  Q1. 사소한데 정 떨어지는 행동은?\\n- 손톱 밑 때 같은 자기 몸이나 물건 더러...\n",
       "1  intp    내로남불? 내불남로!  인팁이 멍청한 사람 싫어한다는데 저는 저 한정인 것 같아요😂 같은 실수 반복하면 스...\n",
       "2  intp  인팁이 이렇게 단순합니다  제가 맞춤법돌리는거 귀차나서 걍 글귀만 쓰는데 이거보고 기분좋아져서 헤실헤실거리는중...\n",
       "3  intj       인팁분들 맞춤법  신경 많이 쓰시나요? 오타 살짝나도 바로바로 고쳐서 보내는데 본인이 편하니까 고치는...\n",
       "4  intp      라세님의 30문답  심심해서 해보는 30문답!\\nQ1. 사소한데 정 떨어지는 행동은?\\n- 맨날 이거싫..."
      ]
     },
     "execution_count": 13,
     "metadata": {},
     "output_type": "execute_result"
    }
   ],
   "source": [
    "# INTP & ENTP 게시판 크롤링, menuid=17\n",
    "data17 = crawling(17, mbti_group)\n",
    "data17.head(5)"
   ]
  },
  {
   "cell_type": "code",
   "execution_count": 14,
   "metadata": {},
   "outputs": [],
   "source": [
    "data17.to_pickle('menuid=17 crawling.pkl')\n",
    "\n",
    "with open(\"./data17.pickle\", \"wb\") as MyFile:\n",
    "    pickle.dump(data17, MyFile)"
   ]
  },
  {
   "cell_type": "code",
   "execution_count": 15,
   "metadata": {},
   "outputs": [
    {
     "data": {
      "text/html": [
       "<div>\n",
       "<style scoped>\n",
       "    .dataframe tbody tr th:only-of-type {\n",
       "        vertical-align: middle;\n",
       "    }\n",
       "\n",
       "    .dataframe tbody tr th {\n",
       "        vertical-align: top;\n",
       "    }\n",
       "\n",
       "    .dataframe thead th {\n",
       "        text-align: right;\n",
       "    }\n",
       "</style>\n",
       "<table border=\"1\" class=\"dataframe\">\n",
       "  <thead>\n",
       "    <tr style=\"text-align: right;\">\n",
       "      <th></th>\n",
       "      <th>mbti</th>\n",
       "      <th>title</th>\n",
       "      <th>content</th>\n",
       "    </tr>\n",
       "  </thead>\n",
       "  <tbody>\n",
       "    <tr>\n",
       "      <th>0</th>\n",
       "      <td>enfp</td>\n",
       "      <td>5개월간 본 isfp 특징</td>\n",
       "      <td>*짝사랑했던 상대라 조금 다르게 볼 수 있음 주의*\\n1.아닌건 진짜 아니다. 근데...</td>\n",
       "    </tr>\n",
       "    <tr>\n",
       "      <th>1</th>\n",
       "      <td>isfp</td>\n",
       "      <td>새벽의 인간관계 30문 30답</td>\n",
       "      <td>Q1. 사소한데 정 떨어지는 행동은?\\n- 맞춤법 심각하게 틀릴 때 \\nQ2. 사람...</td>\n",
       "    </tr>\n",
       "    <tr>\n",
       "      <th>2</th>\n",
       "      <td>intp</td>\n",
       "      <td>잇프피 호감표시??</td>\n",
       "      <td>잇프피에게 연락해보고 영 아니다 싶으면 끊으려고 하는데\\n잇프피 남자님들은 호감 있...</td>\n",
       "    </tr>\n",
       "    <tr>\n",
       "      <th>3</th>\n",
       "      <td>enfj</td>\n",
       "      <td>ISFP 남자가 단답을 너무 자주 써요</td>\n",
       "      <td>다름이 아닌 제 남자친구인 ISFP의 이야기인데\\n어느 순간부터 (예상 1달 반 전...</td>\n",
       "    </tr>\n",
       "    <tr>\n",
       "      <th>4</th>\n",
       "      <td>isfp</td>\n",
       "      <td>사람은 왜 열심히 살아야 할까요?</td>\n",
       "      <td>일 잘하고 싶고 열정많은 사람들이 부럽고 신기해요.\\n전 그냥 놀고 먹고 싶은데. ...</td>\n",
       "    </tr>\n",
       "  </tbody>\n",
       "</table>\n",
       "</div>"
      ],
      "text/plain": [
       "   mbti                  title  \\\n",
       "0  enfp         5개월간 본 isfp 특징   \n",
       "1  isfp       새벽의 인간관계 30문 30답   \n",
       "2  intp             잇프피 호감표시??   \n",
       "3  enfj  ISFP 남자가 단답을 너무 자주 써요   \n",
       "4  isfp     사람은 왜 열심히 살아야 할까요?   \n",
       "\n",
       "                                             content  \n",
       "0  *짝사랑했던 상대라 조금 다르게 볼 수 있음 주의*\\n1.아닌건 진짜 아니다. 근데...  \n",
       "1  Q1. 사소한데 정 떨어지는 행동은?\\n- 맞춤법 심각하게 틀릴 때 \\nQ2. 사람...  \n",
       "2  잇프피에게 연락해보고 영 아니다 싶으면 끊으려고 하는데\\n잇프피 남자님들은 호감 있...  \n",
       "3  다름이 아닌 제 남자친구인 ISFP의 이야기인데\\n어느 순간부터 (예상 1달 반 전...  \n",
       "4  일 잘하고 싶고 열정많은 사람들이 부럽고 신기해요.\\n전 그냥 놀고 먹고 싶은데. ...  "
      ]
     },
     "execution_count": 15,
     "metadata": {},
     "output_type": "execute_result"
    }
   ],
   "source": [
    "# ISFP & ESFP 게시판 크롤링, menuid=16\n",
    "data16 = crawling(16, mbti_group)\n",
    "data16.head(5)"
   ]
  },
  {
   "cell_type": "code",
   "execution_count": 16,
   "metadata": {},
   "outputs": [],
   "source": [
    "data16.to_pickle('menuid=16 crawling.pkl')\n",
    "\n",
    "with open(\"./data16.pickle\", \"wb\") as MyFile:\n",
    "    pickle.dump(data16, MyFile)"
   ]
  },
  {
   "cell_type": "code",
   "execution_count": 17,
   "metadata": {},
   "outputs": [
    {
     "data": {
      "text/html": [
       "<div>\n",
       "<style scoped>\n",
       "    .dataframe tbody tr th:only-of-type {\n",
       "        vertical-align: middle;\n",
       "    }\n",
       "\n",
       "    .dataframe tbody tr th {\n",
       "        vertical-align: top;\n",
       "    }\n",
       "\n",
       "    .dataframe thead th {\n",
       "        text-align: right;\n",
       "    }\n",
       "</style>\n",
       "<table border=\"1\" class=\"dataframe\">\n",
       "  <thead>\n",
       "    <tr style=\"text-align: right;\">\n",
       "      <th></th>\n",
       "      <th>mbti</th>\n",
       "      <th>title</th>\n",
       "      <th>content</th>\n",
       "    </tr>\n",
       "  </thead>\n",
       "  <tbody>\n",
       "    <tr>\n",
       "      <th>0</th>\n",
       "      <td>isfp</td>\n",
       "      <td>엣팁분들!!!!!</td>\n",
       "      <td>원래 엉이나 웅같은 거 잘 쓰나요?? 평소에 어라고 쓰던 애가 저런 거 쓰니까 넘 ...</td>\n",
       "    </tr>\n",
       "    <tr>\n",
       "      <th>1</th>\n",
       "      <td>infp</td>\n",
       "      <td>잇팁 남자 마음이 뭔지 모르겠어요</td>\n",
       "      <td>갠적인 연락은 거의 안하는데 \\n나가 놀고싶은데 더워서 못나가겠다하니 빙수 기프티콘...</td>\n",
       "    </tr>\n",
       "    <tr>\n",
       "      <th>2</th>\n",
       "      <td>entj</td>\n",
       "      <td>istp 와 entj</td>\n",
       "      <td>istp 남자 entj 여자 친구로써 궁합 어떤가요?</td>\n",
       "    </tr>\n",
       "    <tr>\n",
       "      <th>3</th>\n",
       "      <td>entj</td>\n",
       "      <td>estp 친구</td>\n",
       "      <td>estp 동성 친구가 자꾸 카톡을 보내는데 친해지고 싶어서 그런걸까요?</td>\n",
       "    </tr>\n",
       "    <tr>\n",
       "      <th>4</th>\n",
       "      <td>istp</td>\n",
       "      <td>설거지,,</td>\n",
       "      <td>설거지 해야되는데 하고\\n두시간째 폰보면서 누워있네요\\n분명 설거지하려고 맘 먹었는...</td>\n",
       "    </tr>\n",
       "  </tbody>\n",
       "</table>\n",
       "</div>"
      ],
      "text/plain": [
       "   mbti               title                                            content\n",
       "0  isfp           엣팁분들!!!!!  원래 엉이나 웅같은 거 잘 쓰나요?? 평소에 어라고 쓰던 애가 저런 거 쓰니까 넘 ...\n",
       "1  infp  잇팁 남자 마음이 뭔지 모르겠어요  갠적인 연락은 거의 안하는데 \\n나가 놀고싶은데 더워서 못나가겠다하니 빙수 기프티콘...\n",
       "2  entj         istp 와 entj                      istp 남자 entj 여자 친구로써 궁합 어떤가요?\n",
       "3  entj             estp 친구            estp 동성 친구가 자꾸 카톡을 보내는데 친해지고 싶어서 그런걸까요?\n",
       "4  istp               설거지,,  설거지 해야되는데 하고\\n두시간째 폰보면서 누워있네요\\n분명 설거지하려고 맘 먹었는..."
      ]
     },
     "execution_count": 17,
     "metadata": {},
     "output_type": "execute_result"
    }
   ],
   "source": [
    "# ISTP & ESTP 게시판 크롤링, menuid=15\n",
    "data15 = crawling(15, mbti_group)\n",
    "data15.head(5)"
   ]
  },
  {
   "cell_type": "code",
   "execution_count": 18,
   "metadata": {},
   "outputs": [],
   "source": [
    "data15.to_pickle('menuid=15 crawling.pkl')\n",
    "\n",
    "with open(\"./data15.pickle\", \"wb\") as MyFile:\n",
    "    pickle.dump(data15, MyFile)"
   ]
  },
  {
   "cell_type": "code",
   "execution_count": 19,
   "metadata": {},
   "outputs": [
    {
     "data": {
      "text/html": [
       "<div>\n",
       "<style scoped>\n",
       "    .dataframe tbody tr th:only-of-type {\n",
       "        vertical-align: middle;\n",
       "    }\n",
       "\n",
       "    .dataframe tbody tr th {\n",
       "        vertical-align: top;\n",
       "    }\n",
       "\n",
       "    .dataframe thead th {\n",
       "        text-align: right;\n",
       "    }\n",
       "</style>\n",
       "<table border=\"1\" class=\"dataframe\">\n",
       "  <thead>\n",
       "    <tr style=\"text-align: right;\">\n",
       "      <th></th>\n",
       "      <th>mbti</th>\n",
       "      <th>title</th>\n",
       "      <th>content</th>\n",
       "    </tr>\n",
       "  </thead>\n",
       "  <tbody>\n",
       "    <tr>\n",
       "      <th>0</th>\n",
       "      <td>infj</td>\n",
       "      <td>심심한 밤 인프제 남 질문받아요~ 다시 돌아온 상담소</td>\n",
       "      <td>안녕 칭구들!! 댕댕이 아조씨야!</td>\n",
       "    </tr>\n",
       "    <tr>\n",
       "      <th>1</th>\n",
       "      <td>istp</td>\n",
       "      <td>ENFJ가 부모가되면 어떤 성격인가요?</td>\n",
       "      <td>ENFJ유형이 부모가 되면 어떤 성격이실지궁금해요 \\n예상이나 상상도 괜찮습니당 내...</td>\n",
       "    </tr>\n",
       "    <tr>\n",
       "      <th>2</th>\n",
       "      <td>infp</td>\n",
       "      <td>Infj 거리 둘 마음이면 뭐 안받겠죠?</td>\n",
       "      <td>별 일은 없는데\\n저혼자 괜히 신경쓰이는 게 있어서 (불안형이라 ㅠ)\\n혹시 인프제...</td>\n",
       "    </tr>\n",
       "    <tr>\n",
       "      <th>3</th>\n",
       "      <td>infp</td>\n",
       "      <td>INFJ가 되고싶습니다!</td>\n",
       "      <td>INFJ가 되고 싶은 INFP입니다!\\nINFJ의 성숙함과 성실함이 너무 보기 좋아...</td>\n",
       "    </tr>\n",
       "    <tr>\n",
       "      <th>4</th>\n",
       "      <td>infj</td>\n",
       "      <td>인프제 &amp; 엔팁이 궁합최고인 이유</td>\n",
       "      <td>( 엔팁 남편과 궁합이 너무 잘 맞는\\n인프제 아내가 쓰는 글 😉💙)\\n**상당히 ...</td>\n",
       "    </tr>\n",
       "  </tbody>\n",
       "</table>\n",
       "</div>"
      ],
      "text/plain": [
       "   mbti                          title  \\\n",
       "0  infj  심심한 밤 인프제 남 질문받아요~ 다시 돌아온 상담소   \n",
       "1  istp          ENFJ가 부모가되면 어떤 성격인가요?   \n",
       "2  infp         Infj 거리 둘 마음이면 뭐 안받겠죠?   \n",
       "3  infp                  INFJ가 되고싶습니다!   \n",
       "4  infj             인프제 & 엔팁이 궁합최고인 이유   \n",
       "\n",
       "                                             content  \n",
       "0                                 안녕 칭구들!! 댕댕이 아조씨야!  \n",
       "1  ENFJ유형이 부모가 되면 어떤 성격이실지궁금해요 \\n예상이나 상상도 괜찮습니당 내...  \n",
       "2  별 일은 없는데\\n저혼자 괜히 신경쓰이는 게 있어서 (불안형이라 ㅠ)\\n혹시 인프제...  \n",
       "3  INFJ가 되고 싶은 INFP입니다!\\nINFJ의 성숙함과 성실함이 너무 보기 좋아...  \n",
       "4  ( 엔팁 남편과 궁합이 너무 잘 맞는\\n인프제 아내가 쓰는 글 😉💙)\\n**상당히 ...  "
      ]
     },
     "execution_count": 19,
     "metadata": {},
     "output_type": "execute_result"
    }
   ],
   "source": [
    "# INFJ & ENFJ 게시판 크롤링, menuid=14\n",
    "data14 = crawling(14, mbti_group)\n",
    "data14.head(5)"
   ]
  },
  {
   "cell_type": "code",
   "execution_count": 20,
   "metadata": {},
   "outputs": [],
   "source": [
    "data14.to_pickle('menuid=14 crawling.pkl')\n",
    "\n",
    "with open(\"./data14.pickle\", \"wb\") as MyFile:\n",
    "    pickle.dump(data14, MyFile)"
   ]
  },
  {
   "cell_type": "code",
   "execution_count": 21,
   "metadata": {},
   "outputs": [
    {
     "data": {
      "text/html": [
       "<div>\n",
       "<style scoped>\n",
       "    .dataframe tbody tr th:only-of-type {\n",
       "        vertical-align: middle;\n",
       "    }\n",
       "\n",
       "    .dataframe tbody tr th {\n",
       "        vertical-align: top;\n",
       "    }\n",
       "\n",
       "    .dataframe thead th {\n",
       "        text-align: right;\n",
       "    }\n",
       "</style>\n",
       "<table border=\"1\" class=\"dataframe\">\n",
       "  <thead>\n",
       "    <tr style=\"text-align: right;\">\n",
       "      <th></th>\n",
       "      <th>mbti</th>\n",
       "      <th>title</th>\n",
       "      <th>content</th>\n",
       "    </tr>\n",
       "  </thead>\n",
       "  <tbody>\n",
       "    <tr>\n",
       "      <th>0</th>\n",
       "      <td>istp</td>\n",
       "      <td>이사람 isfj 인데 이사람이 ㄸㄹㅇ인가요 아님 특징인가요</td>\n",
       "      <td>하나라도 손해보기 싫어하고 자기가 손해인지 아닌지 \\n하나하나 계산해봄 (이과정이더...</td>\n",
       "    </tr>\n",
       "    <tr>\n",
       "      <th>1</th>\n",
       "      <td>esfj</td>\n",
       "      <td>당일치기로 서울 다녀오기</td>\n",
       "      <td>김포 갈때\\n다시 김해로</td>\n",
       "    </tr>\n",
       "    <tr>\n",
       "      <th>2</th>\n",
       "      <td>entp</td>\n",
       "      <td>잇프제 아내가 좋아하는 말</td>\n",
       "      <td>여자친구와는 대학교 CC로 만나 일주일에 6일을 만났고, 별일 없으면 주말에는 하루...</td>\n",
       "    </tr>\n",
       "    <tr>\n",
       "      <th>3</th>\n",
       "      <td>esfj</td>\n",
       "      <td>엣프제 질문받을게요:)</td>\n",
       "      <td>이런거 처음 해보네요!\\n정식검사로 나온 찐 엣프제입니당\\n궁금하신점 있으시담 질문...</td>\n",
       "    </tr>\n",
       "    <tr>\n",
       "      <th>4</th>\n",
       "      <td>entp</td>\n",
       "      <td>잇프제분들 질문있어여!!!!!!</td>\n",
       "      <td>저 댓글달다가 너무너무 궁금해져서 달려왔자나여 \\n저 엔팁이라 왜살인마라서 ㅋㅋㅋㅋ...</td>\n",
       "    </tr>\n",
       "  </tbody>\n",
       "</table>\n",
       "</div>"
      ],
      "text/plain": [
       "   mbti                             title  \\\n",
       "0  istp  이사람 isfj 인데 이사람이 ㄸㄹㅇ인가요 아님 특징인가요   \n",
       "1  esfj                     당일치기로 서울 다녀오기   \n",
       "2  entp                    잇프제 아내가 좋아하는 말   \n",
       "3  esfj                      엣프제 질문받을게요:)   \n",
       "4  entp                 잇프제분들 질문있어여!!!!!!   \n",
       "\n",
       "                                             content  \n",
       "0  하나라도 손해보기 싫어하고 자기가 손해인지 아닌지 \\n하나하나 계산해봄 (이과정이더...  \n",
       "1                                      김포 갈때\\n다시 김해로  \n",
       "2  여자친구와는 대학교 CC로 만나 일주일에 6일을 만났고, 별일 없으면 주말에는 하루...  \n",
       "3  이런거 처음 해보네요!\\n정식검사로 나온 찐 엣프제입니당\\n궁금하신점 있으시담 질문...  \n",
       "4  저 댓글달다가 너무너무 궁금해져서 달려왔자나여 \\n저 엔팁이라 왜살인마라서 ㅋㅋㅋㅋ...  "
      ]
     },
     "execution_count": 21,
     "metadata": {},
     "output_type": "execute_result"
    }
   ],
   "source": [
    "# ISFJ & ESFJ 게시판 크롤링, menuid=13\n",
    "data13 = crawling(13, mbti_group)\n",
    "data13.head(5)"
   ]
  },
  {
   "cell_type": "code",
   "execution_count": 22,
   "metadata": {},
   "outputs": [],
   "source": [
    "data13.to_pickle('menuid=13 crawling.pkl')\n",
    "\n",
    "with open(\"./data13.pickle\", \"wb\") as MyFile:\n",
    "    pickle.dump(data13, MyFile)"
   ]
  },
  {
   "cell_type": "code",
   "execution_count": 23,
   "metadata": {},
   "outputs": [
    {
     "data": {
      "text/html": [
       "<div>\n",
       "<style scoped>\n",
       "    .dataframe tbody tr th:only-of-type {\n",
       "        vertical-align: middle;\n",
       "    }\n",
       "\n",
       "    .dataframe tbody tr th {\n",
       "        vertical-align: top;\n",
       "    }\n",
       "\n",
       "    .dataframe thead th {\n",
       "        text-align: right;\n",
       "    }\n",
       "</style>\n",
       "<table border=\"1\" class=\"dataframe\">\n",
       "  <thead>\n",
       "    <tr style=\"text-align: right;\">\n",
       "      <th></th>\n",
       "      <th>mbti</th>\n",
       "      <th>title</th>\n",
       "      <th>content</th>\n",
       "    </tr>\n",
       "  </thead>\n",
       "  <tbody>\n",
       "    <tr>\n",
       "      <th>0</th>\n",
       "      <td>intj</td>\n",
       "      <td>이별 기념 INTJ 질문받아요 ㅋㅋ</td>\n",
       "      <td>꽁하고 땅굴 팔바에 그냥 공부하고 다른 걸 하면서 시간 떼우는게 멘탈회복에 좋다는 ...</td>\n",
       "    </tr>\n",
       "    <tr>\n",
       "      <th>1</th>\n",
       "      <td>entj</td>\n",
       "      <td>ENTJ 8w7 알려주실분</td>\n",
       "      <td>카페에서 놀다가 8w7 이런 식의 닉네임이 있길래 알아보다보니 애니어그램이더라구요....</td>\n",
       "    </tr>\n",
       "    <tr>\n",
       "      <th>2</th>\n",
       "      <td>entj</td>\n",
       "      <td>엔티제 자기소개</td>\n",
       "      <td>계획적 + 추진력좋음 = 바로 실행가능한 계획을 많이세움 (시뮬돌려보구 터무니없음 ...</td>\n",
       "    </tr>\n",
       "    <tr>\n",
       "      <th>3</th>\n",
       "      <td>entj</td>\n",
       "      <td>ENTJ가 이성에게 호감을 갖게 되는 몇가지 단계들</td>\n",
       "      <td>글에 앞서 분명하게 밝힐것은\\n당연히 사람마다 다 다르다는것이다\\n나는 이 아래의 ...</td>\n",
       "    </tr>\n",
       "    <tr>\n",
       "      <th>4</th>\n",
       "      <td>intj</td>\n",
       "      <td>하루종일 수많은 생각에 둥둥 떠다니는 느낌(INTJ)</td>\n",
       "      <td>정말정말 사소한 건데도 심각할 정도로 분석하고 따지게 돼요.\\nA를 할까 B를 할까...</td>\n",
       "    </tr>\n",
       "  </tbody>\n",
       "</table>\n",
       "</div>"
      ],
      "text/plain": [
       "   mbti                          title  \\\n",
       "0  intj            이별 기념 INTJ 질문받아요 ㅋㅋ   \n",
       "1  entj                 ENTJ 8w7 알려주실분   \n",
       "2  entj                       엔티제 자기소개   \n",
       "3  entj   ENTJ가 이성에게 호감을 갖게 되는 몇가지 단계들   \n",
       "4  intj  하루종일 수많은 생각에 둥둥 떠다니는 느낌(INTJ)   \n",
       "\n",
       "                                             content  \n",
       "0  꽁하고 땅굴 팔바에 그냥 공부하고 다른 걸 하면서 시간 떼우는게 멘탈회복에 좋다는 ...  \n",
       "1  카페에서 놀다가 8w7 이런 식의 닉네임이 있길래 알아보다보니 애니어그램이더라구요....  \n",
       "2  계획적 + 추진력좋음 = 바로 실행가능한 계획을 많이세움 (시뮬돌려보구 터무니없음 ...  \n",
       "3  글에 앞서 분명하게 밝힐것은\\n당연히 사람마다 다 다르다는것이다\\n나는 이 아래의 ...  \n",
       "4  정말정말 사소한 건데도 심각할 정도로 분석하고 따지게 돼요.\\nA를 할까 B를 할까...  "
      ]
     },
     "execution_count": 23,
     "metadata": {},
     "output_type": "execute_result"
    }
   ],
   "source": [
    "# INTJ & ENTJ 게시판 크롤링, menuid=12\n",
    "data12 = crawling(12, mbti_group)\n",
    "data12.head(5)"
   ]
  },
  {
   "cell_type": "code",
   "execution_count": 24,
   "metadata": {},
   "outputs": [],
   "source": [
    "data12.to_pickle('menuid=12 crawling.pkl')\n",
    "\n",
    "with open(\"./data12.pickle\", \"wb\") as MyFile:\n",
    "    pickle.dump(data12, MyFile)"
   ]
  },
  {
   "cell_type": "code",
   "execution_count": 25,
   "metadata": {},
   "outputs": [
    {
     "data": {
      "text/html": [
       "<div>\n",
       "<style scoped>\n",
       "    .dataframe tbody tr th:only-of-type {\n",
       "        vertical-align: middle;\n",
       "    }\n",
       "\n",
       "    .dataframe tbody tr th {\n",
       "        vertical-align: top;\n",
       "    }\n",
       "\n",
       "    .dataframe thead th {\n",
       "        text-align: right;\n",
       "    }\n",
       "</style>\n",
       "<table border=\"1\" class=\"dataframe\">\n",
       "  <thead>\n",
       "    <tr style=\"text-align: right;\">\n",
       "      <th></th>\n",
       "      <th>mbti</th>\n",
       "      <th>title</th>\n",
       "      <th>content</th>\n",
       "    </tr>\n",
       "  </thead>\n",
       "  <tbody>\n",
       "    <tr>\n",
       "      <th>0</th>\n",
       "      <td>isfj</td>\n",
       "      <td>istj 여성분을 좋아하는데 이 분이 무슨 마음인걸까요?</td>\n",
       "      <td>전반적인 상황은\\n- 상대방 istj,  대화, 카톡 등등 감정기복 거의 없는 로보...</td>\n",
       "    </tr>\n",
       "    <tr>\n",
       "      <th>1</th>\n",
       "      <td>enfp</td>\n",
       "      <td>ESTJ 남자한테 꽃?을 받았는데..</td>\n",
       "      <td>동네 모임에서 알게된 남자고 여러명이서 두번정도 그냥 인사정도만하고,\\n둘이 그냥 ...</td>\n",
       "    </tr>\n",
       "    <tr>\n",
       "      <th>2</th>\n",
       "      <td>istp</td>\n",
       "      <td>연인간 결혼얘기하면 짜증나는 분</td>\n",
       "      <td>네 접니다,, \\n그동안 남친들이 \"우리 나중에 애 몇명 낳고~ 어디 살고~\"\\n이...</td>\n",
       "    </tr>\n",
       "    <tr>\n",
       "      <th>3</th>\n",
       "      <td>estj</td>\n",
       "      <td>인간 관계를 포기하게돼요</td>\n",
       "      <td>예전에는 누구랑 말싸움하는 상황이 되면, 무조건 내 말 인정하게 납득시켰어요.\\n어...</td>\n",
       "    </tr>\n",
       "    <tr>\n",
       "      <th>4</th>\n",
       "      <td>enfp</td>\n",
       "      <td>잇티제가 오래 본 이성을 선호하는 이유</td>\n",
       "      <td>잇티제 관련 글을 보다 보면 사귀기 전에 이성을 오랫동안 본다는 글이 많더라구요!!...</td>\n",
       "    </tr>\n",
       "  </tbody>\n",
       "</table>\n",
       "</div>"
      ],
      "text/plain": [
       "   mbti                            title  \\\n",
       "0  isfj  istj 여성분을 좋아하는데 이 분이 무슨 마음인걸까요?   \n",
       "1  enfp             ESTJ 남자한테 꽃?을 받았는데..   \n",
       "2  istp                연인간 결혼얘기하면 짜증나는 분   \n",
       "3  estj                    인간 관계를 포기하게돼요   \n",
       "4  enfp            잇티제가 오래 본 이성을 선호하는 이유   \n",
       "\n",
       "                                             content  \n",
       "0  전반적인 상황은\\n- 상대방 istj,  대화, 카톡 등등 감정기복 거의 없는 로보...  \n",
       "1  동네 모임에서 알게된 남자고 여러명이서 두번정도 그냥 인사정도만하고,\\n둘이 그냥 ...  \n",
       "2  네 접니다,, \\n그동안 남친들이 \"우리 나중에 애 몇명 낳고~ 어디 살고~\"\\n이...  \n",
       "3  예전에는 누구랑 말싸움하는 상황이 되면, 무조건 내 말 인정하게 납득시켰어요.\\n어...  \n",
       "4  잇티제 관련 글을 보다 보면 사귀기 전에 이성을 오랫동안 본다는 글이 많더라구요!!...  "
      ]
     },
     "execution_count": 25,
     "metadata": {},
     "output_type": "execute_result"
    }
   ],
   "source": [
    "# ISTJ & ESTJ 게시판 크롤링, menuid=11\n",
    "data11 = crawling(11, mbti_group)\n",
    "data11.head(5)"
   ]
  },
  {
   "cell_type": "code",
   "execution_count": 26,
   "metadata": {},
   "outputs": [],
   "source": [
    "data11.to_pickle('menuid=11 crawling.pkl')\n",
    "\n",
    "with open(\"./data11.pickle\", \"wb\") as MyFile:\n",
    "    pickle.dump(data11, MyFile)"
   ]
  }
 ],
 "metadata": {
  "kernelspec": {
   "display_name": "Python 3",
   "language": "python",
   "name": "python3"
  },
  "language_info": {
   "codemirror_mode": {
    "name": "ipython",
    "version": 3
   },
   "file_extension": ".py",
   "mimetype": "text/x-python",
   "name": "python",
   "nbconvert_exporter": "python",
   "pygments_lexer": "ipython3",
   "version": "3.8.5"
  }
 },
 "nbformat": 4,
 "nbformat_minor": 5
}

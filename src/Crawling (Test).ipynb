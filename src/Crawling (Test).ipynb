{
 "cells": [
  {
   "cell_type": "markdown",
   "id": "e4714a91",
   "metadata": {},
   "source": [
    "### 기본 세팅\n",
    "작동 시간이 너무 빠르면 자동툴로 인식하는 경우가 있어 계속 sleep을 걸음"
   ]
  },
  {
   "cell_type": "code",
   "execution_count": 1,
   "id": "e7e1aca5",
   "metadata": {},
   "outputs": [],
   "source": [
    "import os\n",
    "import time\n",
    "import pandas as pd\n",
    "\n",
    "from selenium import webdriver\n",
    "import pyperclip\n",
    "from selenium.webdriver import ActionChains\n",
    "from selenium.webdriver.common.keys import Keys\n",
    "\n",
    "from bs4 import BeautifulSoup "
   ]
  },
  {
   "cell_type": "code",
   "execution_count": 2,
   "id": "5ad9d8ae",
   "metadata": {},
   "outputs": [],
   "source": [
    "# 셀레니움 드라이버로 웹 실행\n",
    "driver = webdriver.Chrome('chromedriver.exe')\n",
    "driver.implicitly_wait(3)"
   ]
  },
  {
   "cell_type": "code",
   "execution_count": 3,
   "id": "e5d27157",
   "metadata": {},
   "outputs": [],
   "source": [
    "# 클립보드에 input을 복사하고, ActionChain을 이용해 복사 내용을 로그인 폼에 붙여넣기\n",
    "def copy_input(xpath, input):\n",
    "    pyperclip.copy(input)\n",
    "    driver.find_element_by_xpath(xpath).click()\n",
    "    ActionChains(driver).key_down(Keys.CONTROL).send_keys('v').key_up(Keys.CONTROL).perform()\n",
    "    time.sleep(1)"
   ]
  },
  {
   "cell_type": "code",
   "execution_count": 4,
   "id": "e6832b47",
   "metadata": {},
   "outputs": [],
   "source": [
    "# 네이버 id & pw 입력\n",
    "naver_id = ''\n",
    "naver_pw = ''"
   ]
  },
  {
   "cell_type": "code",
   "execution_count": 5,
   "id": "acc11e59",
   "metadata": {},
   "outputs": [],
   "source": [
    "# 네이버 로그인 \n",
    "driver.get('https://nid.naver.com/nidlogin.login')             \n",
    "time.sleep(1)\n",
    "\n",
    "copy_input('//*[@id=\"id\"]', naver_id)\n",
    "time.sleep(1)\n",
    "copy_input('//*[@id=\"pw\"]', naver_pw)\n",
    "time.sleep(1)\n",
    "\n",
    "driver.find_element_by_xpath('//*[@id=\"frmNIDLogin\"]/fieldset/input').click()"
   ]
  },
  {
   "cell_type": "markdown",
   "id": "edb39a71",
   "metadata": {},
   "source": [
    "### 주소 및 닉네임 크롤링 테스트\n",
    "INFP & ENFP 게시판: menuid=18"
   ]
  },
  {
   "cell_type": "code",
   "execution_count": 6,
   "id": "3c0a85f5",
   "metadata": {},
   "outputs": [],
   "source": [
    "page = 0\n",
    "address = []\n",
    "nickname = []\n",
    "\n",
    "while page <= 1:\n",
    "    try:\n",
    "        # 페이지 및 iframe 전환\n",
    "        page += 1\n",
    "        driver.get(f\"https://cafe.naver.com/ArticleList.nhn?search.clubid=11856775&search.menuid=18&search.boardtype=L&search.page={page}\")\n",
    "        driver.switch_to.frame(\"cafe_main\")\n",
    "        \n",
    "        # 더이상 게시글이 없을 경우\n",
    "        try:\n",
    "            if driver.find_element_by_class_name(\"nodata\").text == '등록된 게시글이 없습니다.':\n",
    "                break\n",
    "        except:\n",
    "            pass\n",
    "        \n",
    "        # 페이지당 주소 및 닉네임 20개 크롤링\n",
    "        for i in range(1, 31, 1):\n",
    "            address.append(driver.find_element_by_xpath(f\"/html/body/div[1]/div/div[4]/table/tbody/tr[{i}]/td[1]/div[2]/div/a[1]\").get_attribute(\"href\"))\n",
    "            nickname.append(driver.find_element_by_xpath(f\"/html/body/div[1]/div/div[4]/table/tbody/tr[{i}]/td[2]/div/table/tbody/tr/td/a\").get_attribute(\"onclick\"))\n",
    "                            \n",
    "        # 기존 웹페이지로 복귀\n",
    "        driver.switch_to.default_content()   \n",
    "        \n",
    "    except:\n",
    "        pass"
   ]
  },
  {
   "cell_type": "code",
   "execution_count": 7,
   "id": "2d523412",
   "metadata": {},
   "outputs": [
    {
     "data": {
      "text/plain": [
       "['https://cafe.naver.com/ArticleRead.nhn?clubid=11856775&page=1&menuid=18&boardtype=L&articleid=504815&referrerAllArticles=false',\n",
       " 'https://cafe.naver.com/ArticleRead.nhn?clubid=11856775&page=1&menuid=18&boardtype=L&articleid=504799&referrerAllArticles=false',\n",
       " 'https://cafe.naver.com/ArticleRead.nhn?clubid=11856775&page=1&menuid=18&boardtype=L&articleid=504783&referrerAllArticles=false',\n",
       " 'https://cafe.naver.com/ArticleRead.nhn?clubid=11856775&page=1&menuid=18&boardtype=L&articleid=504778&referrerAllArticles=false',\n",
       " 'https://cafe.naver.com/ArticleRead.nhn?clubid=11856775&page=1&menuid=18&boardtype=L&articleid=504759&referrerAllArticles=false',\n",
       " 'https://cafe.naver.com/ArticleRead.nhn?clubid=11856775&page=1&menuid=18&boardtype=L&articleid=504751&referrerAllArticles=false',\n",
       " 'https://cafe.naver.com/ArticleRead.nhn?clubid=11856775&page=1&menuid=18&boardtype=L&articleid=504738&referrerAllArticles=false',\n",
       " 'https://cafe.naver.com/ArticleRead.nhn?clubid=11856775&page=1&menuid=18&boardtype=L&articleid=504736&referrerAllArticles=false',\n",
       " 'https://cafe.naver.com/ArticleRead.nhn?clubid=11856775&page=1&menuid=18&boardtype=L&articleid=504726&referrerAllArticles=false',\n",
       " 'https://cafe.naver.com/ArticleRead.nhn?clubid=11856775&page=1&menuid=18&boardtype=L&articleid=504663&referrerAllArticles=false',\n",
       " 'https://cafe.naver.com/ArticleRead.nhn?clubid=11856775&page=1&menuid=18&boardtype=L&articleid=504627&referrerAllArticles=false',\n",
       " 'https://cafe.naver.com/ArticleRead.nhn?clubid=11856775&page=1&menuid=18&boardtype=L&articleid=504619&referrerAllArticles=false',\n",
       " 'https://cafe.naver.com/ArticleRead.nhn?clubid=11856775&page=1&menuid=18&boardtype=L&articleid=504611&referrerAllArticles=false',\n",
       " 'https://cafe.naver.com/ArticleRead.nhn?clubid=11856775&page=1&menuid=18&boardtype=L&articleid=504569&referrerAllArticles=false',\n",
       " 'https://cafe.naver.com/ArticleRead.nhn?clubid=11856775&page=1&menuid=18&boardtype=L&articleid=504535&referrerAllArticles=false',\n",
       " 'https://cafe.naver.com/ArticleRead.nhn?clubid=11856775&page=2&menuid=18&boardtype=L&articleid=504528&referrerAllArticles=false',\n",
       " 'https://cafe.naver.com/ArticleRead.nhn?clubid=11856775&page=2&menuid=18&boardtype=L&articleid=504499&referrerAllArticles=false',\n",
       " 'https://cafe.naver.com/ArticleRead.nhn?clubid=11856775&page=2&menuid=18&boardtype=L&articleid=504495&referrerAllArticles=false',\n",
       " 'https://cafe.naver.com/ArticleRead.nhn?clubid=11856775&page=2&menuid=18&boardtype=L&articleid=504482&referrerAllArticles=false',\n",
       " 'https://cafe.naver.com/ArticleRead.nhn?clubid=11856775&page=2&menuid=18&boardtype=L&articleid=504478&referrerAllArticles=false',\n",
       " 'https://cafe.naver.com/ArticleRead.nhn?clubid=11856775&page=2&menuid=18&boardtype=L&articleid=504463&referrerAllArticles=false',\n",
       " 'https://cafe.naver.com/ArticleRead.nhn?clubid=11856775&page=2&menuid=18&boardtype=L&articleid=504450&referrerAllArticles=false',\n",
       " 'https://cafe.naver.com/ArticleRead.nhn?clubid=11856775&page=2&menuid=18&boardtype=L&articleid=504444&referrerAllArticles=false',\n",
       " 'https://cafe.naver.com/ArticleRead.nhn?clubid=11856775&page=2&menuid=18&boardtype=L&articleid=504422&referrerAllArticles=false',\n",
       " 'https://cafe.naver.com/ArticleRead.nhn?clubid=11856775&page=2&menuid=18&boardtype=L&articleid=504414&referrerAllArticles=false',\n",
       " 'https://cafe.naver.com/ArticleRead.nhn?clubid=11856775&page=2&menuid=18&boardtype=L&articleid=504398&referrerAllArticles=false',\n",
       " 'https://cafe.naver.com/ArticleRead.nhn?clubid=11856775&page=2&menuid=18&boardtype=L&articleid=504258&referrerAllArticles=false',\n",
       " 'https://cafe.naver.com/ArticleRead.nhn?clubid=11856775&page=2&menuid=18&boardtype=L&articleid=504239&referrerAllArticles=false',\n",
       " 'https://cafe.naver.com/ArticleRead.nhn?clubid=11856775&page=2&menuid=18&boardtype=L&articleid=504221&referrerAllArticles=false',\n",
       " 'https://cafe.naver.com/ArticleRead.nhn?clubid=11856775&page=2&menuid=18&boardtype=L&articleid=504217&referrerAllArticles=false']"
      ]
     },
     "execution_count": 7,
     "metadata": {},
     "output_type": "execute_result"
    }
   ],
   "source": [
    "# 크롤링한 게시글 주소\n",
    "address"
   ]
  },
  {
   "cell_type": "code",
   "execution_count": 8,
   "id": "a2c3ee8f",
   "metadata": {},
   "outputs": [
    {
     "data": {
      "text/plain": [
       "30"
      ]
     },
     "execution_count": 8,
     "metadata": {},
     "output_type": "execute_result"
    }
   ],
   "source": [
    "len(address)"
   ]
  },
  {
   "cell_type": "code",
   "execution_count": 9,
   "id": "5762cff5",
   "metadata": {},
   "outputs": [
    {
     "data": {
      "text/plain": [
       "[\"ui(event, 'gina4148',3,'누가봐도Entp','11856775','me', 'false', 'true', 'mbticafe', 'false', '18'); return false;\",\n",
       " \"ui(event, 'gggg122',3,'Infp아양이','11856775','me', 'false', 'true', 'mbticafe', 'false', '18'); return false;\",\n",
       " \"ui(event, 'dlforud1523',3,'포에트리 ESFP','11856775','me', 'false', 'true', 'mbticafe', 'false', '18'); return false;\",\n",
       " \"ui(event, 'llrhtnll',3,'주시쿨좋아하는사람','11856775','me', 'false', 'true', 'mbticafe', 'false', '18'); return false;\",\n",
       " \"ui(event, 'koe1012',3,'INFP흰여우','11856775','me', 'false', 'true', 'mbticafe', 'false', '18'); return false;\",\n",
       " \"ui(event, 'y2032ryu',3,'한명의인프피','11856775','me', 'false', 'true', 'mbticafe', 'false', '18'); return false;\",\n",
       " \"ui(event, 'djwls222',3,'오징징어 enfp','11856775','me', 'false', 'true', 'mbticafe', 'false', '18'); return false;\",\n",
       " \"ui(event, 'k0555',3,'찐찐infp','11856775','me', 'false', 'true', 'mbticafe', 'false', '18'); return false;\",\n",
       " \"ui(event, 'heesong04',3,'국화빵ENFP','11856775','me', 'false', 'true', 'mbticafe', 'false', '18'); return false;\",\n",
       " \"ui(event, 'afbuer',3,'ENFP공돌이','11856775','me', 'false', 'true', 'mbticafe', 'false', '18'); return false;\",\n",
       " \"ui(event, 'gmfflaqh',3,'개구리키우는 ENTP','11856775','me', 'false', 'true', 'mbticafe', 'false', '18'); return false;\",\n",
       " \"ui(event, 'gusrud6789',3,'hy ENFP','11856775','me', 'false', 'true', 'mbticafe', 'false', '18'); return false;\",\n",
       " \"ui(event, 'kmj90233',3,'엔프피인간','11856775','me', 'false', 'true', 'mbticafe', 'false', '18'); return false;\",\n",
       " \"ui(event, 'dkfhddl726',3,'치킨나라떡볶이공주','11856775','me', 'false', 'true', 'mbticafe', 'false', '18'); return false;\",\n",
       " \"ui(event, 'pseudodanbi',3,'슈단 isfj','11856775','me', 'false', 'true', 'mbticafe', 'false', '18'); return false;\",\n",
       " \"ui(event, 'daldaldaily',3,'잇팁인데여','11856775','me', 'false', 'true', 'mbticafe', 'false', '18'); return false;\",\n",
       " \"ui(event, 'kimminjoeg',3,'분홍햄빵enfj','11856775','me', 'false', 'true', 'mbticafe', 'false', '18'); return false;\",\n",
       " \"ui(event, 'astros29',3,'뽀로','11856775','me', 'false', 'true', 'mbticafe', 'false', '18'); return false;\",\n",
       " \"ui(event, 'astros29',3,'뽀로','11856775','me', 'false', 'true', 'mbticafe', 'false', '18'); return false;\",\n",
       " \"ui(event, 'eos_t_ld',3,'익명9','11856775','me', 'false', 'true', 'mbticafe', 'false', '18'); return false;\",\n",
       " \"ui(event, 'mj0158',3,'ENFP 편순이','11856775','me', 'false', 'true', 'mbticafe', 'false', '18'); return false;\",\n",
       " \"ui(event, 'astros29',3,'뽀로','11856775','me', 'false', 'true', 'mbticafe', 'false', '18'); return false;\",\n",
       " \"ui(event, 'astros29',3,'뽀로','11856775','me', 'false', 'true', 'mbticafe', 'false', '18'); return false;\",\n",
       " \"ui(event, 'gth06088',3,'INFP로롱','11856775','me', 'false', 'true', 'mbticafe', 'false', '18'); return false;\",\n",
       " \"ui(event, 'usesarah11',3,'ENFJ 나나 8w7','11856775','me', 'false', 'true', 'mbticafe', 'false', '18'); return false;\",\n",
       " \"ui(event, 'stella12190',3,'오우이','11856775','me', 'false', 'true', 'mbticafe', 'false', '18'); return false;\",\n",
       " \"ui(event, 'morningstar5875',3,'별별 ENFP','11856775','me', 'false', 'true', 'mbticafe', 'false', '18'); return false;\",\n",
       " \"ui(event, 'julia_1002',3,'몽쉘xENFP','11856775','me', 'false', 'true', 'mbticafe', 'false', '18'); return false;\",\n",
       " \"ui(event, 'pumpkim9',3,'isfj 여','11856775','me', 'false', 'true', 'mbticafe', 'false', '18'); return false;\",\n",
       " \"ui(event, 'pumpkim9',3,'isfj 여','11856775','me', 'false', 'true', 'mbticafe', 'false', '18'); return false;\"]"
      ]
     },
     "execution_count": 9,
     "metadata": {},
     "output_type": "execute_result"
    }
   ],
   "source": [
    "# 크롤링한 닉네임이 포함되어 있는 onclick 타입\n",
    "nickname"
   ]
  },
  {
   "cell_type": "code",
   "execution_count": 10,
   "id": "61e81ba6",
   "metadata": {},
   "outputs": [
    {
     "data": {
      "text/plain": [
       "30"
      ]
     },
     "execution_count": 10,
     "metadata": {},
     "output_type": "execute_result"
    }
   ],
   "source": [
    "len(nickname)"
   ]
  },
  {
   "cell_type": "code",
   "execution_count": 11,
   "id": "58bb1472",
   "metadata": {},
   "outputs": [
    {
     "data": {
      "text/plain": [
       "\"ui(event, 'gina4148',3,'누가봐도Entp','11856775','me', 'false', 'true', 'mbticafe', 'false', '18'); return false;\""
      ]
     },
     "execution_count": 11,
     "metadata": {},
     "output_type": "execute_result"
    }
   ],
   "source": [
    "nickname[0]"
   ]
  },
  {
   "cell_type": "code",
   "execution_count": 12,
   "id": "c9dd1c38",
   "metadata": {},
   "outputs": [
    {
     "data": {
      "text/plain": [
       "str"
      ]
     },
     "execution_count": 12,
     "metadata": {},
     "output_type": "execute_result"
    }
   ],
   "source": [
    "type(nickname[0])"
   ]
  },
  {
   "cell_type": "markdown",
   "id": "88304b0c",
   "metadata": {},
   "source": [
    "### onclick 타입 nickname에서 mbti 추출"
   ]
  },
  {
   "cell_type": "code",
   "execution_count": 13,
   "id": "2943b4ab",
   "metadata": {},
   "outputs": [
    {
     "data": {
      "text/plain": [
       "16"
      ]
     },
     "execution_count": 13,
     "metadata": {},
     "output_type": "execute_result"
    }
   ],
   "source": [
    "mbti_group = ['intj', 'intp', 'entj', 'entp',\n",
    "              'infj', 'infp', 'enfj', 'enfp',\n",
    "              'istj', 'isfj', 'estj', 'esfj',\n",
    "              'istp', 'isfp', 'estp', 'esfp']\n",
    "len(mbti_group)"
   ]
  },
  {
   "cell_type": "code",
   "execution_count": 14,
   "id": "f2e1b3b6",
   "metadata": {},
   "outputs": [],
   "source": [
    "# onclick 타입 nickname 소문자화\n",
    "for i in range(len(nickname)):\n",
    "    nickname[i] = nickname[i].lower()"
   ]
  },
  {
   "cell_type": "code",
   "execution_count": 15,
   "id": "6ce0c186",
   "metadata": {},
   "outputs": [],
   "source": [
    "drop_idx = []   \n",
    "\n",
    "for i in range(len(nickname)):\n",
    "    check_cnt = 0\n",
    "    \n",
    "    for mbti in mbti_group:        \n",
    "        # 닉네임에 mbti가 포함된 경우 닉네임을 mbti화\n",
    "        if mbti in nickname[i]:\n",
    "            nickname[i] = mbti\n",
    "        \n",
    "        # 닉네임에 mbti가 포함되지 않은 경우\n",
    "        if mbti not in nickname[i]:\n",
    "            check_cnt += 1\n",
    "        \n",
    "    # 닉네임에 mbti가 아예 없을 경우 해당 인덱스 저장\n",
    "    if check_cnt == 16:\n",
    "        drop_idx.append(i)"
   ]
  },
  {
   "cell_type": "code",
   "execution_count": 16,
   "id": "8ed9ad58",
   "metadata": {
    "scrolled": true
   },
   "outputs": [
    {
     "data": {
      "text/plain": [
       "['entp',\n",
       " 'infp',\n",
       " 'esfp',\n",
       " \"ui(event, 'llrhtnll',3,'주시쿨좋아하는사람','11856775','me', 'false', 'true', 'mbticafe', 'false', '18'); return false;\",\n",
       " 'infp',\n",
       " \"ui(event, 'y2032ryu',3,'한명의인프피','11856775','me', 'false', 'true', 'mbticafe', 'false', '18'); return false;\",\n",
       " 'enfp',\n",
       " 'infp',\n",
       " 'enfp',\n",
       " 'enfp',\n",
       " 'entp',\n",
       " 'enfp',\n",
       " \"ui(event, 'kmj90233',3,'엔프피인간','11856775','me', 'false', 'true', 'mbticafe', 'false', '18'); return false;\",\n",
       " \"ui(event, 'dkfhddl726',3,'치킨나라떡볶이공주','11856775','me', 'false', 'true', 'mbticafe', 'false', '18'); return false;\",\n",
       " 'isfj',\n",
       " \"ui(event, 'daldaldaily',3,'잇팁인데여','11856775','me', 'false', 'true', 'mbticafe', 'false', '18'); return false;\",\n",
       " 'enfj',\n",
       " \"ui(event, 'astros29',3,'뽀로','11856775','me', 'false', 'true', 'mbticafe', 'false', '18'); return false;\",\n",
       " \"ui(event, 'astros29',3,'뽀로','11856775','me', 'false', 'true', 'mbticafe', 'false', '18'); return false;\",\n",
       " \"ui(event, 'eos_t_ld',3,'익명9','11856775','me', 'false', 'true', 'mbticafe', 'false', '18'); return false;\",\n",
       " 'enfp',\n",
       " \"ui(event, 'astros29',3,'뽀로','11856775','me', 'false', 'true', 'mbticafe', 'false', '18'); return false;\",\n",
       " \"ui(event, 'astros29',3,'뽀로','11856775','me', 'false', 'true', 'mbticafe', 'false', '18'); return false;\",\n",
       " 'infp',\n",
       " 'enfj',\n",
       " \"ui(event, 'stella12190',3,'오우이','11856775','me', 'false', 'true', 'mbticafe', 'false', '18'); return false;\",\n",
       " 'enfp',\n",
       " 'enfp',\n",
       " 'isfj',\n",
       " 'isfj']"
      ]
     },
     "execution_count": 16,
     "metadata": {},
     "output_type": "execute_result"
    }
   ],
   "source": [
    "nickname"
   ]
  },
  {
   "cell_type": "code",
   "execution_count": 17,
   "id": "9edac5d0",
   "metadata": {},
   "outputs": [
    {
     "data": {
      "text/plain": [
       "[3, 5, 12, 13, 15, 17, 18, 19, 21, 22, 25]"
      ]
     },
     "execution_count": 17,
     "metadata": {},
     "output_type": "execute_result"
    }
   ],
   "source": [
    "drop_idx   # 닉네임에 mbti가 포함되지 않아 drop할 인덱스"
   ]
  },
  {
   "cell_type": "code",
   "execution_count": 18,
   "id": "b19fab30",
   "metadata": {},
   "outputs": [
    {
     "data": {
      "text/plain": [
       "11"
      ]
     },
     "execution_count": 18,
     "metadata": {},
     "output_type": "execute_result"
    }
   ],
   "source": [
    "len(drop_idx)"
   ]
  },
  {
   "cell_type": "markdown",
   "id": "11fe87ea",
   "metadata": {},
   "source": [
    "### 기존 address, nickname에서 drop_idx에 해당되면 드랍"
   ]
  },
  {
   "cell_type": "code",
   "execution_count": 19,
   "id": "5a7c7700",
   "metadata": {},
   "outputs": [
    {
     "name": "stdout",
     "output_type": "stream",
     "text": [
      " drop전 address 개수: 30\n",
      " drop전 nickname 개수: 30\n"
     ]
    }
   ],
   "source": [
    "print(' drop전 address 개수: {0}'.format( len(address) ))\n",
    "print(' drop전 nickname 개수: {0}'.format( len(nickname) ))"
   ]
  },
  {
   "cell_type": "code",
   "execution_count": 20,
   "id": "1770adbe",
   "metadata": {},
   "outputs": [
    {
     "name": "stdout",
     "output_type": "stream",
     "text": [
      " drop후 address 개수: 19\n",
      " drop후 nickname 개수: 19\n"
     ]
    }
   ],
   "source": [
    "for i in range(len(address)):\n",
    "    \n",
    "    while i in drop_idx:\n",
    "        address.pop(i)\n",
    "        nickname.pop(i)\n",
    "        drop_idx.remove(i)\n",
    "        \n",
    "        for idx in range(len(drop_idx)):\n",
    "            drop_idx[idx] -= 1\n",
    "    \n",
    "print(' drop후 address 개수: {0}'.format( len(address) ))\n",
    "print(' drop후 nickname 개수: {0}'.format( len(nickname) ))"
   ]
  },
  {
   "cell_type": "code",
   "execution_count": 21,
   "id": "5063a70a",
   "metadata": {},
   "outputs": [
    {
     "data": {
      "text/plain": [
       "['entp',\n",
       " 'infp',\n",
       " 'esfp',\n",
       " 'infp',\n",
       " 'enfp',\n",
       " 'infp',\n",
       " 'enfp',\n",
       " 'enfp',\n",
       " 'entp',\n",
       " 'enfp',\n",
       " 'isfj',\n",
       " 'enfj',\n",
       " 'enfp',\n",
       " 'infp',\n",
       " 'enfj',\n",
       " 'enfp',\n",
       " 'enfp',\n",
       " 'isfj',\n",
       " 'isfj']"
      ]
     },
     "execution_count": 21,
     "metadata": {},
     "output_type": "execute_result"
    }
   ],
   "source": [
    "nickname"
   ]
  },
  {
   "cell_type": "markdown",
   "id": "2313eefa",
   "metadata": {},
   "source": [
    "### address, nickname으로 게시글 제목과 본문 추출"
   ]
  },
  {
   "cell_type": "code",
   "execution_count": 34,
   "id": "ac336664",
   "metadata": {},
   "outputs": [],
   "source": [
    "title = []\n",
    "content = []\n",
    "\n",
    "for url in address:\n",
    "    # 페이지 및 iframe 전환\n",
    "    driver.get(url)\n",
    "    driver.switch_to.frame(\"cafe_main\")\n",
    "    soup = BeautifulSoup(driver.page_source, \"html.parser\")\n",
    "\n",
    "    # 제목과 본문 크롤링\n",
    "    cur_title = driver.find_element_by_css_selector(\"h3.title_text\").text\n",
    "    cur_contents = soup.find(\"body\").find_all(\"p\")\n",
    "    #cur_contents = driver.find_element_by_xpath(f\"/html/body/div/div/div/div[2]/div[2]/div[1]/div/div[1]/div/div/div[1]/div/div/div/p\").text\n",
    "    #cur_contents = soup.find(\"p\").find_all(\"span\")\n",
    "\n",
    "    title.append(cur_title)\n",
    "    content.append(cur_contents)"
   ]
  },
  {
   "cell_type": "code",
   "execution_count": null,
   "id": "708b7e4c",
   "metadata": {},
   "outputs": [],
   "source": [
    "/html/body/div/div/div/div[2]/div[2]/div[1]/div/div[1]/div/div/div[1]/div/div/div/p[2]/span\n",
    "/html/body/div/div/div/div[2]/div[2]/div[1]/div/div[1]/div/div/div[1]/div/div/div/p[3]/span\n",
    "\n",
    "/html/body/div/div/div/div[2]/div[2]/div[1]/div/div/p/text()[1]\n",
    "/html/body/div/div/div/div[2]/div[2]/div[1]/div/div/p/text()[2]\n",
    "\n",
    "/html/body/div/div/div/div[2]/div[2]/div[1]/div/div[1]/div/div/div[1]/div/div/div/p/span"
   ]
  },
  {
   "cell_type": "code",
   "execution_count": 35,
   "id": "eb6248b9",
   "metadata": {},
   "outputs": [
    {
     "data": {
      "text/plain": [
       "['엔프피 질문드립니다',\n",
       " '썸기간 연락문제ㅠㅠㅜㅠ',\n",
       " '엔프피 여자 질문..',\n",
       " '내 키보드 고장났댜아아아~입미댜아아...',\n",
       " '인프피가 장난 많이쳐요?ㅋㅋㅋㅋㅋㅋㅋㅋㅋㅋ',\n",
       " 'infp 분들~~',\n",
       " 'ENFP 막내동생 싸우고 난 뒤 쪽지를 줬어요',\n",
       " '역시 엔프피는 직진이었나봐요',\n",
       " '인프피분들 애니어그램 7번이 나오시나요??',\n",
       " '풀리지 않는 질문 여자와 남자는 친구가 될수있는가',\n",
       " '인프피 남자 고민 (도와주세요..)',\n",
       " '잉뿌피 친구가 한 말✨',\n",
       " '요즘 유행하는 ai 필터 써봤는데용!!',\n",
       " '뒤숭숭하고 잠도 안와서 INFP 질문이나 받아엽^^',\n",
       " '여러분 여러분 야라분 여러버ㅜㄴ 인프피 분글 제발요 제발요 제발요',\n",
       " '응팔 mbti 추측',\n",
       " 'enfp/infp 여러분들 재밌게 본 드라마,영화 추천 좀 해주세요',\n",
       " 'ENFP분들 적극적인? 여자 어떠시나요',\n",
       " 'ENFP와 연락']"
      ]
     },
     "execution_count": 35,
     "metadata": {},
     "output_type": "execute_result"
    }
   ],
   "source": [
    "# 크롤링한 게시글 제목\n",
    "title"
   ]
  },
  {
   "cell_type": "code",
   "execution_count": 36,
   "id": "04a597ec",
   "metadata": {},
   "outputs": [
    {
     "data": {
      "text/plain": [
       "[[],\n",
       " [<p class=\"text\">\n",
       "              이 게시글을 카페 캘린더에서 제외하시겠습니까?\n",
       "          </p>,\n",
       "  <p class=\"text\">\n",
       "              이 게시글을 카페 캘린더로 보내시겠습니까?\n",
       "          </p>,\n",
       "  <p class=\"se-text-paragraph se-text-paragraph-align-\" id=\"SE-23fa68e3-7ae8-4731-a93b-63caff1c5ae9\" style=\"\"><span class=\"se-fs- se-ff-\" id=\"SE-404f80de-99c4-40a2-9e25-293ea48f7437\" style=\"\">좀 긴데 제발 읽어주세여ㅜ</span></p>,\n",
       "  <p class=\"se-text-paragraph se-text-paragraph-align-\" id=\"SE-9e487733-00c2-4f91-9ed3-12b14da826a5\" style=\"\"><span class=\"se-fs- se-ff-\" id=\"SE-cc51555b-0b1d-4c02-851c-8041d76ebc73\" style=\"\">​</span></p>,\n",
       "  <p class=\"se-text-paragraph se-text-paragraph-align-\" id=\"SE-8eae3828-17c5-454e-afa3-fa4d9813e8ab\" style=\"\"><span class=\"se-fs- se-ff-\" id=\"SE-a954b132-628f-4bc6-8795-5a18cd7a419c\" style=\"\">​</span></p>,\n",
       "  <p class=\"se-text-paragraph se-text-paragraph-align-\" id=\"SE-9e601caf-74d0-497b-9760-90577ed009c1\" style=\"\"><span class=\"se-fs- se-ff-\" id=\"SE-30ef6f89-8875-45e0-ae50-a6f26f1893d0\" style=\"\">저는 진짜 연락에 집착없는 편이라서ㅜㅠ</span></p>,\n",
       "  <p class=\"se-text-paragraph se-text-paragraph-align-\" id=\"SE-0f605dba-558e-494f-8921-68edd54c2807\" style=\"\"><span class=\"se-fs- se-ff-\" id=\"SE-26f6dda9-b661-4254-a8f1-747d2db8b2c0\" style=\"\">여지껏 연애하면서 게임한다고 연락 늦는 남친들한테도 서운하다 말해본적없고..(실제로 각자 시간을 최대한 존중해주는걸 좋아하는 성격이라..)</span></p>,\n",
       "  <p class=\"se-text-paragraph se-text-paragraph-align-\" id=\"SE-e1fb3fc2-f291-4a25-8149-adf39567db7f\" style=\"\"><span class=\"se-fs- se-ff-\" id=\"SE-631e3085-21c6-499f-a9fa-82ca85329666\" style=\"\">되려 상대방이 저한테 집착이 너무 없는거 같다고 많이 말할 정도였는데 ㅜ</span></p>,\n",
       "  <p class=\"se-text-paragraph se-text-paragraph-align-\" id=\"SE-aca1e2f5-d74e-4183-af45-a68cc5a73c3a\" style=\"\"><span class=\"se-fs- se-ff-\" id=\"SE-20f89dad-ae12-4e94-89f3-b9ed32564c13\" style=\"\">​</span></p>,\n",
       "  <p class=\"se-text-paragraph se-text-paragraph-align-\" id=\"SE-042a7eaa-7d5a-4885-9cfd-66a0a174320e\" style=\"\"><span class=\"se-fs- se-ff-\" id=\"SE-2eb96a4e-cc49-4ea6-b0d1-4709bb29d66a\" style=\"\">연락때문에 스트레스받아보긴 처음이네요😢</span></p>,\n",
       "  <p class=\"se-text-paragraph se-text-paragraph-align-\" id=\"SE-4f7574c4-cc4e-4d54-9347-48073a42f63e\" style=\"\"><span class=\"se-fs- se-ff-\" id=\"SE-0ae262ca-997b-466c-b633-fe9e6905ee19\" style=\"\">​</span></p>,\n",
       "  <p class=\"se-text-paragraph se-text-paragraph-align-\" id=\"SE-c38fe04e-6cc2-4f94-a7bc-ef589f367dc2\" style=\"\"><span class=\"se-fs- se-ff-\" id=\"SE-177bb7df-846e-4438-898a-a5534603a051\" style=\"\">우선 지금만나는 분이(상대방분 남성입니다)</span></p>,\n",
       "  <p class=\"se-text-paragraph se-text-paragraph-align-\" id=\"SE-2c1f6c27-6228-48b2-97da-6e04487b02f0\" style=\"\"><span class=\"se-fs- se-ff-\" id=\"SE-071a0aa8-48dc-41c6-ae74-8064aa8ba468\" style=\"\">​</span></p>,\n",
       "  <p class=\"se-text-paragraph se-text-paragraph-align-\" id=\"SE-4786a5b1-86f5-4515-b900-a3cbaac9376d\" style=\"\"><span class=\"se-fs- se-ff-\" id=\"SE-1c5baf43-0e94-4475-acac-42d04c81c57a\" style=\"\">직접만나면 정말. 너무너무 잘 해줍니다.</span></p>,\n",
       "  <p class=\"se-text-paragraph se-text-paragraph-align-\" id=\"SE-bbd82df8-5373-4070-b934-e0844c874bb0\" style=\"\"><span class=\"se-fs- se-ff-\" id=\"SE-ae31dbcf-16d7-498a-8141-83db13e7ba7d\" style=\"\">눈에서도 꿀떨어지는게 느껴질 정도고. 말이나 행동에서도 배려를 많이해주시고. 나이차 거의 안나는데 돈도 절대 못쓰게하고 자기가 다 계산하려하고.</span></p>,\n",
       "  <p class=\"se-text-paragraph se-text-paragraph-align-\" id=\"SE-023b7340-5548-4589-b8d1-44cc62961a64\" style=\"\"><span class=\"se-fs- se-ff-\" id=\"SE-cdb14536-c01a-4e8d-b264-7fa46c6ff85b\" style=\"\">만날때마다 선물이나 간단한 쪽지같이 뭔가 챙겨와서 주려하고...</span></p>,\n",
       "  <p class=\"se-text-paragraph se-text-paragraph-align-\" id=\"SE-1c51e384-ca4e-43e5-b47d-b95e70f3ffbe\" style=\"\"><span class=\"se-fs- se-ff-\" id=\"SE-2d64ce02-837e-4728-aee8-0f4b8602695d\" style=\"\">​</span></p>,\n",
       "  <p class=\"se-text-paragraph se-text-paragraph-align-\" id=\"SE-e501b13b-398d-47c5-963b-5c03b6b1ac77\" style=\"\"><span class=\"se-fs- se-ff-\" id=\"SE-c0f96714-ba35-43d8-a3e9-92856657d3da\" style=\"\">만나서는 정말 부족한거 없이 너무 완벽한분인데</span></p>,\n",
       "  <p class=\"se-text-paragraph se-text-paragraph-align-\" id=\"SE-30ef58f9-f148-48ae-b992-6e8c95e2255e\" style=\"\"><span class=\"se-fs- se-ff-\" id=\"SE-b07efcc1-3629-4ffa-9218-acb75296dd78\" style=\"\">연락이 너무 안되용ㅋㅋ큐ㅠㅜㅠㅠㅠ😂</span></p>,\n",
       "  <p class=\"se-text-paragraph se-text-paragraph-align-\" id=\"SE-4ba08d54-0bbe-4f17-8c75-21d3a7d1a7ed\" style=\"\"><span class=\"se-fs- se-ff-\" id=\"SE-619148f0-823d-4273-aef8-373cf4394c0b\" style=\"\">​</span></p>,\n",
       "  <p class=\"se-text-paragraph se-text-paragraph-align-\" id=\"SE-4265b5e2-f7cf-4f38-8596-69579def117e\" style=\"\"><span class=\"se-fs- se-ff-\" id=\"SE-99b223b2-2e1d-4907-a63c-ddab67587c4f\" style=\"\">원래도 폰을 손에 잘안들고 다니는분인데</span></p>,\n",
       "  <p class=\"se-text-paragraph se-text-paragraph-align-\" id=\"SE-7a30ba33-ecd6-43bd-9272-eeb232da1ce8\" style=\"\"><span class=\"se-fs- se-ff-\" id=\"SE-3b1cea5e-fff3-45e4-b56c-59e62f3a4fa8\" style=\"\">(평소에  직업때문에 가방들고다니시는데 주머니나 손이아니라 가방에 폰을 집어 넣고 다니고,</span></p>,\n",
       "  <p class=\"se-text-paragraph se-text-paragraph-align-\" id=\"SE-75559d03-cec1-405b-902f-a05ba07f1ac5\" style=\"\"><span class=\"se-fs- se-ff-\" id=\"SE-377fc512-a3a1-4f73-875f-9671f0d086bf\" style=\"\">카페에서 그분이 손님이고 저는 알바생일때 제가 연락처 먼저 드려 현재 썸타는중인데</span></p>,\n",
       "  <p class=\"se-text-paragraph se-text-paragraph-align-\" id=\"SE-ba973e16-4b07-489f-a328-ba91c850f369\" style=\"\"><span class=\"se-fs- se-ff-\" id=\"SE-7971e6d4-f34e-4256-88f5-6e72a325fb11\" style=\"\">카페에 손님으로 있을때도 폰만지는걸 한번도 본적이없어서.. 저분은 폰이 없나 싶은 생각이 들정도긴 했어요 ㅜ)</span></p>,\n",
       "  <p class=\"se-text-paragraph se-text-paragraph-align-\" id=\"SE-15dc5937-96b1-4771-914f-03491020ee9b\" style=\"\"><span class=\"se-fs- se-ff-\" id=\"SE-bddee9d9-c738-4ec9-9f48-bd55d66bb418\" style=\"\">​</span></p>,\n",
       "  <p class=\"se-text-paragraph se-text-paragraph-align-\" id=\"SE-7a94a17d-8119-4238-98c1-eed8ddea71c4\" style=\"\"><span class=\"se-fs- se-ff-\" id=\"SE-d19cc6c5-117c-4610-a7c9-4e4436369fd2\" style=\"\">일이나 뭐에 집중할땐 더 연락을 잘 안보시는분 같고..</span></p>,\n",
       "  <p class=\"se-text-paragraph se-text-paragraph-align-\" id=\"SE-9ac9e580-8f21-45ee-914c-4397b9decf4a\" style=\"\"><span class=\"se-fs- se-ff-\" id=\"SE-c5dc43e4-bdad-4e81-8b65-358b3d46c74d\" style=\"\">애당초 연락을 그렇게 주변지인들이랑도  자주하는 성격인 분은 아닌것 같고...</span></p>,\n",
       "  <p class=\"se-text-paragraph se-text-paragraph-align-\" id=\"SE-04c1ed45-3eb2-4390-aa42-8bcde27ea85f\" style=\"\"><span class=\"se-fs- se-ff-\" id=\"SE-d661f1ab-89c3-414a-b4a4-09377213feb6\" style=\"\">선톡을 즐기는 분도 아닌거 같고..</span></p>,\n",
       "  <p class=\"se-text-paragraph se-text-paragraph-align-\" id=\"SE-9717bb52-e5fa-463e-b02e-b85b3a46bf59\" style=\"\"><span class=\"se-fs- se-ff-\" id=\"SE-4ea3830b-0ea0-4f22-bcf9-76973533ba62\" style=\"\">(제가 제 전화번호 관심있다하면서 카페에서 연락처 적힌 쪽지 드렸을때도 첫날에 죙일 연락안오길래 '아 나한테 관심없었나 보다' 하고 마음접으려했더니</span></p>,\n",
       "  <p class=\"se-text-paragraph se-text-paragraph-align-\" id=\"SE-e04a2036-dfa2-406f-9c3b-558e47a2792b\" style=\"\"><span class=\"se-fs- se-ff-\" id=\"SE-64af0a7f-097a-45d1-84c0-7c679f6da104\" style=\"\">다음날 카페에 직접 찾아와선..ㅎ '관심있는데 뭐라고 연락해야할지 몰라서 연락 못드렸어요,,ㅎ 죄송해요' 이렇게 말씀하신...ㅋㅋㅋㅋㅋㅋ😂😂😂 그래서 제가 이모티콘 하나라도 카톡으로 보내달라해서 그렇게 연락중인데 연락을 참 어려워 하는거 같기도 하고ㅜ)</span></p>,\n",
       "  <p class=\"se-text-paragraph se-text-paragraph-align-\" id=\"SE-253bd5f1-0fb8-480a-8dbb-a7f9029197a0\" style=\"\"><span class=\"se-fs- se-ff-\" id=\"SE-ef553a5e-8c0c-427f-9473-6b8b1f6bce1b\" style=\"\">​</span></p>,\n",
       "  <p class=\"se-text-paragraph se-text-paragraph-align-\" id=\"SE-d44d1953-f78b-407d-a6cc-bcc14efd56e8\" style=\"\"><span class=\"se-fs- se-ff-\" id=\"SE-7ce6a53f-606d-47d3-b00d-e35bfcc39606\" style=\"\">쨋든 그래서 카톡을 그분이랑 하면...</span></p>,\n",
       "  <p class=\"se-text-paragraph se-text-paragraph-align-\" id=\"SE-9668e815-3110-466b-bd70-7606cf317c8c\" style=\"\"><span class=\"se-fs- se-ff-\" id=\"SE-2f9dc8b9-ddc2-4d62-9a9e-0e74c5f5b6ac\" style=\"\">제가 주로 카톡을 먼저보내는데</span></p>,\n",
       "  <p class=\"se-text-paragraph se-text-paragraph-align-\" id=\"SE-21b8a0a5-67e8-4b82-a4b0-ccaa56a5ffe9\" style=\"\"><span class=\"se-fs- se-ff-\" id=\"SE-2e0d94ff-87fa-45c2-9bea-68f1553d1557\" style=\"\">카톡 내용이 말도 참이쁘게하고. 저를 좋아하는게 눈에보이고. 티키타카도 잘되긴하는데 답장이 너무 느려</span></p>,\n",
       "  <p class=\"se-text-paragraph se-text-paragraph-align-\" id=\"SE-eae6ebbf-13f0-4f6d-997f-a807259c08c3\" style=\"\"><span class=\"se-fs- se-ff-\" id=\"SE-5580e857-8637-4ac7-b4f5-87d0093fdcc1\" style=\"\">속이 터지기 일보직전이에요ㅠㅠㅜㅜㅜㅠㅠㅠㅜㅜㅠ</span></p>,\n",
       "  <p class=\"se-text-paragraph se-text-paragraph-align-\" id=\"SE-714ac4a6-c37b-4392-a73b-2bf726928c50\" style=\"\"><span class=\"se-fs- se-ff-\" id=\"SE-e754ab70-0bb4-404c-9eec-49d7d8dd1a95\" style=\"\">​</span></p>,\n",
       "  <p class=\"se-text-paragraph se-text-paragraph-align-\" id=\"SE-2d43743e-67ca-44c1-a2d1-071bfb567c46\" style=\"\"><span class=\"se-fs- se-ff-\" id=\"SE-1fb22f58-932d-4731-b120-ffe120fabf36\" style=\"\">진짜보통 30분~1시간이 기본이고</span></p>,\n",
       "  <p class=\"se-text-paragraph se-text-paragraph-align-\" id=\"SE-0a9c5a3a-69f0-40a7-8cae-08fea9743281\" style=\"\"><span class=\"se-fs- se-ff-\" id=\"SE-ce34362a-a002-4e93-8980-31b098704d54\" style=\"\">2시간에 한번 답장올때도 매우매우매우 많고..ㅎㅎㅎ</span></p>,\n",
       "  <p class=\"se-text-paragraph se-text-paragraph-align-\" id=\"SE-3c8dc85e-b553-435b-9293-45676a1ef6f3\" style=\"\"><span class=\"se-fs- se-ff-\" id=\"SE-fa8bf868-19c8-48e5-8916-6e7ce3cf847b\" style=\"\">집중할땐 3~4시간에 한번 답장오기도합니다.</span></p>,\n",
       "  <p class=\"se-text-paragraph se-text-paragraph-align-\" id=\"SE-53317694-285e-4724-a934-c401842655e7\" style=\"\"><span class=\"se-fs- se-ff-\" id=\"SE-b39978a0-a330-4bcc-bfb3-485897832994\" style=\"\">​</span></p>,\n",
       "  <p class=\"se-text-paragraph se-text-paragraph-align-\" id=\"SE-3b75636a-f9dd-4e6f-ac12-230ea45a1602\" style=\"\"><span class=\"se-fs- se-ff-\" id=\"SE-3efa337a-5479-4a71-9ed4-40eee8773be7\" style=\"\">참..오는 답장 내용보면 너무 이쁜사람이라 기분좋다가도</span></p>,\n",
       "  <p class=\"se-text-paragraph se-text-paragraph-align-\" id=\"SE-19579834-187b-4aa2-b114-4cbd2bb1c521\" style=\"\"><span class=\"se-fs- se-ff-\" id=\"SE-f0470e7b-550f-4ced-83b5-4c30bf4082df\" style=\"\">이건 뭐 ㅠㅠㅜ 썸에도 연락 텀이 너무 기니 ㅠㅠㅜㅜㅠㅠㅜㅜㅠㅍ퓨ㅠ</span></p>,\n",
       "  <p class=\"se-text-paragraph se-text-paragraph-align-\" id=\"SE-d65a2e1c-f4ef-4160-86c1-5fb8422f10ad\" style=\"\"><span class=\"se-fs- se-ff-\" id=\"SE-2a4e3eb2-3db5-4e93-a2b1-8cfd6d41a736\" style=\"\">하루에 톡을 몇번 나누지도 못하는 ㅠㅠㅜ</span></p>,\n",
       "  <p class=\"se-text-paragraph se-text-paragraph-align-\" id=\"SE-622cc394-cb47-4260-8d9b-2bc60a26c3d5\" style=\"\"><span class=\"se-fs- se-ff-\" id=\"SE-20dfc19c-85a3-4663-91da-2afa91c5753b\" style=\"\">​</span></p>,\n",
       "  <p class=\"se-text-paragraph se-text-paragraph-align-\" id=\"SE-f03049c4-825b-4be7-aa3b-bf97ff45c366\" style=\"\"><span class=\"se-fs- se-ff-\" id=\"SE-75df54ea-f4ec-43df-8466-a77404228fad\" style=\"\">이런모습보면ㅠㅜㅜ</span></p>,\n",
       "  <p class=\"se-text-paragraph se-text-paragraph-align-\" id=\"SE-25d89f06-0ec2-4eeb-8154-306adb4d3e7e\" style=\"\"><span class=\"se-fs- se-ff-\" id=\"SE-9fbc7501-088a-4219-9a92-25327e3c8b9a\" style=\"\">아무리 연락을 잘안하고 폰을 잘 안만지는 분이라도</span></p>,\n",
       "  <p class=\"se-text-paragraph se-text-paragraph-align-\" id=\"SE-9f48e69b-0f9f-47fc-b9c2-f70d6816ea79\" style=\"\"><span class=\"se-fs- se-ff-\" id=\"SE-24b0e493-0cb1-418a-8ed0-06353f78d658\" style=\"\">서로 호감이있는거라면 이렇게 행동할수 있을까 싶기도하고 ㅠㅠㅠㅠㅠㅠㅜㅜㅠㅠ</span></p>,\n",
       "  <p class=\"se-text-paragraph se-text-paragraph-align-\" id=\"SE-d4d3c637-de27-4fe3-b18e-4f9644921614\" style=\"\"><span class=\"se-fs- se-ff-\" id=\"SE-ccab2a16-4794-4cf7-b7ce-e8ff72607deb\" style=\"\">그냥 딱 나에게 2시간. 3~4시간만에 답장줄만큼만 좋아하는거 거나. 어장인가 싶은 생각이 들기도 하고 ㅠㅠㅜㅠ</span></p>,\n",
       "  <p class=\"se-text-paragraph se-text-paragraph-align-\" id=\"SE-d90b6dc2-d3e9-41fd-8789-6bbeabc083ed\" style=\"\"><span class=\"se-fs- se-ff-\" id=\"SE-3f93181e-8556-4a62-ad24-79fe9139d9ed\" style=\"\">​</span></p>,\n",
       "  <p class=\"se-text-paragraph se-text-paragraph-align-\" id=\"SE-757e56b9-451e-4884-ad42-881c27886799\" style=\"\"><span class=\"se-fs- se-ff-\" id=\"SE-6871c275-6b2b-4728-a75e-f362856054b2\" style=\"\">하 답답한데 ㅠㅠㅜ 고민털어놀곳 없어서 여기에 글 쓰네요 ㅜㅠㅠ</span></p>,\n",
       "  <p class=\"se-text-paragraph se-text-paragraph-align-\" id=\"SE-1b8db519-7afb-48ce-b2e1-12fdf4a567c3\" style=\"\"><span class=\"se-fs- se-ff-\" id=\"SE-3e9e35d8-fc85-4bc7-b5ca-15bdf2b01556\" style=\"\">​</span></p>,\n",
       "  <p class=\"se-text-paragraph se-text-paragraph-align-\" id=\"SE-ad3d43b2-265e-4762-9ff0-2ce80b7cc3b2\" style=\"\"><span class=\"se-fs- se-ff-\" id=\"SE-7dc637e0-d192-4b53-a67a-898b7f64c11b\" style=\"\">좋아해도 연락이렇게 썸기간에 적게 하시는분들도 계신가요...??????ㅜ</span></p>,\n",
       "  <p class=\"se-text-paragraph se-text-paragraph-align-\" id=\"SE-f2deed35-34f7-44d9-84f9-623757c5c917\" style=\"\"><span class=\"se-fs- se-ff-\" id=\"SE-6f916229-bcc6-45f7-9177-cd528ff066d8\" style=\"\">(그분은 20대후반이고. mbti 저한테  첨엔 enfp라했는데.. 최근에 밥먹고 대화나눌때 다시해보니까 infp나왔다고 했습니다!)</span></p>,\n",
       "  <p class=\"se-text-paragraph se-text-paragraph-align-\" id=\"SE-7183f251-7654-46f5-89ac-8ea76f3f6399\" style=\"\"><span class=\"se-fs- se-ff-\" id=\"SE-9c0c91d7-fe7b-4a32-a323-48146c755e17\" style=\"\">​</span></p>,\n",
       "  <p class=\"se-text-paragraph se-text-paragraph-align-\" id=\"SE-46a363ec-4950-4781-b51e-d7223c40342a\" style=\"\"><span class=\"se-fs- se-ff-\" id=\"SE-4c3c198f-10bb-41c2-8197-0e8c058a0fb8\" style=\"\">그리고 썸기간에도 연락문제로 서운하면 다들 서운하다 말하는편인가요???!</span></p>,\n",
       "  <p class=\"se-text-paragraph se-text-paragraph-align-\" id=\"SE-4955fd12-c476-408f-a21d-73f2ea23c3a3\" style=\"\"><span class=\"se-fs- se-ff-\" id=\"SE-e677cdaa-4cf6-45b8-b32d-89f7b3347062\" style=\"\">연인사이도 아니라 서운하다 말해도 되는건지 ㅠ</span></p>,\n",
       "  <p class=\"se-text-paragraph se-text-paragraph-align-\" id=\"SE-d22cb7b0-4101-40ac-89da-28cfc3a08020\" style=\"\"><span class=\"se-fs- se-ff-\" id=\"SE-ed9ca6d5-e1c9-4172-9db6-c6b727e21dc8\" style=\"\">거기까진 너무 간건지 잘 모르겠고 ㅠㅠㅜㅜㅠㅠㅠ</span></p>,\n",
       "  <p class=\"se-text-paragraph se-text-paragraph-align-\" id=\"SE-279eb384-dc92-41f0-b849-f18688e83e07\" style=\"\"><span class=\"se-fs- se-ff-\" id=\"SE-9a27d040-5cb4-46b1-b161-f9db6ae80a9d\" style=\"\"> 조언좀 해주세여 ㅠㅠ</span></p>],\n",
       " [],\n",
       " [<p class=\"text\">\n",
       "              이 게시글을 카페 캘린더에서 제외하시겠습니까?\n",
       "          </p>,\n",
       "  <p class=\"text\">\n",
       "              이 게시글을 카페 캘린더로 보내시겠습니까?\n",
       "          </p>,\n",
       "  <p class=\"se-text-paragraph se-text-paragraph-align-\" id=\"SE-c6bc4149-a287-4663-9802-52f58316b24f\" style=\"\"><span class=\"se-fs- se-ff-\" id=\"SE-74051c94-77fb-4e68-bdb5-7f5a7824cb4e\" style=\"\">네..</span></p>,\n",
       "  <p class=\"se-text-paragraph se-text-paragraph-align-\" id=\"SE-6c1710f9-03a7-48d8-a45e-6cf0c250d6e8\" style=\"\"><span class=\"se-fs- se-ff-\" id=\"SE-dd177144-e5ef-4590-9935-f6e03f513485\" style=\"\">며칠전부터 물음표가 안눌리더니..</span></p>,\n",
       "  <p class=\"se-text-paragraph se-text-paragraph-align-\" id=\"SE-1ea69633-8757-41e6-a36c-1f3082d5cbc0\" style=\"\"><span class=\"se-fs- se-ff-\" id=\"SE-01226630-f1da-4145-8313-374b8dd5cc8c\" style=\"\">오늘아침 일어나기위해 알람문구 따라쓰기로 했는데,</span></p>,\n",
       "  <p class=\"se-text-paragraph se-text-paragraph-align-\" id=\"SE-61e03d7f-e11d-400f-a18b-1dc6a4bf932d\" style=\"\"><span class=\"se-fs- se-ff-\" id=\"SE-66040516-7fb5-4e1c-8718-c0169d4fc5ff\" style=\"\">블루투스 키보드인..엑스폴딩 트리플의..</span></p>,\n",
       "  <p class=\"se-text-paragraph se-text-paragraph-align-\" id=\"SE-2d17e920-1d14-4892-aae7-8d34d589dd5d\" style=\"\"><span class=\"se-fs- se-ff-\" id=\"SE-b54f3611-7b6a-45e2-b508-13e4b4aa50e9\" style=\"\">물음표가 안눌려서 진행이 안되길래..</span></p>,\n",
       "  <p class=\"se-text-paragraph se-text-paragraph-align-\" id=\"SE-fffa0edf-eec8-4dbd-888e-347f994f5023\" style=\"\"><span class=\"se-fs- se-ff-\" id=\"SE-501d092f-afb9-48ac-ba65-68b5f7483401\" style=\"\">앱캐시 청소로 비상탈출 했습니다..</span></p>,\n",
       "  <p class=\"se-text-paragraph se-text-paragraph-align-\" id=\"SE-645158bd-c7a2-438d-a1ad-c644d633e6b9\" style=\"\"><span class=\"se-fs- se-ff-\" id=\"SE-c396e6ac-0055-4272-b75b-8d87cd59dd1d\" style=\"\">​</span></p>,\n",
       "  <p class=\"se-text-paragraph se-text-paragraph-align-\" id=\"SE-51d25134-4fb8-478e-b8fe-ab7ee4c2cd51\" style=\"\"><span class=\"se-fs- se-ff-\" id=\"SE-8b192adc-a565-4e40-a832-1fc807fd6da5\" style=\"\">AS 방법도 보내는 방법도 복잡하네요....</span></p>,\n",
       "  <p class=\"se-text-paragraph se-text-paragraph-align-\" id=\"SE-faf8cd23-2280-4864-861d-2a25e4c39919\" style=\"\"><span class=\"se-fs- se-ff-\" id=\"SE-c4bdf06b-8e4a-4146-8dc9-7a693e3c4b9c\" style=\"\">아이고 돌겠다 진짜ㅠㅠㅠㅠㅠㅠㅠ</span></p>,\n",
       "  <p class=\"se-text-paragraph se-text-paragraph-align-\" id=\"SE-41c205ae-552a-4ffb-adcd-53b0063f9a55\" style=\"\"><span class=\"se-fs- se-ff-\" id=\"SE-5aac35ae-0c57-46f5-8836-390dfb25466a\" style=\"\">​</span></p>,\n",
       "  <p class=\"se-text-paragraph se-text-paragraph-align-\" id=\"SE-94d4ac33-d884-42f0-8840-854bba8120f1\" style=\"\"><span class=\"se-fs- se-ff-\" id=\"SE-6f41e7a4-116f-4472-a4e9-263da0f78ef3\" style=\"\">나 어뜩해요..돈도없는데..</span></p>,\n",
       "  <p class=\"se-text-paragraph se-text-paragraph-align-\" id=\"SE-ea97f1f5-8775-47fb-bcf0-18bc79706630\" style=\"\"><span class=\"se-fs- se-ff-\" id=\"SE-899ed67e-3a80-4498-b656-16caded0ea70\" style=\"\">어으....내 키보드..엉엉...ㅠㅠ</span></p>],\n",
       " [],\n",
       " [],\n",
       " [],\n",
       " [],\n",
       " [<p class=\"text\">\n",
       "              이 게시글을 카페 캘린더에서 제외하시겠습니까?\n",
       "          </p>,\n",
       "  <p class=\"text\">\n",
       "              이 게시글을 카페 캘린더로 보내시겠습니까?\n",
       "          </p>,\n",
       "  <p>썸남이 7유형이라는데 좀 띠용햇어요<br/>검사시켜보면 인프피나 인팁나오는 분이에요<br/>그래서 애니어그램도 시켜봣더니 7번이나오네요....<br/><br/>이러신 분 계신가요...?</p>,\n",
       "  <p class=\"comment_text_view\"><!-- --><span class=\"text_comment\">나올수있죵 다 가능해요</span></p>,\n",
       "  <p class=\"comment_text_view\"><!-- --><span class=\"text_comment\">오 그렇군요 주위에서 내향형이 7번 나온게 처음이라 신기햇어요 ㅋㅋ</span></p>,\n",
       "  <p class=\"comment_text_view\"><!-- --><span class=\"text_comment\">사람에 따라 다르지 않을까요?\n",
       "  <br/>인프피인 저는 애니어그램 검사 두번 했는데 6번 유형 나왔어요ㅎ</span></p>,\n",
       "  <p class=\"comment_text_view\"><!-- --><span class=\"text_comment\">오 그렇군요! 혹시 날개는 어떤거 나오셧어요?</span></p>,\n",
       "  <p class=\"comment_text_view\"><a aria-expanded=\"false\" aria-haspopup=\"true\" class=\"text_nickname\" href=\"#\" id=\"commentProfile41828042\" role=\"button\">개구리키우는 ENTP</a><span class=\"text_comment\">날개는 5번 이요!!</span></p>,\n",
       "  <p class=\"comment_text_view\"><!-- --><span class=\"text_comment\">인팁 인픕에 7 꽤 많아용</span></p>,\n",
       "  <p class=\"comment_text_view\"><!-- --><span class=\"text_comment\">오 그렇군요!</span></p>],\n",
       " [],\n",
       " [],\n",
       " [],\n",
       " [],\n",
       " [],\n",
       " [],\n",
       " [],\n",
       " [],\n",
       " [],\n",
       " [<p class=\"text\">\n",
       "              이 게시글을 카페 캘린더에서 제외하시겠습니까?\n",
       "          </p>,\n",
       "  <p class=\"text\">\n",
       "              이 게시글을 카페 캘린더로 보내시겠습니까?\n",
       "          </p>,\n",
       "  <p class=\"se-text-paragraph se-text-paragraph-align-\" id=\"SE-78d166ee-ecdd-4376-a5a3-acd35c97e02d\" style=\"\"><span class=\"se-fs- se-ff-\" id=\"SE-3b8dde37-d05b-4141-ba39-4f90cc18feca\" style=\"\">ENFP분들 !! 썸타는 이성이 연락 느리면 마음이 식나요??( 중간 중간에 제가 귀엽다, 설렌다 등등 좋아한다는 티를 내긴내는데 제가 바빠서 연락 이 느려요 ㅠ ㅠ) </span></p>]]"
      ]
     },
     "execution_count": 36,
     "metadata": {},
     "output_type": "execute_result"
    }
   ],
   "source": [
    "# 크롤링한 게시글 본문\n",
    "content"
   ]
  },
  {
   "cell_type": "code",
   "execution_count": null,
   "id": "5d2e5c0d",
   "metadata": {},
   "outputs": [],
   "source": [
    "#data_crawled_from_naver_cafe = pd.DataFrame({'mbti': nickname, 'title': title, 'content': content})"
   ]
  }
 ],
 "metadata": {
  "kernelspec": {
   "display_name": "Python 3",
   "language": "python",
   "name": "python3"
  },
  "language_info": {
   "codemirror_mode": {
    "name": "ipython",
    "version": 3
   },
   "file_extension": ".py",
   "mimetype": "text/x-python",
   "name": "python",
   "nbconvert_exporter": "python",
   "pygments_lexer": "ipython3",
   "version": "3.8.8"
  }
 },
 "nbformat": 4,
 "nbformat_minor": 5
}

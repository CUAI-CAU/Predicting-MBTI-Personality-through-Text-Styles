{
 "cells": [
  {
   "cell_type": "markdown",
   "id": "e4714a91",
   "metadata": {},
   "source": [
    "### 기본 세팅\n",
    "작동 시간이 너무 빠르면 자동툴로 인식하는 경우가 있어 계속 sleep을 걸음"
   ]
  },
  {
   "cell_type": "code",
   "execution_count": 1,
   "id": "e7e1aca5",
   "metadata": {},
   "outputs": [],
   "source": [
    "import os\n",
    "import time\n",
    "import pandas as pd\n",
    "\n",
    "from selenium import webdriver\n",
    "import pyperclip\n",
    "from selenium.webdriver import ActionChains\n",
    "from selenium.webdriver.common.keys import Keys"
   ]
  },
  {
   "cell_type": "code",
   "execution_count": 2,
   "id": "5ad9d8ae",
   "metadata": {},
   "outputs": [],
   "source": [
    "# 셀레니움 드라이버로 웹 실행\n",
    "driver = webdriver.Chrome('chromedriver.exe')\n",
    "driver.implicitly_wait(3)"
   ]
  },
  {
   "cell_type": "code",
   "execution_count": 3,
   "id": "e5d27157",
   "metadata": {},
   "outputs": [],
   "source": [
    "# 클립보드에 input을 복사하고, ActionChain을 이용해 복사 내용을 로그인 폼에 붙여넣기\n",
    "def copy_input(xpath, input):\n",
    "    pyperclip.copy(input)\n",
    "    driver.find_element_by_xpath(xpath).click()\n",
    "    ActionChains(driver).key_down(Keys.CONTROL).send_keys('v').key_up(Keys.CONTROL).perform()\n",
    "    time.sleep(1)"
   ]
  },
  {
   "cell_type": "code",
   "execution_count": 4,
   "id": "e6832b47",
   "metadata": {},
   "outputs": [],
   "source": [
    "# 네이버 id & pw 입력\n",
    "naver_id = 'bokju128'\n",
    "naver_pw = 'uks01uks28!'"
   ]
  },
  {
   "cell_type": "code",
   "execution_count": 5,
   "id": "acc11e59",
   "metadata": {},
   "outputs": [],
   "source": [
    "# 네이버 로그인 \n",
    "driver.get('https://nid.naver.com/nidlogin.login')             \n",
    "time.sleep(1)\n",
    "\n",
    "copy_input('//*[@id=\"id\"]', naver_id)\n",
    "time.sleep(1)\n",
    "copy_input('//*[@id=\"pw\"]', naver_pw)\n",
    "time.sleep(1)\n",
    "\n",
    "driver.find_element_by_xpath('//*[@id=\"frmNIDLogin\"]/fieldset/input').click()"
   ]
  },
  {
   "cell_type": "markdown",
   "id": "edb39a71",
   "metadata": {},
   "source": [
    "### 주소 및 닉네임 크롤링 테스트\n",
    "INFP & ENFP 게시판: menuid=18"
   ]
  },
  {
   "cell_type": "code",
   "execution_count": 6,
   "id": "3c0a85f5",
   "metadata": {},
   "outputs": [],
   "source": [
    "page = 0\n",
    "address = []\n",
    "nickname = []\n",
    "\n",
    "while page <= 1:\n",
    "    try:\n",
    "        # 페이지 및 iframe 전환\n",
    "        page += 1\n",
    "        driver.get(f\"https://cafe.naver.com/ArticleList.nhn?search.clubid=11856775&search.menuid=18&search.boardtype=L&search.page={page}\")\n",
    "        driver.switch_to.frame(\"cafe_main\")\n",
    "        \n",
    "        # 더이상 게시글이 없을 경우\n",
    "        try:\n",
    "            if driver.find_element_by_class_name(\"nodata\").text == '등록된 게시글이 없습니다.':\n",
    "                break\n",
    "        except:\n",
    "            pass\n",
    "        \n",
    "        # 페이지당 주소 및 닉네임 20개 크롤링\n",
    "        for i in range(1, 31, 1):\n",
    "            address.append(driver.find_element_by_xpath(f\"/html/body/div[1]/div/div[4]/table/tbody/tr[{i}]/td[1]/div[2]/div/a[1]\").get_attribute(\"href\"))\n",
    "            nickname.append(driver.find_element_by_xpath(f\"/html/body/div[1]/div/div[4]/table/tbody/tr[{i}]/td[2]/div/table/tbody/tr/td/a\").get_attribute(\"onclick\"))\n",
    "                            \n",
    "        # 기존 웹페이지로 복귀\n",
    "        driver.switch_to.default_content()   \n",
    "        \n",
    "    except:\n",
    "        pass"
   ]
  },
  {
   "cell_type": "code",
   "execution_count": 7,
   "id": "2d523412",
   "metadata": {},
   "outputs": [
    {
     "data": {
      "text/plain": [
       "['https://cafe.naver.com/ArticleRead.nhn?clubid=11856775&page=1&menuid=18&boardtype=L&articleid=505279&referrerAllArticles=false',\n",
       " 'https://cafe.naver.com/ArticleRead.nhn?clubid=11856775&page=1&menuid=18&boardtype=L&articleid=505267&referrerAllArticles=false',\n",
       " 'https://cafe.naver.com/ArticleRead.nhn?clubid=11856775&page=1&menuid=18&boardtype=L&articleid=505234&referrerAllArticles=false',\n",
       " 'https://cafe.naver.com/ArticleRead.nhn?clubid=11856775&page=1&menuid=18&boardtype=L&articleid=505233&referrerAllArticles=false',\n",
       " 'https://cafe.naver.com/ArticleRead.nhn?clubid=11856775&page=1&menuid=18&boardtype=L&articleid=505173&referrerAllArticles=false',\n",
       " 'https://cafe.naver.com/ArticleRead.nhn?clubid=11856775&page=1&menuid=18&boardtype=L&articleid=505150&referrerAllArticles=false',\n",
       " 'https://cafe.naver.com/ArticleRead.nhn?clubid=11856775&page=1&menuid=18&boardtype=L&articleid=505147&referrerAllArticles=false',\n",
       " 'https://cafe.naver.com/ArticleRead.nhn?clubid=11856775&page=1&menuid=18&boardtype=L&articleid=505140&referrerAllArticles=false',\n",
       " 'https://cafe.naver.com/ArticleRead.nhn?clubid=11856775&page=1&menuid=18&boardtype=L&articleid=505099&referrerAllArticles=false',\n",
       " 'https://cafe.naver.com/ArticleRead.nhn?clubid=11856775&page=1&menuid=18&boardtype=L&articleid=505087&referrerAllArticles=false',\n",
       " 'https://cafe.naver.com/ArticleRead.nhn?clubid=11856775&page=1&menuid=18&boardtype=L&articleid=505064&referrerAllArticles=false',\n",
       " 'https://cafe.naver.com/ArticleRead.nhn?clubid=11856775&page=1&menuid=18&boardtype=L&articleid=505020&referrerAllArticles=false',\n",
       " 'https://cafe.naver.com/ArticleRead.nhn?clubid=11856775&page=1&menuid=18&boardtype=L&articleid=505007&referrerAllArticles=false',\n",
       " 'https://cafe.naver.com/ArticleRead.nhn?clubid=11856775&page=1&menuid=18&boardtype=L&articleid=504965&referrerAllArticles=false',\n",
       " 'https://cafe.naver.com/ArticleRead.nhn?clubid=11856775&page=1&menuid=18&boardtype=L&articleid=504946&referrerAllArticles=false',\n",
       " 'https://cafe.naver.com/ArticleRead.nhn?clubid=11856775&page=2&menuid=18&boardtype=L&articleid=504927&referrerAllArticles=false',\n",
       " 'https://cafe.naver.com/ArticleRead.nhn?clubid=11856775&page=2&menuid=18&boardtype=L&articleid=504917&referrerAllArticles=false',\n",
       " 'https://cafe.naver.com/ArticleRead.nhn?clubid=11856775&page=2&menuid=18&boardtype=L&articleid=504907&referrerAllArticles=false',\n",
       " 'https://cafe.naver.com/ArticleRead.nhn?clubid=11856775&page=2&menuid=18&boardtype=L&articleid=504903&referrerAllArticles=false',\n",
       " 'https://cafe.naver.com/ArticleRead.nhn?clubid=11856775&page=2&menuid=18&boardtype=L&articleid=504880&referrerAllArticles=false',\n",
       " 'https://cafe.naver.com/ArticleRead.nhn?clubid=11856775&page=2&menuid=18&boardtype=L&articleid=504867&referrerAllArticles=false',\n",
       " 'https://cafe.naver.com/ArticleRead.nhn?clubid=11856775&page=2&menuid=18&boardtype=L&articleid=504856&referrerAllArticles=false',\n",
       " 'https://cafe.naver.com/ArticleRead.nhn?clubid=11856775&page=2&menuid=18&boardtype=L&articleid=504815&referrerAllArticles=false',\n",
       " 'https://cafe.naver.com/ArticleRead.nhn?clubid=11856775&page=2&menuid=18&boardtype=L&articleid=504799&referrerAllArticles=false',\n",
       " 'https://cafe.naver.com/ArticleRead.nhn?clubid=11856775&page=2&menuid=18&boardtype=L&articleid=504783&referrerAllArticles=false',\n",
       " 'https://cafe.naver.com/ArticleRead.nhn?clubid=11856775&page=2&menuid=18&boardtype=L&articleid=504778&referrerAllArticles=false',\n",
       " 'https://cafe.naver.com/ArticleRead.nhn?clubid=11856775&page=2&menuid=18&boardtype=L&articleid=504759&referrerAllArticles=false',\n",
       " 'https://cafe.naver.com/ArticleRead.nhn?clubid=11856775&page=2&menuid=18&boardtype=L&articleid=504751&referrerAllArticles=false',\n",
       " 'https://cafe.naver.com/ArticleRead.nhn?clubid=11856775&page=2&menuid=18&boardtype=L&articleid=504738&referrerAllArticles=false',\n",
       " 'https://cafe.naver.com/ArticleRead.nhn?clubid=11856775&page=2&menuid=18&boardtype=L&articleid=504736&referrerAllArticles=false']"
      ]
     },
     "execution_count": 7,
     "metadata": {},
     "output_type": "execute_result"
    }
   ],
   "source": [
    "# 크롤링한 게시글 주소\n",
    "address"
   ]
  },
  {
   "cell_type": "code",
   "execution_count": 8,
   "id": "a2c3ee8f",
   "metadata": {},
   "outputs": [
    {
     "data": {
      "text/plain": [
       "30"
      ]
     },
     "execution_count": 8,
     "metadata": {},
     "output_type": "execute_result"
    }
   ],
   "source": [
    "len(address)"
   ]
  },
  {
   "cell_type": "code",
   "execution_count": 9,
   "id": "5762cff5",
   "metadata": {},
   "outputs": [
    {
     "data": {
      "text/plain": [
       "[\"ui(event, 'dhdkcj',3,'enfp성공','11856775','me', 'false', 'true', 'mbticafe', 'false', '18'); return false;\",\n",
       " \"ui(event, 'slimshady0306juw',3,'마더뻑킹인티제','11856775','me', 'false', 'true', 'mbticafe', 'false', '18'); return false;\",\n",
       " \"ui(event, 'koe1012',3,'INFP흰여우','11856775','me', 'false', 'true', 'mbticafe', 'false', '18'); return false;\",\n",
       " \"ui(event, 'koe1012',3,'INFP흰여우','11856775','me', 'false', 'true', 'mbticafe', 'false', '18'); return false;\",\n",
       " \"ui(event, 'yey_',3,'조각INFP','11856775','me', 'false', 'true', 'mbticafe', 'false', '18'); return false;\",\n",
       " \"ui(event, '010kl',3,'INFP임둥','11856775','me', 'false', 'true', 'mbticafe', 'false', '18'); return false;\",\n",
       " \"ui(event, 'gydbs1234',3,'INFJ 보라도리','11856775','me', 'false', 'true', 'mbticafe', 'false', '18'); return false;\",\n",
       " \"ui(event, 'kokkkc8k',3,'adorabled isfp','11856775','me', 'false', 'true', 'mbticafe', 'false', '18'); return false;\",\n",
       " \"ui(event, 'astros29',3,'뽀로','11856775','me', 'false', 'true', 'mbticafe', 'false', '18'); return false;\",\n",
       " \"ui(event, 'dlwlsgur1121',3,'에브','11856775','me', 'false', 'true', 'mbticafe', 'false', '18'); return false;\",\n",
       " \"ui(event, 'during1973',3,'INFP 쩐어니','11856775','me', 'false', 'true', 'mbticafe', 'false', '18'); return false;\",\n",
       " \"ui(event, 'kossh_2001',3,'랑듀엔쁩','11856775','me', 'false', 'true', 'mbticafe', 'false', '18'); return false;\",\n",
       " \"ui(event, 'koe1012',3,'INFP흰여우','11856775','me', 'false', 'true', 'mbticafe', 'false', '18'); return false;\",\n",
       " \"ui(event, 'dusen3505',3,'걱정하지말고꾜','11856775','me', 'false', 'true', 'mbticafe', 'false', '18'); return false;\",\n",
       " \"ui(event, 'flqls0226',3,'loppoo','11856775','me', 'false', 'true', 'mbticafe', 'false', '18'); return false;\",\n",
       " \"ui(event, 'pink909',3,'Estptp','11856775','me', 'false', 'true', 'mbticafe', 'false', '18'); return false;\",\n",
       " \"ui(event, 'pumpkim9',3,'isfj 여','11856775','me', 'false', 'true', 'mbticafe', 'false', '18'); return false;\",\n",
       " \"ui(event, 'hee5717',3,'엔팁V','11856775','me', 'false', 'true', 'mbticafe', 'false', '18'); return false;\",\n",
       " \"ui(event, 'astros29',3,'뽀로','11856775','me', 'false', 'true', 'mbticafe', 'false', '18'); return false;\",\n",
       " \"ui(event, 'astros29',3,'뽀로','11856775','me', 'false', 'true', 'mbticafe', 'false', '18'); return false;\",\n",
       " \"ui(event, 'astros29',3,'뽀로','11856775','me', 'false', 'true', 'mbticafe', 'false', '18'); return false;\",\n",
       " \"ui(event, 'vicer01',3,'불닭볶음면','11856775','me', 'false', 'true', 'mbticafe', 'false', '18'); return false;\",\n",
       " \"ui(event, 'gina4148',3,'누가봐도Entp','11856775','me', 'false', 'true', 'mbticafe', 'false', '18'); return false;\",\n",
       " \"ui(event, 'gggg122',3,'Infp아양이','11856775','me', 'false', 'true', 'mbticafe', 'false', '18'); return false;\",\n",
       " \"ui(event, 'dlforud1523',3,'포에트리 ESFP','11856775','me', 'false', 'true', 'mbticafe', 'false', '18'); return false;\",\n",
       " \"ui(event, 'llrhtnll',3,'주시쿨좋아하는사람','11856775','me', 'false', 'true', 'mbticafe', 'false', '18'); return false;\",\n",
       " \"ui(event, 'koe1012',3,'INFP흰여우','11856775','me', 'false', 'true', 'mbticafe', 'false', '18'); return false;\",\n",
       " \"ui(event, 'y2032ryu',3,'한명의인프피','11856775','me', 'false', 'true', 'mbticafe', 'false', '18'); return false;\",\n",
       " \"ui(event, 'djwls222',3,'오징징어 enfp','11856775','me', 'false', 'true', 'mbticafe', 'false', '18'); return false;\",\n",
       " \"ui(event, 'k0555',3,'찐찐infp','11856775','me', 'false', 'true', 'mbticafe', 'false', '18'); return false;\"]"
      ]
     },
     "execution_count": 9,
     "metadata": {},
     "output_type": "execute_result"
    }
   ],
   "source": [
    "# 크롤링한 닉네임이 포함되어 있는 onclick 타입\n",
    "nickname"
   ]
  },
  {
   "cell_type": "code",
   "execution_count": 10,
   "id": "61e81ba6",
   "metadata": {},
   "outputs": [
    {
     "data": {
      "text/plain": [
       "30"
      ]
     },
     "execution_count": 10,
     "metadata": {},
     "output_type": "execute_result"
    }
   ],
   "source": [
    "len(nickname)"
   ]
  },
  {
   "cell_type": "code",
   "execution_count": 11,
   "id": "58bb1472",
   "metadata": {},
   "outputs": [
    {
     "data": {
      "text/plain": [
       "\"ui(event, 'dhdkcj',3,'enfp성공','11856775','me', 'false', 'true', 'mbticafe', 'false', '18'); return false;\""
      ]
     },
     "execution_count": 11,
     "metadata": {},
     "output_type": "execute_result"
    }
   ],
   "source": [
    "nickname[0]"
   ]
  },
  {
   "cell_type": "code",
   "execution_count": 12,
   "id": "c9dd1c38",
   "metadata": {},
   "outputs": [
    {
     "data": {
      "text/plain": [
       "str"
      ]
     },
     "execution_count": 12,
     "metadata": {},
     "output_type": "execute_result"
    }
   ],
   "source": [
    "type(nickname[0])"
   ]
  },
  {
   "cell_type": "markdown",
   "id": "88304b0c",
   "metadata": {},
   "source": [
    "### onclick 타입 nickname에서 mbti 추출"
   ]
  },
  {
   "cell_type": "code",
   "execution_count": 13,
   "id": "2943b4ab",
   "metadata": {},
   "outputs": [
    {
     "data": {
      "text/plain": [
       "16"
      ]
     },
     "execution_count": 13,
     "metadata": {},
     "output_type": "execute_result"
    }
   ],
   "source": [
    "mbti_group = ['intj', 'intp', 'entj', 'entp',\n",
    "              'infj', 'infp', 'enfj', 'enfp',\n",
    "              'istj', 'isfj', 'estj', 'esfj',\n",
    "              'istp', 'isfp', 'estp', 'esfp']\n",
    "len(mbti_group)"
   ]
  },
  {
   "cell_type": "code",
   "execution_count": 14,
   "id": "f2e1b3b6",
   "metadata": {},
   "outputs": [],
   "source": [
    "# onclick 타입 nickname 소문자화\n",
    "for i in range(len(nickname)):\n",
    "    nickname[i] = nickname[i].lower()"
   ]
  },
  {
   "cell_type": "code",
   "execution_count": 15,
   "id": "6ce0c186",
   "metadata": {},
   "outputs": [],
   "source": [
    "drop_idx = []   \n",
    "\n",
    "for i in range(len(nickname)):\n",
    "    check_cnt = 0\n",
    "    \n",
    "    for mbti in mbti_group:        \n",
    "        # 닉네임에 mbti가 포함된 경우 닉네임을 mbti화\n",
    "        if mbti in nickname[i]:\n",
    "            nickname[i] = mbti\n",
    "        \n",
    "        # 닉네임에 mbti가 포함되지 않은 경우\n",
    "        if mbti not in nickname[i]:\n",
    "            check_cnt += 1\n",
    "        \n",
    "    # 닉네임에 mbti가 아예 없을 경우 해당 인덱스 저장\n",
    "    if check_cnt == 16:\n",
    "        drop_idx.append(i)"
   ]
  },
  {
   "cell_type": "code",
   "execution_count": 16,
   "id": "8ed9ad58",
   "metadata": {
    "scrolled": true
   },
   "outputs": [
    {
     "data": {
      "text/plain": [
       "['enfp',\n",
       " \"ui(event, 'slimshady0306juw',3,'마더뻑킹인티제','11856775','me', 'false', 'true', 'mbticafe', 'false', '18'); return false;\",\n",
       " 'infp',\n",
       " 'infp',\n",
       " 'infp',\n",
       " 'infp',\n",
       " 'infj',\n",
       " 'isfp',\n",
       " \"ui(event, 'astros29',3,'뽀로','11856775','me', 'false', 'true', 'mbticafe', 'false', '18'); return false;\",\n",
       " \"ui(event, 'dlwlsgur1121',3,'에브','11856775','me', 'false', 'true', 'mbticafe', 'false', '18'); return false;\",\n",
       " 'infp',\n",
       " \"ui(event, 'kossh_2001',3,'랑듀엔쁩','11856775','me', 'false', 'true', 'mbticafe', 'false', '18'); return false;\",\n",
       " 'infp',\n",
       " \"ui(event, 'dusen3505',3,'걱정하지말고꾜','11856775','me', 'false', 'true', 'mbticafe', 'false', '18'); return false;\",\n",
       " \"ui(event, 'flqls0226',3,'loppoo','11856775','me', 'false', 'true', 'mbticafe', 'false', '18'); return false;\",\n",
       " 'estp',\n",
       " 'isfj',\n",
       " \"ui(event, 'hee5717',3,'엔팁v','11856775','me', 'false', 'true', 'mbticafe', 'false', '18'); return false;\",\n",
       " \"ui(event, 'astros29',3,'뽀로','11856775','me', 'false', 'true', 'mbticafe', 'false', '18'); return false;\",\n",
       " \"ui(event, 'astros29',3,'뽀로','11856775','me', 'false', 'true', 'mbticafe', 'false', '18'); return false;\",\n",
       " \"ui(event, 'astros29',3,'뽀로','11856775','me', 'false', 'true', 'mbticafe', 'false', '18'); return false;\",\n",
       " \"ui(event, 'vicer01',3,'불닭볶음면','11856775','me', 'false', 'true', 'mbticafe', 'false', '18'); return false;\",\n",
       " 'entp',\n",
       " 'infp',\n",
       " 'esfp',\n",
       " \"ui(event, 'llrhtnll',3,'주시쿨좋아하는사람','11856775','me', 'false', 'true', 'mbticafe', 'false', '18'); return false;\",\n",
       " 'infp',\n",
       " \"ui(event, 'y2032ryu',3,'한명의인프피','11856775','me', 'false', 'true', 'mbticafe', 'false', '18'); return false;\",\n",
       " 'enfp',\n",
       " 'infp']"
      ]
     },
     "execution_count": 16,
     "metadata": {},
     "output_type": "execute_result"
    }
   ],
   "source": [
    "nickname"
   ]
  },
  {
   "cell_type": "code",
   "execution_count": 17,
   "id": "9edac5d0",
   "metadata": {},
   "outputs": [
    {
     "data": {
      "text/plain": [
       "[1, 8, 9, 11, 13, 14, 17, 18, 19, 20, 21, 25, 27]"
      ]
     },
     "execution_count": 17,
     "metadata": {},
     "output_type": "execute_result"
    }
   ],
   "source": [
    "drop_idx   # 닉네임에 mbti가 포함되지 않아 drop할 인덱스"
   ]
  },
  {
   "cell_type": "code",
   "execution_count": 18,
   "id": "b19fab30",
   "metadata": {},
   "outputs": [
    {
     "data": {
      "text/plain": [
       "13"
      ]
     },
     "execution_count": 18,
     "metadata": {},
     "output_type": "execute_result"
    }
   ],
   "source": [
    "len(drop_idx)"
   ]
  },
  {
   "cell_type": "markdown",
   "id": "11fe87ea",
   "metadata": {},
   "source": [
    "### 기존 address, nickname에서 drop_idx에 해당되면 드랍"
   ]
  },
  {
   "cell_type": "code",
   "execution_count": 19,
   "id": "5a7c7700",
   "metadata": {},
   "outputs": [
    {
     "name": "stdout",
     "output_type": "stream",
     "text": [
      " drop전 address 개수: 30\n",
      " drop전 nickname 개수: 30\n"
     ]
    }
   ],
   "source": [
    "print(' drop전 address 개수: {0}'.format( len(address) ))\n",
    "print(' drop전 nickname 개수: {0}'.format( len(nickname) ))"
   ]
  },
  {
   "cell_type": "code",
   "execution_count": 20,
   "id": "1770adbe",
   "metadata": {},
   "outputs": [
    {
     "name": "stdout",
     "output_type": "stream",
     "text": [
      " drop후 address 개수: 17\n",
      " drop후 nickname 개수: 17\n"
     ]
    }
   ],
   "source": [
    "for i in range(len(address)):\n",
    "    \n",
    "    while i in drop_idx:\n",
    "        address.pop(i)\n",
    "        nickname.pop(i)\n",
    "        drop_idx.remove(i)\n",
    "        \n",
    "        for idx in range(len(drop_idx)):\n",
    "            drop_idx[idx] -= 1\n",
    "    \n",
    "print(' drop후 address 개수: {0}'.format( len(address) ))\n",
    "print(' drop후 nickname 개수: {0}'.format( len(nickname) ))"
   ]
  },
  {
   "cell_type": "code",
   "execution_count": 21,
   "id": "5063a70a",
   "metadata": {},
   "outputs": [
    {
     "data": {
      "text/plain": [
       "['enfp',\n",
       " 'infp',\n",
       " 'infp',\n",
       " 'infp',\n",
       " 'infp',\n",
       " 'infj',\n",
       " 'isfp',\n",
       " 'infp',\n",
       " 'infp',\n",
       " 'estp',\n",
       " 'isfj',\n",
       " 'entp',\n",
       " 'infp',\n",
       " 'esfp',\n",
       " 'infp',\n",
       " 'enfp',\n",
       " 'infp']"
      ]
     },
     "execution_count": 21,
     "metadata": {},
     "output_type": "execute_result"
    }
   ],
   "source": [
    "nickname"
   ]
  },
  {
   "cell_type": "markdown",
   "id": "2313eefa",
   "metadata": {},
   "source": [
    "### address, nickname으로 게시글 제목과 본문 추출"
   ]
  },
  {
   "cell_type": "code",
   "execution_count": 22,
   "id": "ac336664",
   "metadata": {},
   "outputs": [],
   "source": [
    "title = []\n",
    "content = []\n",
    "\n",
    "for url in address:\n",
    "    # 페이지 및 iframe 전환\n",
    "    driver.get(url)\n",
    "    driver.switch_to.frame(\"cafe_main\")\n",
    "\n",
    "    # 제목과 본문 크롤링\n",
    "    cur_title = driver.find_element_by_css_selector(\"h3.title_text\").text\n",
    "    cur_content = driver.find_element_by_class_name(\"se-main-container\").text\n",
    "        \n",
    "    title.append(cur_title)\n",
    "    content.append(cur_content)"
   ]
  },
  {
   "cell_type": "code",
   "execution_count": 23,
   "id": "eb6248b9",
   "metadata": {},
   "outputs": [
    {
     "data": {
      "text/plain": [
       "['일상 살면서 필요한 창의적인거 있어나요?요새너무 더우니까 뭐 어떤거 필요하거나 이런거요',\n",
       " '저녁 못먹었어요.',\n",
       " '앗!여우의 신무기에양!',\n",
       " '구름 심리테스트(인척)',\n",
       " '인프피 여러분 만남과 이별에 무뎌지는 법은 뭘까요??',\n",
       " '엔프피가 사람을 관찰하나요?',\n",
       " '엔프피 여자 이별후',\n",
       " '인프피 질문해주세요!!',\n",
       " '.',\n",
       " '인프피분들 한 번 친구면 계속 친구인가요?',\n",
       " 'ENFP에게 적극적인 이성은 어떤가요??',\n",
       " '엔프피 질문드립니다',\n",
       " '썸기간 연락문제ㅠㅠㅜㅠ',\n",
       " '엔프피 여자 질문..',\n",
       " '내 키보드 고장났댜아아아~입미댜아아...',\n",
       " '인프피가 장난 많이쳐요?ㅋㅋㅋㅋㅋㅋㅋㅋㅋㅋ',\n",
       " 'infp 분들~~']"
      ]
     },
     "execution_count": 23,
     "metadata": {},
     "output_type": "execute_result"
    }
   ],
   "source": [
    "# 크롤링한 게시글 제목\n",
    "title"
   ]
  },
  {
   "cell_type": "code",
   "execution_count": 24,
   "id": "04a597ec",
   "metadata": {},
   "outputs": [
    {
     "data": {
      "text/plain": [
       "['의견 부탁드려용',\n",
       " '이유:피자 먹은게 계속 느끼한 느낌이 들어서,\\n저녁 도저히 못먹겠어요.\\n가스 활명수랑 파프리카랑 계란 두개로 끝났어요.\\n(x파x스......맛도없고..)\\n역시 광고는 믿을게 못됩니다.\\n아이구 진짜 속터져..엉엉..ㅠㅠ',\n",
       " '네...\\n결국 as의 복잡한 방식으로 인해..\\n여러 키가 눌리지 않아,\\n얼리버드 알람의 따라쓰기 문구를 해제할수가 없어서..\\n(화면 타이핑으로 하는건 오타가 자주나서..)\\n이참에 신무기 하나 들여왔습니다.\\n(파일 제목:앗!신무기에양!.jpg)\\n이친굽니다.\\n아까 시켜서 내일 오긴 옵니다.\\n이번만큼은 튼튼하다고 하다는거 as 센터 믿고 샀어요 ㅇㅅㅇ',\n",
       " '구름에서 무엇이 보이시나요?\\n1. 물고기\\n당신은 귀여운것을 좋아하는 사람입니다.\\n보자마자 물고기가 떠올랐을 수록 그 사람도 귀여울 확률이 높습니다😌\\n2. 새우튀김\\n당신은 높은 확률로 다이어트를 시도해 본적이 있거나\\n다이어트를 하고 있습니다.\\n더운 여름날 과도한 다이어트는 몸을 해칠수도 있으니\\n수분 섭취를 충분히 해주시고 충분한 휴식을 취해주세요😉 관리하는 당신이 멋있습니다🤗\\n3. 문어\\n문어를 찾은 당신.\\n당신은 정말 엉뚱하군요. 그 엉뚱함을 제가 칭찬해드리고 싶습니다. 더운 여름날 엉뚱함 +1 정도 추가된다면\\n너무 재미있기 때문이죠🥺\\n또 다른 엉뚱함을 가지고 계신 분이 있다면 보여줘용~~!🥺✨✨✨✨✨',\n",
       " '제가 아직 철이 덜들어서 그런 건지 성숙하지 못한건지\\n새로운 만남은 아무생각 없이 시작되어서 너무 정이 금방들고 이별의 순간이 찾아오면 괴롭고 힘들어요\\n상대가 날 지치고 질리게 만들지라도요..\\n정이 진짜 무서운 것 같아요\\n그리고 그 순간 좋았던 추억들도요..\\n통달하신 인프피가 계신가요..??',\n",
       " '평소에 표정 변화가 그닥 없는 인프제에요.\\n예외적으로 몇가지 있는 분노버튼이 눌리면 표정 숨기지 못하는(않는) 편이라는걸\\n스스로는 잘 알고있긴한데..;;\\n엔프피 썸남이 \"원래 표정 잘 못숨기잖아\"라고 해서 좀 당황했어요.\\n엔프피는 남 관찰 잘 안한다고 생각했는데 편견일까요?🤔',\n",
       " '연락 다시 해 보려고 하는데\\n안 잡히겠죠? ㅠ 제가 차인 상황이고\\n연락 안 한지는 2주 됐네요',\n",
       " '날이 정말 더워서 냉방병 걸리기도 좋네요... 하루 내내 비실비실 피로함... 다들 몸관리 잘 하시길...',\n",
       " '핸드드립 한잔했습니다.\\n하......\\n어제 블투키보드가 고장나버린거..\\n결국 하나 새로 모셔오기로 했습니다ㅠㅠ\\nas방법도 복잡해서..\\n(이제사 거의 1년 다 되어가는데....)\\n더 튼튼하고 좋은거로 사야겠어요.\\n마음은 이미 정해뒀고요.\\n제 블투키보드를 위로해주세요.\\n1년간 치열하게 산 친구입니다.\\n엉엉.....ㅠㅠㅠㅠㅠㅠ\\n연결마저 안되는...어흑...불쌍해요 내 키보드..ㅠㅠ',\n",
       " '친구관계인 인프피가 너무 맘에 드는데, 한 번 친구라는 생각이 들면 연인관계로는 잘 넘어가지 않는 편인지 궁금해서요.\\n최대한 편하게 해주고, 관심가지고있는데 그러다가 너무 편해서 계속 친구일까봐 걱정되네요.',\n",
       " '엔프피가 저한테 적극적인 여자는 너가 처음이라서 당황스럽다 근데 싫은건 아니다 이렇게 말하는데 이건 안좋은 뜻이겠죠..? 소심하게 굴어야 될까요..?ㅠㅠ0ㅠ',\n",
       " '저희 둘 다 여행다니고 다른나라 문화, 언어 습득하는거 좋아하는 성향인데요.\\n엔프피 남자가 저에게 같이 여행다니자 그러고 우리 비슷한게 많다며 운명아니냐고 그러는데\\n이거 그냥 아무의미없이 막던진 말인가요...??',\n",
       " \"좀 긴데 제발 읽어주세여ㅜ\\n저는 진짜 연락에 집착없는 편이라서ㅜㅠ\\n여지껏 연애하면서 게임한다고 연락 늦는 남친들한테도 서운하다 말해본적없고..(실제로 각자 시간을 최대한 존중해주는걸 좋아하는 성격이라..)\\n되려 상대방이 저한테 집착이 너무 없는거 같다고 많이 말할 정도였는데 ㅜ\\n연락때문에 스트레스받아보긴 처음이네요😢\\n우선 지금만나는 분이(상대방분 남성입니다)\\n직접만나면 정말. 너무너무 잘 해줍니다.\\n눈에서도 꿀떨어지는게 느껴질 정도고. 말이나 행동에서도 배려를 많이해주시고. 나이차 거의 안나는데 돈도 절대 못쓰게하고 자기가 다 계산하려하고.\\n만날때마다 선물이나 간단한 쪽지같이 뭔가 챙겨와서 주려하고...\\n만나서는 정말 부족한거 없이 너무 완벽한분인데\\n연락이 너무 안되용ㅋㅋ큐ㅠㅜㅠㅠㅠ😂\\n원래도 폰을 손에 잘안들고 다니는분인데\\n(평소에  직업때문에 가방들고다니시는데 주머니나 손이아니라 가방에 폰을 집어 넣고 다니고,\\n카페에서 그분이 손님이고 저는 알바생일때 제가 연락처 먼저 드려 현재 썸타는중인데\\n카페에 손님으로 있을때도 폰만지는걸 한번도 본적이없어서.. 저분은 폰이 없나 싶은 생각이 들정도긴 했어요 ㅜ)\\n일이나 뭐에 집중할땐 더 연락을 잘 안보시는분 같고..\\n애당초 연락을 그렇게 주변지인들이랑도  자주하는 성격인 분은 아닌것 같고...\\n선톡을 즐기는 분도 아닌거 같고..\\n(제가 제 전화번호 관심있다하면서 카페에서 연락처 적힌 쪽지 드렸을때도 첫날에 죙일 연락안오길래 '아 나한테 관심없었나 보다' 하고 마음접으려했더니\\n다음날 카페에 직접 찾아와선..ㅎ '관심있는데 뭐라고 연락해야할지 몰라서 연락 못드렸어요,,ㅎ 죄송해요' 이렇게 말씀하신...ㅋㅋㅋㅋㅋㅋ😂😂😂 그래서 제가 이모티콘 하나라도 카톡으로 보내달라해서 그렇게 연락중인데 연락을 참 어려워 하는거 같기도 하고ㅜ)\\n쨋든 그래서 카톡을 그분이랑 하면...\\n제가 주로 카톡을 먼저보내는데\\n카톡 내용이 말도 참이쁘게하고. 저를 좋아하는게 눈에보이고. 티키타카도 잘되긴하는데 답장이 너무 느려\\n속이 터지기 일보직전이에요ㅠㅠㅜㅜㅜㅠㅠㅠㅜㅜㅠ\\n진짜보통 30분~1시간이 기본이고\\n2시간에 한번 답장올때도 매우매우매우 많고..ㅎㅎㅎ\\n집중할땐 3~4시간에 한번 답장오기도합니다.\\n참..오는 답장 내용보면 너무 이쁜사람이라 기분좋다가도\\n이건 뭐 ㅠㅠㅜ 썸에도 연락 텀이 너무 기니 ㅠㅠㅜㅜㅠㅠㅜㅜㅠㅍ퓨ㅠ\\n하루에 톡을 몇번 나누지도 못하는 ㅠㅠㅜ\\n이런모습보면ㅠㅜㅜ\\n아무리 연락을 잘안하고 폰을 잘 안만지는 분이라도\\n서로 호감이있는거라면 이렇게 행동할수 있을까 싶기도하고 ㅠㅠㅠㅠㅠㅠㅜㅜㅠㅠ\\n그냥 딱 나에게 2시간. 3~4시간만에 답장줄만큼만 좋아하는거 거나. 어장인가 싶은 생각이 들기도 하고 ㅠㅠㅜㅠ\\n하 답답한데 ㅠㅠㅜ 고민털어놀곳 없어서 여기에 글 쓰네요 ㅜㅠㅠ\\n좋아해도 연락이렇게 썸기간에 적게 하시는분들도 계신가요...??????ㅜ\\n(그분은 20대후반이고. mbti 저한테  첨엔 enfp라했는데.. 최근에 밥먹고 대화나눌때 다시해보니까 infp나왔다고 했습니다!)\\n그리고 썸기간에도 연락문제로 서운하면 다들 서운하다 말하는편인가요???!\\n연인사이도 아니라 서운하다 말해도 되는건지 ㅠ\\n거기까진 너무 간건지 잘 모르겠고 ㅠㅠㅜㅜㅠㅠㅠ\\n 조언좀 해주세여 ㅠㅠ\",\n",
       " '많이 헌신적이고 모두 쏟아붓는 성격으로 알고 있는데 맞나요...?\\n내 사람이라 생각한 사람에게 막 내 것은 진짜 다 내어주고 봉사하는..?\\n사실 개인적으로 엔프피 친구와 갈등을 겪고 있는데  좀 얘기좀 들어주실분..',\n",
       " '네..\\n며칠전부터 물음표가 안눌리더니..\\n오늘아침 일어나기위해 알람문구 따라쓰기로 했는데,\\n블루투스 키보드인..엑스폴딩 트리플의..\\n물음표가 안눌려서 진행이 안되길래..\\n앱캐시 청소로 비상탈출 했습니다..\\nAS 방법도 보내는 방법도 복잡하네요....\\n아이고 돌겠다 진짜ㅠㅠㅠㅠㅠㅠㅠ\\n나 어뜩해요..돈도없는데..\\n어으....내 키보드..엉엉...ㅠㅠ',\n",
       " '아는 infp분이 조금씩 조금씩 밝아지더니 별로 친한 관계는 아닌데 갑자기 장난을 엄청 치네용 ㅋㅋㅋㅋㅋㅋㅋㅋㅋㅋㅋㅋㅋㅋㅋㅋㅋㅋ\\n꼬투리 하나 잡았다고 놀리고 장난치는게 귀여워서 기분 나쁘다거나 그런 생각은 안드는데\\n제가 아는 infp랑 달라서 신기해요 ㅋㅋㅋ\\n다른 인프피 분들도 장난 많이 치세요?',\n",
       " 'infp 분들~~\\n제가  친구가  수업 끝나고 얘기하자 하면\\n수업 시간 1도 집중 못 하고 \\n절교하는 상상까지 하는데 ㅠ \\n다른 인프피도 그런가요????']"
      ]
     },
     "execution_count": 24,
     "metadata": {},
     "output_type": "execute_result"
    }
   ],
   "source": [
    "# 크롤링한 게시글 본문\n",
    "content"
   ]
  },
  {
   "cell_type": "code",
   "execution_count": 25,
   "id": "5d2e5c0d",
   "metadata": {},
   "outputs": [
    {
     "name": "stdout",
     "output_type": "stream",
     "text": [
      "17 17\n"
     ]
    }
   ],
   "source": [
    "print(len(title), len(content))"
   ]
  },
  {
   "cell_type": "markdown",
   "id": "02612be2",
   "metadata": {},
   "source": [
    "### 데이터프레임화해서 파일로 저장"
   ]
  },
  {
   "cell_type": "code",
   "execution_count": 26,
   "id": "085e1e08",
   "metadata": {},
   "outputs": [
    {
     "data": {
      "text/html": [
       "<div>\n",
       "<style scoped>\n",
       "    .dataframe tbody tr th:only-of-type {\n",
       "        vertical-align: middle;\n",
       "    }\n",
       "\n",
       "    .dataframe tbody tr th {\n",
       "        vertical-align: top;\n",
       "    }\n",
       "\n",
       "    .dataframe thead th {\n",
       "        text-align: right;\n",
       "    }\n",
       "</style>\n",
       "<table border=\"1\" class=\"dataframe\">\n",
       "  <thead>\n",
       "    <tr style=\"text-align: right;\">\n",
       "      <th></th>\n",
       "      <th>mbti</th>\n",
       "      <th>title</th>\n",
       "      <th>content</th>\n",
       "    </tr>\n",
       "  </thead>\n",
       "  <tbody>\n",
       "    <tr>\n",
       "      <th>0</th>\n",
       "      <td>enfp</td>\n",
       "      <td>일상 살면서 필요한 창의적인거 있어나요?요새너무 더우니까 뭐 어떤거 필요하거나 이런거요</td>\n",
       "      <td>의견 부탁드려용</td>\n",
       "    </tr>\n",
       "    <tr>\n",
       "      <th>1</th>\n",
       "      <td>infp</td>\n",
       "      <td>저녁 못먹었어요.</td>\n",
       "      <td>이유:피자 먹은게 계속 느끼한 느낌이 들어서,\\n저녁 도저히 못먹겠어요.\\n가스 활...</td>\n",
       "    </tr>\n",
       "    <tr>\n",
       "      <th>2</th>\n",
       "      <td>infp</td>\n",
       "      <td>앗!여우의 신무기에양!</td>\n",
       "      <td>네...\\n결국 as의 복잡한 방식으로 인해..\\n여러 키가 눌리지 않아,\\n얼리버...</td>\n",
       "    </tr>\n",
       "    <tr>\n",
       "      <th>3</th>\n",
       "      <td>infp</td>\n",
       "      <td>구름 심리테스트(인척)</td>\n",
       "      <td>구름에서 무엇이 보이시나요?\\n1. 물고기\\n당신은 귀여운것을 좋아하는 사람입니다....</td>\n",
       "    </tr>\n",
       "    <tr>\n",
       "      <th>4</th>\n",
       "      <td>infp</td>\n",
       "      <td>인프피 여러분 만남과 이별에 무뎌지는 법은 뭘까요??</td>\n",
       "      <td>제가 아직 철이 덜들어서 그런 건지 성숙하지 못한건지\\n새로운 만남은 아무생각 없이...</td>\n",
       "    </tr>\n",
       "    <tr>\n",
       "      <th>5</th>\n",
       "      <td>infj</td>\n",
       "      <td>엔프피가 사람을 관찰하나요?</td>\n",
       "      <td>평소에 표정 변화가 그닥 없는 인프제에요.\\n예외적으로 몇가지 있는 분노버튼이 눌리...</td>\n",
       "    </tr>\n",
       "    <tr>\n",
       "      <th>6</th>\n",
       "      <td>isfp</td>\n",
       "      <td>엔프피 여자 이별후</td>\n",
       "      <td>연락 다시 해 보려고 하는데\\n안 잡히겠죠? ㅠ 제가 차인 상황이고\\n연락 안 한지...</td>\n",
       "    </tr>\n",
       "    <tr>\n",
       "      <th>7</th>\n",
       "      <td>infp</td>\n",
       "      <td>인프피 질문해주세요!!</td>\n",
       "      <td>날이 정말 더워서 냉방병 걸리기도 좋네요... 하루 내내 비실비실 피로함... 다들...</td>\n",
       "    </tr>\n",
       "    <tr>\n",
       "      <th>8</th>\n",
       "      <td>infp</td>\n",
       "      <td>.</td>\n",
       "      <td>핸드드립 한잔했습니다.\\n하......\\n어제 블투키보드가 고장나버린거..\\n결국 ...</td>\n",
       "    </tr>\n",
       "    <tr>\n",
       "      <th>9</th>\n",
       "      <td>estp</td>\n",
       "      <td>인프피분들 한 번 친구면 계속 친구인가요?</td>\n",
       "      <td>친구관계인 인프피가 너무 맘에 드는데, 한 번 친구라는 생각이 들면 연인관계로는 잘...</td>\n",
       "    </tr>\n",
       "    <tr>\n",
       "      <th>10</th>\n",
       "      <td>isfj</td>\n",
       "      <td>ENFP에게 적극적인 이성은 어떤가요??</td>\n",
       "      <td>엔프피가 저한테 적극적인 여자는 너가 처음이라서 당황스럽다 근데 싫은건 아니다 이렇...</td>\n",
       "    </tr>\n",
       "    <tr>\n",
       "      <th>11</th>\n",
       "      <td>entp</td>\n",
       "      <td>엔프피 질문드립니다</td>\n",
       "      <td>저희 둘 다 여행다니고 다른나라 문화, 언어 습득하는거 좋아하는 성향인데요.\\n엔프...</td>\n",
       "    </tr>\n",
       "    <tr>\n",
       "      <th>12</th>\n",
       "      <td>infp</td>\n",
       "      <td>썸기간 연락문제ㅠㅠㅜㅠ</td>\n",
       "      <td>좀 긴데 제발 읽어주세여ㅜ\\n저는 진짜 연락에 집착없는 편이라서ㅜㅠ\\n여지껏 연애하...</td>\n",
       "    </tr>\n",
       "    <tr>\n",
       "      <th>13</th>\n",
       "      <td>esfp</td>\n",
       "      <td>엔프피 여자 질문..</td>\n",
       "      <td>많이 헌신적이고 모두 쏟아붓는 성격으로 알고 있는데 맞나요...?\\n내 사람이라 생...</td>\n",
       "    </tr>\n",
       "    <tr>\n",
       "      <th>14</th>\n",
       "      <td>infp</td>\n",
       "      <td>내 키보드 고장났댜아아아~입미댜아아...</td>\n",
       "      <td>네..\\n며칠전부터 물음표가 안눌리더니..\\n오늘아침 일어나기위해 알람문구 따라쓰기...</td>\n",
       "    </tr>\n",
       "    <tr>\n",
       "      <th>15</th>\n",
       "      <td>enfp</td>\n",
       "      <td>인프피가 장난 많이쳐요?ㅋㅋㅋㅋㅋㅋㅋㅋㅋㅋ</td>\n",
       "      <td>아는 infp분이 조금씩 조금씩 밝아지더니 별로 친한 관계는 아닌데 갑자기 장난을 ...</td>\n",
       "    </tr>\n",
       "    <tr>\n",
       "      <th>16</th>\n",
       "      <td>infp</td>\n",
       "      <td>infp 분들~~</td>\n",
       "      <td>infp 분들~~\\n제가  친구가  수업 끝나고 얘기하자 하면\\n수업 시간 1도 집...</td>\n",
       "    </tr>\n",
       "  </tbody>\n",
       "</table>\n",
       "</div>"
      ],
      "text/plain": [
       "    mbti                                             title  \\\n",
       "0   enfp  일상 살면서 필요한 창의적인거 있어나요?요새너무 더우니까 뭐 어떤거 필요하거나 이런거요   \n",
       "1   infp                                         저녁 못먹었어요.   \n",
       "2   infp                                      앗!여우의 신무기에양!   \n",
       "3   infp                                      구름 심리테스트(인척)   \n",
       "4   infp                     인프피 여러분 만남과 이별에 무뎌지는 법은 뭘까요??   \n",
       "5   infj                                   엔프피가 사람을 관찰하나요?   \n",
       "6   isfp                                        엔프피 여자 이별후   \n",
       "7   infp                                      인프피 질문해주세요!!   \n",
       "8   infp                                                 .   \n",
       "9   estp                           인프피분들 한 번 친구면 계속 친구인가요?   \n",
       "10  isfj                            ENFP에게 적극적인 이성은 어떤가요??   \n",
       "11  entp                                        엔프피 질문드립니다   \n",
       "12  infp                                      썸기간 연락문제ㅠㅠㅜㅠ   \n",
       "13  esfp                                       엔프피 여자 질문..   \n",
       "14  infp                            내 키보드 고장났댜아아아~입미댜아아...   \n",
       "15  enfp                           인프피가 장난 많이쳐요?ㅋㅋㅋㅋㅋㅋㅋㅋㅋㅋ   \n",
       "16  infp                                         infp 분들~~   \n",
       "\n",
       "                                              content  \n",
       "0                                            의견 부탁드려용  \n",
       "1   이유:피자 먹은게 계속 느끼한 느낌이 들어서,\\n저녁 도저히 못먹겠어요.\\n가스 활...  \n",
       "2   네...\\n결국 as의 복잡한 방식으로 인해..\\n여러 키가 눌리지 않아,\\n얼리버...  \n",
       "3   구름에서 무엇이 보이시나요?\\n1. 물고기\\n당신은 귀여운것을 좋아하는 사람입니다....  \n",
       "4   제가 아직 철이 덜들어서 그런 건지 성숙하지 못한건지\\n새로운 만남은 아무생각 없이...  \n",
       "5   평소에 표정 변화가 그닥 없는 인프제에요.\\n예외적으로 몇가지 있는 분노버튼이 눌리...  \n",
       "6   연락 다시 해 보려고 하는데\\n안 잡히겠죠? ㅠ 제가 차인 상황이고\\n연락 안 한지...  \n",
       "7   날이 정말 더워서 냉방병 걸리기도 좋네요... 하루 내내 비실비실 피로함... 다들...  \n",
       "8   핸드드립 한잔했습니다.\\n하......\\n어제 블투키보드가 고장나버린거..\\n결국 ...  \n",
       "9   친구관계인 인프피가 너무 맘에 드는데, 한 번 친구라는 생각이 들면 연인관계로는 잘...  \n",
       "10  엔프피가 저한테 적극적인 여자는 너가 처음이라서 당황스럽다 근데 싫은건 아니다 이렇...  \n",
       "11  저희 둘 다 여행다니고 다른나라 문화, 언어 습득하는거 좋아하는 성향인데요.\\n엔프...  \n",
       "12  좀 긴데 제발 읽어주세여ㅜ\\n저는 진짜 연락에 집착없는 편이라서ㅜㅠ\\n여지껏 연애하...  \n",
       "13  많이 헌신적이고 모두 쏟아붓는 성격으로 알고 있는데 맞나요...?\\n내 사람이라 생...  \n",
       "14  네..\\n며칠전부터 물음표가 안눌리더니..\\n오늘아침 일어나기위해 알람문구 따라쓰기...  \n",
       "15  아는 infp분이 조금씩 조금씩 밝아지더니 별로 친한 관계는 아닌데 갑자기 장난을 ...  \n",
       "16  infp 분들~~\\n제가  친구가  수업 끝나고 얘기하자 하면\\n수업 시간 1도 집...  "
      ]
     },
     "execution_count": 26,
     "metadata": {},
     "output_type": "execute_result"
    }
   ],
   "source": [
    "data = pd.DataFrame({'mbti': nickname, 'title': title, 'content': content})\n",
    "data"
   ]
  },
  {
   "cell_type": "code",
   "execution_count": 27,
   "id": "df428065",
   "metadata": {},
   "outputs": [],
   "source": [
    "data.to_csv('INFP & ENFP 게시판 크롤링 데이터(test).csv')"
   ]
  }
 ],
 "metadata": {
  "kernelspec": {
   "display_name": "Python 3",
   "language": "python",
   "name": "python3"
  },
  "language_info": {
   "codemirror_mode": {
    "name": "ipython",
    "version": 3
   },
   "file_extension": ".py",
   "mimetype": "text/x-python",
   "name": "python",
   "nbconvert_exporter": "python",
   "pygments_lexer": "ipython3",
   "version": "3.8.8"
  }
 },
 "nbformat": 4,
 "nbformat_minor": 5
}

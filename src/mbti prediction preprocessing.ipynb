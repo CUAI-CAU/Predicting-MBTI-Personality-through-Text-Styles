{
 "cells": [
  {
   "cell_type": "markdown",
   "metadata": {},
   "source": [
    "# import library"
   ]
  },
  {
   "cell_type": "code",
   "execution_count": null,
   "metadata": {
    "scrolled": true
   },
   "outputs": [],
   "source": [
    "import pandas as pd\n",
    "import numpy as np\n",
    "import pickle\n",
    "import re\n",
    "from tqdm import tqdm\n",
    "import matplotlib.pyplot as plt\n",
    "from konlpy.tag import Mecab\n",
    "from konlpy.tag import Okt\n",
    "from konlpy.tag import Kkma\n",
    "from konlpy.tag import Komoran\n",
    "from konlpy.tag import Hannanum\n",
    "from sklearn.preprocessing import LabelEncoder\n",
    "import seaborn as sns\n",
    "okt = Okt()\n",
    "kkma=Kkma()\n",
    "mecab=Mecab(dicpath=r\"C:\\mecab\\mecab-ko-dic\") \n",
    "komoran=Komoran()\n",
    "hannanum=Hannanum()"
   ]
  },
  {
   "cell_type": "code",
   "execution_count": null,
   "metadata": {},
   "outputs": [],
   "source": [
    "from sklearn.feature_extraction.text import CountVectorizer, TfidfVectorizer"
   ]
  },
  {
   "cell_type": "markdown",
   "metadata": {},
   "source": [
    "# data load"
   ]
  },
  {
   "cell_type": "code",
   "execution_count": null,
   "metadata": {},
   "outputs": [],
   "source": [
    "data11_from_277541_to_37=pd.read_csv('./data11_from_277541_to_37.csv', )\n",
    "data11_from_520037_to_277264=pd.read_csv('./data11_from_520037_to_277264.csv')\n",
    "data12_from_135461_to_62444=pd.read_csv('./data12_from_135461_to_62444.csv')\n",
    "data12_from_317154_to_135519=pd.read_csv('./data12_from_317154_to_135519.csv')\n",
    "data12_from_456597_to_317136=pd.read_csv('./data12_from_456597_to_317136.csv')\n",
    "data12_from_520015_to_456369=pd.read_csv('./data12_from_520015_to_456369.csv')\n",
    "data12_from_62438_to_38=pd.read_csv('./data12_from_62438_to_38.csv')\n",
    "data13_from_300811_to_39=pd.read_csv('./data13_from_300811_to_39.csv')\n",
    "data13_from_519990_to_301071=pd.read_csv('./data13_from_519990_to_301071.csv')"
   ]
  },
  {
   "cell_type": "code",
   "execution_count": null,
   "metadata": {},
   "outputs": [],
   "source": [
    "mbtidata_101_128_72=pd.read_csv('./mbtidata_101_128_72.csv')\n",
    "data28=pd.read_csv('./data28_from_520142_to_273525.csv')"
   ]
  },
  {
   "cell_type": "code",
   "execution_count": null,
   "metadata": {},
   "outputs": [],
   "source": [
    "data16_from_520598_to_42=pd.read_csv('./data16_from_520598_to_42.csv')\n",
    "data16_from_520598_to_519889=pd.read_csv('./data16_from_520598_to_519889.csv')\n",
    "data16=pd.concat([data16_from_520598_to_42,data16_from_520598_to_519889], axis=0)\n",
    "data14=pd.read_csv('./data14_from_520893_to_40.csv')\n",
    "data15=pd.read_csv('./data15_from_520701_to_41.csv')"
   ]
  },
  {
   "cell_type": "code",
   "execution_count": null,
   "metadata": {},
   "outputs": [],
   "source": [
    "data18_from_244601_to_35561=pd.read_csv('./data18_from_244601_to_35561.csv')\n",
    "data18_from_418760_to_244386=pd.read_csv('./data18_from_418760_to_244386.csv')\n",
    "data18_from_520161_to_419044=pd.read_csv('./data18_from_520161_to_419044.csv')\n",
    "\n",
    "data17_from_102143_to_1915=pd.read_csv('./data17_from_102143_to_1915.csv')\n",
    "data17_from_333281_to_101367=pd.read_csv('./data17_from_333281_to_101367.csv')\n",
    "data17_from_390309_to_333215=pd.read_csv('./data17_from_390309_to_333215.csv')\n",
    "data17_from_520127_to_391024=pd.read_csv('./data17_from_520127_to_391024.csv')\n",
    "\n",
    "data18=pd.concat([data18_from_244601_to_35561,data18_from_418760_to_244386,data18_from_520161_to_419044], axis=0)\n",
    "data17=pd.concat([data17_from_102143_to_1915,data17_from_333281_to_101367,data17_from_390309_to_333215,data17_from_520127_to_391024], axis=0)"
   ]
  },
  {
   "cell_type": "code",
   "execution_count": null,
   "metadata": {},
   "outputs": [],
   "source": [
    "data11=pd.concat([data11_from_277541_to_37,data11_from_520037_to_277264], axis=0)\n",
    "data12=pd.concat([data12_from_135461_to_62444,data12_from_317154_to_135519,data12_from_456597_to_317136,data12_from_520015_to_456369,data12_from_62438_to_38], axis=0)\n",
    "data13=pd.concat([data13_from_300811_to_39,data13_from_519990_to_301071], axis=0)"
   ]
  },
  {
   "cell_type": "code",
   "execution_count": null,
   "metadata": {},
   "outputs": [],
   "source": [
    "data11['menu_id']=11\n",
    "data12['menu_id']=12\n",
    "data13['menu_id']=13\n",
    "data28['menu_id']=28\n",
    "data14['menu_id']=14\n",
    "data15['menu_id']=15\n",
    "data16['menu_id']=16\n",
    "data17['menu_id']=17\n",
    "data18['menu_id']=18"
   ]
  },
  {
   "cell_type": "code",
   "execution_count": null,
   "metadata": {},
   "outputs": [],
   "source": [
    "data=pd.concat([data11,data12,data13,mbtidata_101_128_72, data28, data14, data15,data16,data17,data18], axis=0)"
   ]
  },
  {
   "cell_type": "code",
   "execution_count": null,
   "metadata": {},
   "outputs": [],
   "source": [
    "data.drop(['Unnamed: 0'], axis=1, inplace=True)"
   ]
  },
  {
   "cell_type": "code",
   "execution_count": null,
   "metadata": {},
   "outputs": [],
   "source": [
    "data.dropna(inplace=True)"
   ]
  },
  {
   "cell_type": "code",
   "execution_count": null,
   "metadata": {},
   "outputs": [],
   "source": [
    "data.mbti=data.mbti.apply(lambda x : np.nan if x.find('ui')!=-1 else x)\n",
    "data.dropna(inplace=True)"
   ]
  },
  {
   "cell_type": "code",
   "execution_count": null,
   "metadata": {},
   "outputs": [],
   "source": [
    "data=data.reset_index().drop(['index'], axis=1)"
   ]
  },
  {
   "cell_type": "code",
   "execution_count": null,
   "metadata": {},
   "outputs": [],
   "source": [
    "data"
   ]
  },
  {
   "cell_type": "markdown",
   "metadata": {},
   "source": [
    "# preprocessing"
   ]
  },
  {
   "cell_type": "markdown",
   "metadata": {},
   "source": [
    "## 전처리 함수 정의"
   ]
  },
  {
   "cell_type": "code",
   "execution_count": null,
   "metadata": {},
   "outputs": [],
   "source": [
    "# 전처리 함수 정의\n",
    "def cleansing(text):  \n",
    "\n",
    "    text=text[2:-2]\n",
    "    \n",
    "    pattern = '([u200b]+)'         \n",
    "    text = re.sub(pattern=pattern, repl=' ', string=text)\n",
    "    \n",
    "    pattern = '([a-zA-Z0-9_.+-]+@[a-zA-Z0-9-]+\\.[a-zA-Z0-9-.]+\\.[a-zA-Z0-9-.]+)' # e-mail 주소 제거  \n",
    "    text = re.sub(pattern=pattern,repl=' ',string=text)\n",
    "    \n",
    "    pattern = '(http|ftp|https)://(?:[-\\w.]|(?:\\da-fA-F]{3}))+'  # url 제거\n",
    "    text = re.sub(pattern=pattern,repl=' ',string=text)\n",
    "    \n",
    "    pattern = 'www.(?:[-\\w.]|(?:\\da-fA-F]{2}))+'  # url 제거\n",
    "    text = re.sub(pattern=pattern,repl=' ',string=text)  \n",
    "    \n",
    "    pattern = r'\\([^)]*\\)' # () 속 문자 제거\n",
    "    text = re.sub(pattern=pattern, repl=' ', string=str(text)) \n",
    "    \n",
    "    pattern = r'\\[[^]]*\\]' # [] 속 문자 제거\n",
    "    text = re.sub(pattern=pattern, repl=' ', string=text)\n",
    "    \n",
    "    pattern = '\\d\\W'                                          # 숫자+ 특수분자 제거\n",
    "    text = re.sub(pattern=pattern,repl=' ',string=text)\n",
    "    \n",
    "    pattern = '[\\r|\\n]'                                          # \\r, \\n 제거\n",
    "    text = re.sub(pattern=pattern,repl=' ',string=text)\n",
    "\n",
    "    pattern = '[^\\w\\s\\.\\,\\%\\~]'                                          # 특수기호 제거\n",
    "    text = re.sub(pattern=pattern,repl=' ',string=text)\n",
    "    \n",
    "    pattern = '([ㄱ-ㅎㅏ-ㅣ]+)'  # 한글 자음, 모음 제거\n",
    "    text = re.sub(pattern=pattern, repl=' ', string=text)\n",
    "\n",
    "    pattern = '[^\\w\\s]'         # 특수기호제거\n",
    "    text = re.sub(pattern=pattern, repl=' ', string=text)\n",
    "    \n",
    "    pattern = '인프피|인픞' \n",
    "    text = re.sub(pattern=pattern,repl='infp',string=text)\n",
    "    \n",
    "    pattern = '엔프피|엔픞' \n",
    "    text = re.sub(pattern=pattern,repl='enfp',string=text)\n",
    "    \n",
    "    pattern = '인팁' \n",
    "    text = re.sub(pattern=pattern,repl='intp',string=text)\n",
    "    \n",
    "    pattern = '엔팁' # 엔 팁\n",
    "    text = re.sub(pattern=pattern,repl='entp',string=text)\n",
    "    \n",
    "    pattern = '잇프피|잇픞' \n",
    "    text = re.sub(pattern=pattern,repl='isfp',string=text)\n",
    "    \n",
    "    pattern = '엣프피|엣픞' \n",
    "    text = re.sub(pattern=pattern,repl='esfp',string=text)\n",
    "    \n",
    "    pattern = '잇팁' \n",
    "    text = re.sub(pattern=pattern,repl='istp',string=text)\n",
    "    \n",
    "    pattern = '엣팁' \n",
    "    text = re.sub(pattern=pattern,repl='estp',string=text)\n",
    "    \n",
    "    pattern = '인프제' \n",
    "    text = re.sub(pattern=pattern,repl='infj',string=text)\n",
    "    \n",
    "    pattern = '엔프제' \n",
    "    text = re.sub(pattern=pattern,repl='enfj',string=text)\n",
    "    \n",
    "    pattern = '잇프제' \n",
    "    text = re.sub(pattern=pattern,repl='isfj',string=text)\n",
    "    \n",
    "    pattern = '엣프제' \n",
    "    text = re.sub(pattern=pattern,repl='esfj',string=text)\n",
    "    \n",
    "    pattern = '인티제' \n",
    "    text = re.sub(pattern=pattern,repl='intj',string=text)\n",
    "    \n",
    "    pattern = '엔티제' \n",
    "    text = re.sub(pattern=pattern,repl='entj',string=text)\n",
    "    \n",
    "    pattern = '잇티제|이티제' # 이티제\n",
    "    text = re.sub(pattern=pattern,repl='istj',string=text)\n",
    "    \n",
    "    pattern = '엣티제|에스티제' # 에스티제\n",
    "    text = re.sub(pattern=pattern,repl='estj',string=text)\n",
    "    \n",
    "    pattern = 'enfj|enfp|entj|entp|esfj|esfp|estj|estp|infj|infp|intj|intp|isfj|isfp|istj|istp'         \n",
    "    text = re.sub(pattern=pattern, repl=' ', string=text)\n",
    "    \n",
    "    pattern = r'[\\\\n]+'    \n",
    "    text = re.sub(pattern=pattern, repl='', string=text)\n",
    "\n",
    "    pattern = re.compile(r'\\s+')                                 # 이중 space 제거\n",
    "    text = re.sub(pattern=pattern,repl=' ',string=text)\n",
    "    \n",
    "    return(text)"
   ]
  },
  {
   "cell_type": "code",
   "execution_count": null,
   "metadata": {},
   "outputs": [],
   "source": [
    "data1=data.copy()\n",
    "for i in tqdm(range(len(data1))):\n",
    "    data1.loc[i,'content']=cleansing(data1.loc[i,'content']) # 정규표현식\n",
    "#     data1.loc[i,'content']=okt.normalize(data1.loc[i,'content']) # 다듬기"
   ]
  },
  {
   "cell_type": "code",
   "execution_count": null,
   "metadata": {},
   "outputs": [],
   "source": [
    "# content 길이 plot\n",
    "length=data1['content'].astype(str).apply(len)\n",
    "plt.hist(length, bins=50, alpha=0.5, color='r', label='word')\n",
    "plt.title('histogram of length of content')\n",
    "plt.figure(figsize=(12, 5))\n",
    "plt.boxplot(length, labels=['counts'], showmeans=True)\n",
    "print('content 길이 최댓값: {}'.format(np.max(length)))\n",
    "print('content 길이 최솟값: {}'.format(np.min(length)))\n",
    "print('content 길이 평균값: {}'.format(np.mean(length)))\n",
    "print('content 길이 중간값: {}'.format(np.median(length)))"
   ]
  },
  {
   "cell_type": "code",
   "execution_count": null,
   "metadata": {},
   "outputs": [],
   "source": [
    "# content 길이 10퍼센트 미만인 글 제거\n",
    "data1.drop(data1[length<np.percentile(length,10)].index, inplace=True)\n",
    "data1=data1.reset_index().drop(['index'], axis=1)"
   ]
  },
  {
   "cell_type": "code",
   "execution_count": null,
   "metadata": {},
   "outputs": [],
   "source": [
    "data2=data1.copy()"
   ]
  },
  {
   "cell_type": "code",
   "execution_count": null,
   "metadata": {},
   "outputs": [],
   "source": [
    "def replace_mbti(text):\n",
    "    pattern = '인프피|인픞' \n",
    "    text = re.sub(pattern=pattern,repl='INFP',string=text)\n",
    "    \n",
    "    pattern = '엔프피|엔픞' \n",
    "    text = re.sub(pattern=pattern,repl='ENFP',string=text)\n",
    "    \n",
    "    pattern = '인팁' \n",
    "    text = re.sub(pattern=pattern,repl='INTP',string=text)\n",
    "    \n",
    "    pattern = '엔팁' # 엔 팁\n",
    "    text = re.sub(pattern=pattern,repl='ENTP',string=text)\n",
    "    \n",
    "    pattern = '잇프피|잇픞' \n",
    "    text = re.sub(pattern=pattern,repl='ISFP',string=text)\n",
    "    \n",
    "    pattern = '엣프피|엣픞' \n",
    "    text = re.sub(pattern=pattern,repl='ESFP',string=text)\n",
    "    \n",
    "    pattern = '잇팁' \n",
    "    text = re.sub(pattern=pattern,repl='ISTP',string=text)\n",
    "    \n",
    "    pattern = '엣팁' \n",
    "    text = re.sub(pattern=pattern,repl='ESTP',string=text)\n",
    "    \n",
    "    pattern = '인프제' \n",
    "    text = re.sub(pattern=pattern,repl='INFJ',string=text)\n",
    "    \n",
    "    pattern = '엔프제' \n",
    "    text = re.sub(pattern=pattern,repl='ENFJ',string=text)\n",
    "    \n",
    "    pattern = '잇프제' \n",
    "    text = re.sub(pattern=pattern,repl='ISFJ',string=text)\n",
    "    \n",
    "    pattern = '엣프제' \n",
    "    text = re.sub(pattern=pattern,repl='ESFJ',string=text)\n",
    "    \n",
    "    pattern = '인티제' \n",
    "    text = re.sub(pattern=pattern,repl='INTJ',string=text)\n",
    "    \n",
    "    pattern = '엔티제' \n",
    "    text = re.sub(pattern=pattern,repl='ENTJ',string=text)\n",
    "    \n",
    "    pattern = '잇티제|이티제' # 이티제\n",
    "    text = re.sub(pattern=pattern,repl='ISTJ',string=text)\n",
    "    \n",
    "    pattern = '엣티제|에스티제' # 에스티제\n",
    "    text = re.sub(pattern=pattern,repl='ESTJ',string=text)\n",
    "    \n",
    "    return (text)"
   ]
  },
  {
   "cell_type": "code",
   "execution_count": null,
   "metadata": {},
   "outputs": [],
   "source": [
    "for i in tqdm(range(len(data2))):\n",
    "    data2.loc[i,'mbti']=replace_mbti(data2.loc[i,'mbti'])\n",
    "    data2.loc[i,'mbti']=data2.loc[i,'mbti'].lower()"
   ]
  },
  {
   "cell_type": "code",
   "execution_count": null,
   "metadata": {},
   "outputs": [],
   "source": []
  },
  {
   "cell_type": "markdown",
   "metadata": {},
   "source": [
    "## labeling"
   ]
  },
  {
   "cell_type": "code",
   "execution_count": null,
   "metadata": {},
   "outputs": [],
   "source": [
    "# labeling 16개 (0-15)\n",
    "encoder=LabelEncoder()\n",
    "data2['mbti_label']=encoder.fit_transform(data2['mbti'])"
   ]
  },
  {
   "cell_type": "code",
   "execution_count": null,
   "metadata": {},
   "outputs": [],
   "source": [
    "# map (0-15)\n",
    "encoder.classes_"
   ]
  },
  {
   "cell_type": "code",
   "execution_count": null,
   "metadata": {},
   "outputs": [],
   "source": [
    "# labeling binary\n",
    "e=[0,1,2,3,4,5,6,7] \n",
    "n=[0,1,2,3,8,9,10,11] \n",
    "f=[0,1,4,5,8,9,12,13]\n",
    "j=[0,2,4,6,8,10,12,14]\n",
    "\n",
    "# 앞의 알파벳이 1\n",
    "data2['e_i']=data2['mbti_label'].apply(lambda x: 1 if x in e else 0) \n",
    "data2['n_s']=data2['mbti_label'].apply(lambda x: 1 if x in n else 0) \n",
    "data2['f_t']=data2['mbti_label'].apply(lambda x: 1 if x in f else 0) \n",
    "data2['j_p']=data2['mbti_label'].apply(lambda x: 1 if x in j else 0) "
   ]
  },
  {
   "cell_type": "code",
   "execution_count": null,
   "metadata": {},
   "outputs": [],
   "source": [
    "data2=data2.reset_index().drop(['index'], axis=1)"
   ]
  },
  {
   "cell_type": "code",
   "execution_count": null,
   "metadata": {},
   "outputs": [],
   "source": [
    "data2.info()"
   ]
  },
  {
   "cell_type": "markdown",
   "metadata": {},
   "source": [
    "## 텍스트 정규화"
   ]
  },
  {
   "cell_type": "code",
   "execution_count": null,
   "metadata": {},
   "outputs": [],
   "source": [
    "# 한국어 띄어쓰기 (안깔림)\n",
    "# from pykospacing import Spacing"
   ]
  },
  {
   "cell_type": "code",
   "execution_count": null,
   "metadata": {},
   "outputs": [],
   "source": [
    "# # 한국어 맞춤법 검사\n",
    "# from hanspell import spell_checker\n",
    "\n",
    "\n",
    "# for i in tqdm(range(len(data2))):\n",
    "#     data2.loc[i,'content']=spell_checker.check(data2.loc[i,'content']).checked "
   ]
  },
  {
   "cell_type": "code",
   "execution_count": null,
   "metadata": {},
   "outputs": [],
   "source": [
    "# # 한국어 반복되는 문자 정제\n",
    "# from soynlp.normalizer import *\n",
    "\n",
    "# for i in tqdm(range(len(data2))):\n",
    "#     data2.loc[i,'content']=repeat_normalize(data2.loc[i,'content'], num_repeats=2)\n"
   ]
  },
  {
   "cell_type": "code",
   "execution_count": null,
   "metadata": {},
   "outputs": [],
   "source": [
    "# # 데이터 확인\n",
    "# i=18\n",
    "# print(data1.content.loc[i,]+'\\n')\n",
    "# print(data2.content.loc[i,])"
   ]
  },
  {
   "cell_type": "code",
   "execution_count": null,
   "metadata": {},
   "outputs": [],
   "source": [
    "length=data2['content'].astype(str).apply(len)\n",
    "# content 길이 0인 글 제거\n",
    "data2.drop(data2[length==0].index, inplace=True)"
   ]
  },
  {
   "cell_type": "code",
   "execution_count": null,
   "metadata": {},
   "outputs": [],
   "source": [
    "data2=data2.reset_index().drop(['index'], axis=1)"
   ]
  },
  {
   "cell_type": "markdown",
   "metadata": {},
   "source": [
    "# EDA"
   ]
  },
  {
   "cell_type": "code",
   "execution_count": null,
   "metadata": {},
   "outputs": [],
   "source": [
    "sns.countplot(x='mbti', data=data2)"
   ]
  },
  {
   "cell_type": "code",
   "execution_count": null,
   "metadata": {
    "scrolled": true
   },
   "outputs": [],
   "source": [
    "sns.countplot(x='e_i', data=data2)\n",
    "print(sum(data2.e_i==1)/len(data2))"
   ]
  },
  {
   "cell_type": "code",
   "execution_count": null,
   "metadata": {},
   "outputs": [],
   "source": [
    "sns.countplot(x='n_s', data=data2)\n",
    "sum(data2.n_s==1)/len(data2)"
   ]
  },
  {
   "cell_type": "code",
   "execution_count": null,
   "metadata": {},
   "outputs": [],
   "source": [
    "sns.countplot(x='f_t', data=data2)\n",
    "sum(data2.f_t==1)/len(data2)"
   ]
  },
  {
   "cell_type": "code",
   "execution_count": null,
   "metadata": {},
   "outputs": [],
   "source": [
    "sns.countplot(x='j_p', data=data2)\n",
    "sum(data2.j_p==1)/len(data2)"
   ]
  },
  {
   "cell_type": "code",
   "execution_count": null,
   "metadata": {},
   "outputs": [],
   "source": [
    "# 전처리 후 남은 데이터 percentage\n",
    "data2.shape[0]/data.shape[0]*100"
   ]
  },
  {
   "cell_type": "code",
   "execution_count": null,
   "metadata": {},
   "outputs": [],
   "source": []
  }
 ],
 "metadata": {
  "kernelspec": {
   "display_name": "Python 3",
   "language": "python",
   "name": "python3"
  },
  "language_info": {
   "codemirror_mode": {
    "name": "ipython",
    "version": 3
   },
   "file_extension": ".py",
   "mimetype": "text/x-python",
   "name": "python",
   "nbconvert_exporter": "python",
   "pygments_lexer": "ipython3",
   "version": "3.7.9"
  }
 },
 "nbformat": 4,
 "nbformat_minor": 4
}

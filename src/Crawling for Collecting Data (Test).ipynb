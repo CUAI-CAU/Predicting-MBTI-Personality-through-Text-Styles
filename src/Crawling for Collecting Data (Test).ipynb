{
 "cells": [
  {
   "cell_type": "markdown",
   "id": "e4714a91",
   "metadata": {},
   "source": [
    "### 기본 세팅\n",
    "작동 시간이 너무 빠르면 자동툴로 인식하는 경우가 있어 계속 sleep을 걸음"
   ]
  },
  {
   "cell_type": "code",
   "execution_count": 187,
   "id": "e7e1aca5",
   "metadata": {},
   "outputs": [],
   "source": [
    "import os\n",
    "import time\n",
    "import pandas as pd\n",
    "\n",
    "from selenium import webdriver\n",
    "import pyperclip\n",
    "from selenium.webdriver import ActionChains\n",
    "from selenium.webdriver.common.keys import Keys\n",
    "\n",
    "from bs4 import BeautifulSoup "
   ]
  },
  {
   "cell_type": "code",
   "execution_count": 67,
   "id": "5ad9d8ae",
   "metadata": {},
   "outputs": [],
   "source": [
    "# 셀레니움 드라이버로 웹 실행\n",
    "driver = webdriver.Chrome('chromedriver.exe')\n",
    "driver.implicitly_wait(3)"
   ]
  },
  {
   "cell_type": "code",
   "execution_count": 68,
   "id": "e5d27157",
   "metadata": {},
   "outputs": [],
   "source": [
    "# 클립보드에 input을 복사하고, ActionChain을 이용해 복사 내용을 로그인 폼에 붙여넣기\n",
    "def copy_input(xpath, input):\n",
    "    pyperclip.copy(input)\n",
    "    driver.find_element_by_xpath(xpath).click()\n",
    "    ActionChains(driver).key_down(Keys.CONTROL).send_keys('v').key_up(Keys.CONTROL).perform()\n",
    "    time.sleep(1)"
   ]
  },
  {
   "cell_type": "code",
   "execution_count": 69,
   "id": "e6832b47",
   "metadata": {},
   "outputs": [],
   "source": [
    "# 네이버 id & pw 입력\n",
    "naver_id = 'bokju128'\n",
    "naver_pw = 'uks01uks28!'"
   ]
  },
  {
   "cell_type": "code",
   "execution_count": 70,
   "id": "acc11e59",
   "metadata": {},
   "outputs": [],
   "source": [
    "# 네이버 로그인 \n",
    "driver.get('https://nid.naver.com/nidlogin.login')             \n",
    "time.sleep(1)\n",
    "\n",
    "copy_input('//*[@id=\"id\"]', naver_id)\n",
    "time.sleep(1)\n",
    "copy_input('//*[@id=\"pw\"]', naver_pw)\n",
    "time.sleep(1)\n",
    "\n",
    "driver.find_element_by_xpath('//*[@id=\"frmNIDLogin\"]/fieldset/input').click()"
   ]
  },
  {
   "cell_type": "markdown",
   "id": "edb39a71",
   "metadata": {},
   "source": [
    "### 주소 및 닉네임 크롤링 테스트\n",
    "INFP & ENFP 게시판: menuid=18"
   ]
  },
  {
   "cell_type": "code",
   "execution_count": 159,
   "id": "3c0a85f5",
   "metadata": {},
   "outputs": [],
   "source": [
    "page = 0\n",
    "address = []\n",
    "nickname = []\n",
    "\n",
    "while page <= 1:\n",
    "    try:\n",
    "        # 페이지 및 iframe 전환\n",
    "        page += 1\n",
    "        driver.get(f\"https://cafe.naver.com/ArticleList.nhn?search.clubid=11856775&search.menuid=18&search.boardtype=L&search.page={page}\")\n",
    "        driver.switch_to.frame(\"cafe_main\")\n",
    "        \n",
    "        # 더이상 게시글이 없을 경우\n",
    "        try:\n",
    "            if driver.find_element_by_class_name(\"nodata\").text == '등록된 게시글이 없습니다.':\n",
    "                break\n",
    "        except:\n",
    "            pass\n",
    "        \n",
    "        # 페이지당 주소 및 닉네임 20개 크롤링\n",
    "        for i in range(1, 31, 1):\n",
    "            address.append(driver.find_element_by_xpath(f\"/html/body/div[1]/div/div[4]/table/tbody/tr[{i}]/td[1]/div[2]/div/a[1]\").get_attribute(\"href\"))\n",
    "            nickname.append(driver.find_element_by_xpath(f\"/html/body/div[1]/div/div[4]/table/tbody/tr[{i}]/td[2]/div/table/tbody/tr/td/a\").get_attribute(\"onclick\"))\n",
    "                            \n",
    "        # 기존 웹페이지로 복귀\n",
    "        driver.switch_to.default_content()   \n",
    "        \n",
    "    except:\n",
    "        pass"
   ]
  },
  {
   "cell_type": "code",
   "execution_count": 160,
   "id": "2d523412",
   "metadata": {},
   "outputs": [
    {
     "data": {
      "text/plain": [
       "['https://cafe.naver.com/ArticleRead.nhn?clubid=11856775&page=1&menuid=18&boardtype=L&articleid=504221&referrerAllArticles=false',\n",
       " 'https://cafe.naver.com/ArticleRead.nhn?clubid=11856775&page=1&menuid=18&boardtype=L&articleid=504217&referrerAllArticles=false',\n",
       " 'https://cafe.naver.com/ArticleRead.nhn?clubid=11856775&page=1&menuid=18&boardtype=L&articleid=504173&referrerAllArticles=false',\n",
       " 'https://cafe.naver.com/ArticleRead.nhn?clubid=11856775&page=1&menuid=18&boardtype=L&articleid=504161&referrerAllArticles=false',\n",
       " 'https://cafe.naver.com/ArticleRead.nhn?clubid=11856775&page=1&menuid=18&boardtype=L&articleid=504102&referrerAllArticles=false',\n",
       " 'https://cafe.naver.com/ArticleRead.nhn?clubid=11856775&page=1&menuid=18&boardtype=L&articleid=504086&referrerAllArticles=false',\n",
       " 'https://cafe.naver.com/ArticleRead.nhn?clubid=11856775&page=1&menuid=18&boardtype=L&articleid=504047&referrerAllArticles=false',\n",
       " 'https://cafe.naver.com/ArticleRead.nhn?clubid=11856775&page=1&menuid=18&boardtype=L&articleid=504037&referrerAllArticles=false',\n",
       " 'https://cafe.naver.com/ArticleRead.nhn?clubid=11856775&page=1&menuid=18&boardtype=L&articleid=504018&referrerAllArticles=false',\n",
       " 'https://cafe.naver.com/ArticleRead.nhn?clubid=11856775&page=1&menuid=18&boardtype=L&articleid=503992&referrerAllArticles=false',\n",
       " 'https://cafe.naver.com/ArticleRead.nhn?clubid=11856775&page=1&menuid=18&boardtype=L&articleid=503989&referrerAllArticles=false',\n",
       " 'https://cafe.naver.com/ArticleRead.nhn?clubid=11856775&page=1&menuid=18&boardtype=L&articleid=503969&referrerAllArticles=false',\n",
       " 'https://cafe.naver.com/ArticleRead.nhn?clubid=11856775&page=1&menuid=18&boardtype=L&articleid=503913&referrerAllArticles=false',\n",
       " 'https://cafe.naver.com/ArticleRead.nhn?clubid=11856775&page=1&menuid=18&boardtype=L&articleid=503875&referrerAllArticles=false',\n",
       " 'https://cafe.naver.com/ArticleRead.nhn?clubid=11856775&page=1&menuid=18&boardtype=L&articleid=503843&referrerAllArticles=false',\n",
       " 'https://cafe.naver.com/ArticleRead.nhn?clubid=11856775&page=2&menuid=18&boardtype=L&articleid=503829&referrerAllArticles=false',\n",
       " 'https://cafe.naver.com/ArticleRead.nhn?clubid=11856775&page=2&menuid=18&boardtype=L&articleid=503827&referrerAllArticles=false',\n",
       " 'https://cafe.naver.com/ArticleRead.nhn?clubid=11856775&page=2&menuid=18&boardtype=L&articleid=503825&referrerAllArticles=false',\n",
       " 'https://cafe.naver.com/ArticleRead.nhn?clubid=11856775&page=2&menuid=18&boardtype=L&articleid=503789&referrerAllArticles=false',\n",
       " 'https://cafe.naver.com/ArticleRead.nhn?clubid=11856775&page=2&menuid=18&boardtype=L&articleid=503778&referrerAllArticles=false',\n",
       " 'https://cafe.naver.com/ArticleRead.nhn?clubid=11856775&page=2&menuid=18&boardtype=L&articleid=503722&referrerAllArticles=false',\n",
       " 'https://cafe.naver.com/ArticleRead.nhn?clubid=11856775&page=2&menuid=18&boardtype=L&articleid=503705&referrerAllArticles=false',\n",
       " 'https://cafe.naver.com/ArticleRead.nhn?clubid=11856775&page=2&menuid=18&boardtype=L&articleid=503686&referrerAllArticles=false',\n",
       " 'https://cafe.naver.com/ArticleRead.nhn?clubid=11856775&page=2&menuid=18&boardtype=L&articleid=503669&referrerAllArticles=false',\n",
       " 'https://cafe.naver.com/ArticleRead.nhn?clubid=11856775&page=2&menuid=18&boardtype=L&articleid=503668&referrerAllArticles=false',\n",
       " 'https://cafe.naver.com/ArticleRead.nhn?clubid=11856775&page=2&menuid=18&boardtype=L&articleid=503663&referrerAllArticles=false',\n",
       " 'https://cafe.naver.com/ArticleRead.nhn?clubid=11856775&page=2&menuid=18&boardtype=L&articleid=503657&referrerAllArticles=false',\n",
       " 'https://cafe.naver.com/ArticleRead.nhn?clubid=11856775&page=2&menuid=18&boardtype=L&articleid=503642&referrerAllArticles=false',\n",
       " 'https://cafe.naver.com/ArticleRead.nhn?clubid=11856775&page=2&menuid=18&boardtype=L&articleid=503640&referrerAllArticles=false',\n",
       " 'https://cafe.naver.com/ArticleRead.nhn?clubid=11856775&page=2&menuid=18&boardtype=L&articleid=503636&referrerAllArticles=false']"
      ]
     },
     "execution_count": 160,
     "metadata": {},
     "output_type": "execute_result"
    }
   ],
   "source": [
    "# 크롤링한 게시글 주소\n",
    "address"
   ]
  },
  {
   "cell_type": "code",
   "execution_count": 161,
   "id": "a2c3ee8f",
   "metadata": {},
   "outputs": [
    {
     "data": {
      "text/plain": [
       "30"
      ]
     },
     "execution_count": 161,
     "metadata": {},
     "output_type": "execute_result"
    }
   ],
   "source": [
    "len(address)"
   ]
  },
  {
   "cell_type": "code",
   "execution_count": 162,
   "id": "5762cff5",
   "metadata": {},
   "outputs": [
    {
     "data": {
      "text/plain": [
       "[\"ui(event, 'pumpkim9',3,'isfj 여','11856775','me', 'false', 'true', 'mbticafe', 'false', '18'); return false;\",\n",
       " \"ui(event, 'pumpkim9',3,'isfj 여','11856775','me', 'false', 'true', 'mbticafe', 'false', '18'); return false;\",\n",
       " \"ui(event, 'koe1012',3,'INFP흰여우','11856775','me', 'false', 'true', 'mbticafe', 'false', '18'); return false;\",\n",
       " \"ui(event, '0tweety0',3,'요나ESTP','11856775','me', 'false', 'true', 'mbticafe', 'false', '18'); return false;\",\n",
       " \"ui(event, 'heesong04',3,'국화빵ENFP','11856775','me', 'false', 'true', 'mbticafe', 'false', '18'); return false;\",\n",
       " \"ui(event, 'rkdms100101',3,'EsFxj','11856775','me', 'false', 'true', 'mbticafe', 'false', '18'); return false;\",\n",
       " \"ui(event, 'dkzkt123',3,'끌림intp','11856775','me', 'false', 'true', 'mbticafe', 'false', '18'); return false;\",\n",
       " \"ui(event, 'yey_',3,'조각INFP','11856775','me', 'false', 'true', 'mbticafe', 'false', '18'); return false;\",\n",
       " \"ui(event, 'qpalzmwoaj',3,'지구젤리','11856775','me', 'false', 'true', 'mbticafe', 'false', '18'); return false;\",\n",
       " \"ui(event, 'eari2904',3,'enfj즐거워라','11856775','me', 'false', 'true', 'mbticafe', 'false', '18'); return false;\",\n",
       " \"ui(event, 'uji990709',3,'뭘까','11856775','me', 'false', 'true', 'mbticafe', 'false', '18'); return false;\",\n",
       " \"ui(event, 'heesong04',3,'국화빵ENFP','11856775','me', 'false', 'true', 'mbticafe', 'false', '18'); return false;\",\n",
       " \"ui(event, 'minjjang1218',3,'삐까 ENFP','11856775','me', 'false', 'true', 'mbticafe', 'false', '18'); return false;\",\n",
       " \"ui(event, 'dream3094',3,'은아 infp','11856775','me', 'false', 'true', 'mbticafe', 'false', '18'); return false;\",\n",
       " \"ui(event, 'rlaehdwls01',3,'발걸음INFP 4w5','11856775','me', 'false', 'true', 'mbticafe', 'false', '18'); return false;\",\n",
       " \"ui(event, 'applejimmy',3,'ss INFP','11856775','me', 'false', 'true', 'mbticafe', 'false', '18'); return false;\",\n",
       " \"ui(event, 'feel7381',3,'경이xstp','11856775','me', 'false', 'true', 'mbticafe', 'false', '18'); return false;\",\n",
       " \"ui(event, 'eugene0227',3,'시즌니 infj','11856775','me', 'false', 'true', 'mbticafe', 'false', '18'); return false;\",\n",
       " \"ui(event, 'young_0831',3,'INFJ야','11856775','me', 'false', 'true', 'mbticafe', 'false', '18'); return false;\",\n",
       " \"ui(event, 'nalshow',3,'꿀꾸리미녀','11856775','me', 'false', 'true', 'mbticafe', 'false', '18'); return false;\",\n",
       " \"ui(event, 'summer_0810',3,'인쁘피와 인티제','11856775','me', 'false', 'true', 'mbticafe', 'false', '18'); return false;\",\n",
       " \"ui(event, 'koe1012',3,'INFP흰여우','11856775','me', 'false', 'true', 'mbticafe', 'false', '18'); return false;\",\n",
       " \"ui(event, 'caramel6789',3,'모야 ENFP','11856775','me', 'false', 'true', 'mbticafe', 'false', '18'); return false;\",\n",
       " \"ui(event, 'j_mj745',3,'iiinfp','11856775','me', 'false', 'true', 'mbticafe', 'false', '18'); return false;\",\n",
       " \"ui(event, 'eldmsld2834',3,'enfp그릇','11856775','me', 'false', 'true', 'mbticafe', 'false', '18'); return false;\",\n",
       " \"ui(event, 'eari2904',3,'enfj즐거워라','11856775','me', 'false', 'true', 'mbticafe', 'false', '18'); return false;\",\n",
       " \"ui(event, 'hotbaby812',3,'istp용','11856775','me', 'false', 'true', 'mbticafe', 'false', '18'); return false;\",\n",
       " \"ui(event, 'heesong04',3,'국화빵ENFP','11856775','me', 'false', 'true', 'mbticafe', 'false', '18'); return false;\",\n",
       " \"ui(event, 'kksh1005',3,'픕히','11856775','me', 'false', 'true', 'mbticafe', 'false', '18'); return false;\",\n",
       " \"ui(event, '201rogpa',3,'도시솔 intj 5w6','11856775','me', 'false', 'true', 'mbticafe', 'false', '18'); return false;\"]"
      ]
     },
     "execution_count": 162,
     "metadata": {},
     "output_type": "execute_result"
    }
   ],
   "source": [
    "# 크롤링한 닉네임이 포함되어 있는 onclick 타입\n",
    "nickname"
   ]
  },
  {
   "cell_type": "code",
   "execution_count": 163,
   "id": "61e81ba6",
   "metadata": {},
   "outputs": [
    {
     "data": {
      "text/plain": [
       "30"
      ]
     },
     "execution_count": 163,
     "metadata": {},
     "output_type": "execute_result"
    }
   ],
   "source": [
    "len(nickname)"
   ]
  },
  {
   "cell_type": "code",
   "execution_count": 164,
   "id": "58bb1472",
   "metadata": {},
   "outputs": [
    {
     "data": {
      "text/plain": [
       "\"ui(event, 'pumpkim9',3,'isfj 여','11856775','me', 'false', 'true', 'mbticafe', 'false', '18'); return false;\""
      ]
     },
     "execution_count": 164,
     "metadata": {},
     "output_type": "execute_result"
    }
   ],
   "source": [
    "nickname[0]"
   ]
  },
  {
   "cell_type": "code",
   "execution_count": 165,
   "id": "c9dd1c38",
   "metadata": {},
   "outputs": [
    {
     "data": {
      "text/plain": [
       "str"
      ]
     },
     "execution_count": 165,
     "metadata": {},
     "output_type": "execute_result"
    }
   ],
   "source": [
    "type(nickname[0])"
   ]
  },
  {
   "cell_type": "markdown",
   "id": "88304b0c",
   "metadata": {},
   "source": [
    "### onclick 타입 nickname에서 mbti 추출"
   ]
  },
  {
   "cell_type": "code",
   "execution_count": 166,
   "id": "2943b4ab",
   "metadata": {},
   "outputs": [
    {
     "data": {
      "text/plain": [
       "16"
      ]
     },
     "execution_count": 166,
     "metadata": {},
     "output_type": "execute_result"
    }
   ],
   "source": [
    "mbti_group = ['intj', 'intp', 'entj', 'entp',\n",
    "              'infj', 'infp', 'enfj', 'enfp',\n",
    "              'istj', 'isfj', 'estj', 'esfj',\n",
    "              'istp', 'isfp', 'estp', 'esfp']\n",
    "len(mbti_group)"
   ]
  },
  {
   "cell_type": "code",
   "execution_count": 167,
   "id": "f2e1b3b6",
   "metadata": {},
   "outputs": [],
   "source": [
    "# onclick 타입 nickname 소문자화\n",
    "for i in range(len(nickname)):\n",
    "    nickname[i] = nickname[i].lower()"
   ]
  },
  {
   "cell_type": "code",
   "execution_count": 168,
   "id": "6ce0c186",
   "metadata": {},
   "outputs": [],
   "source": [
    "drop_idx = []   \n",
    "\n",
    "for i in range(len(nickname)):\n",
    "    check_cnt = 0\n",
    "    \n",
    "    for mbti in mbti_group:        \n",
    "        # 닉네임에 mbti가 포함된 경우 닉네임을 mbti화\n",
    "        if mbti in nickname[i]:\n",
    "            nickname[i] = mbti\n",
    "        \n",
    "        # 닉네임에 mbti가 포함되지 않은 경우\n",
    "        if mbti not in nickname[i]:\n",
    "            check_cnt += 1\n",
    "        \n",
    "    # 닉네임에 mbti가 아예 없을 경우 해당 인덱스 저장\n",
    "    if check_cnt == 16:\n",
    "        drop_idx.append(i)"
   ]
  },
  {
   "cell_type": "code",
   "execution_count": 169,
   "id": "8ed9ad58",
   "metadata": {
    "scrolled": true
   },
   "outputs": [
    {
     "data": {
      "text/plain": [
       "['isfj',\n",
       " 'isfj',\n",
       " 'infp',\n",
       " 'estp',\n",
       " 'enfp',\n",
       " \"ui(event, 'rkdms100101',3,'esfxj','11856775','me', 'false', 'true', 'mbticafe', 'false', '18'); return false;\",\n",
       " 'intp',\n",
       " 'infp',\n",
       " \"ui(event, 'qpalzmwoaj',3,'지구젤리','11856775','me', 'false', 'true', 'mbticafe', 'false', '18'); return false;\",\n",
       " 'enfj',\n",
       " \"ui(event, 'uji990709',3,'뭘까','11856775','me', 'false', 'true', 'mbticafe', 'false', '18'); return false;\",\n",
       " 'enfp',\n",
       " 'enfp',\n",
       " 'infp',\n",
       " 'infp',\n",
       " 'infp',\n",
       " \"ui(event, 'feel7381',3,'경이xstp','11856775','me', 'false', 'true', 'mbticafe', 'false', '18'); return false;\",\n",
       " 'infj',\n",
       " 'infj',\n",
       " \"ui(event, 'nalshow',3,'꿀꾸리미녀','11856775','me', 'false', 'true', 'mbticafe', 'false', '18'); return false;\",\n",
       " \"ui(event, 'summer_0810',3,'인쁘피와 인티제','11856775','me', 'false', 'true', 'mbticafe', 'false', '18'); return false;\",\n",
       " 'infp',\n",
       " 'enfp',\n",
       " 'infp',\n",
       " 'enfp',\n",
       " 'enfj',\n",
       " 'istp',\n",
       " 'enfp',\n",
       " \"ui(event, 'kksh1005',3,'픕히','11856775','me', 'false', 'true', 'mbticafe', 'false', '18'); return false;\",\n",
       " 'intj']"
      ]
     },
     "execution_count": 169,
     "metadata": {},
     "output_type": "execute_result"
    }
   ],
   "source": [
    "nickname"
   ]
  },
  {
   "cell_type": "code",
   "execution_count": 170,
   "id": "9edac5d0",
   "metadata": {},
   "outputs": [
    {
     "data": {
      "text/plain": [
       "[5, 8, 10, 16, 19, 20, 28]"
      ]
     },
     "execution_count": 170,
     "metadata": {},
     "output_type": "execute_result"
    }
   ],
   "source": [
    "drop_idx   # 닉네임에 mbti가 포함되지 않아 drop할 인덱스"
   ]
  },
  {
   "cell_type": "code",
   "execution_count": 171,
   "id": "b19fab30",
   "metadata": {},
   "outputs": [
    {
     "data": {
      "text/plain": [
       "7"
      ]
     },
     "execution_count": 171,
     "metadata": {},
     "output_type": "execute_result"
    }
   ],
   "source": [
    "len(drop_idx)"
   ]
  },
  {
   "cell_type": "markdown",
   "id": "11fe87ea",
   "metadata": {},
   "source": [
    "### 기존 address, nickname에서 drop_idx에 해당되면 드랍"
   ]
  },
  {
   "cell_type": "code",
   "execution_count": 172,
   "id": "5a7c7700",
   "metadata": {},
   "outputs": [
    {
     "name": "stdout",
     "output_type": "stream",
     "text": [
      " drop전 address 개수: 30\n",
      " drop전 nickname 개수: 30\n"
     ]
    }
   ],
   "source": [
    "print(' drop전 address 개수: {0}'.format( len(address) ))\n",
    "print(' drop전 nickname 개수: {0}'.format( len(nickname) ))"
   ]
  },
  {
   "cell_type": "code",
   "execution_count": 173,
   "id": "1770adbe",
   "metadata": {},
   "outputs": [
    {
     "name": "stdout",
     "output_type": "stream",
     "text": [
      " drop후 address 개수: 23\n",
      " drop후 nickname 개수: 23\n"
     ]
    }
   ],
   "source": [
    "for i in range(len(address)):\n",
    "    \n",
    "    while i in drop_idx:\n",
    "        address.pop(i)\n",
    "        nickname.pop(i)\n",
    "        drop_idx.remove(i)\n",
    "        \n",
    "        for idx in range(len(drop_idx)):\n",
    "            drop_idx[idx] -= 1\n",
    "    \n",
    "print(' drop후 address 개수: {0}'.format( len(address) ))\n",
    "print(' drop후 nickname 개수: {0}'.format( len(nickname) ))"
   ]
  },
  {
   "cell_type": "code",
   "execution_count": 184,
   "id": "5063a70a",
   "metadata": {},
   "outputs": [
    {
     "data": {
      "text/plain": [
       "['isfj',\n",
       " 'isfj',\n",
       " 'infp',\n",
       " 'estp',\n",
       " 'enfp',\n",
       " 'intp',\n",
       " 'infp',\n",
       " 'enfj',\n",
       " 'enfp',\n",
       " 'enfp',\n",
       " 'infp',\n",
       " 'infp',\n",
       " 'infp',\n",
       " 'infj',\n",
       " 'infj',\n",
       " 'infp',\n",
       " 'enfp',\n",
       " 'infp',\n",
       " 'enfp',\n",
       " 'enfj',\n",
       " 'istp',\n",
       " 'enfp',\n",
       " 'intj']"
      ]
     },
     "execution_count": 184,
     "metadata": {},
     "output_type": "execute_result"
    }
   ],
   "source": [
    "nickname"
   ]
  },
  {
   "cell_type": "markdown",
   "id": "2313eefa",
   "metadata": {},
   "source": [
    "### address, nickname으로 게시글 제목과 본문 추출"
   ]
  },
  {
   "cell_type": "code",
   "execution_count": 196,
   "id": "ac336664",
   "metadata": {},
   "outputs": [
    {
     "ename": "IndexError",
     "evalue": "list index out of range",
     "output_type": "error",
     "traceback": [
      "\u001b[1;31m---------------------------------------------------------------------------\u001b[0m",
      "\u001b[1;31mIndexError\u001b[0m                                Traceback (most recent call last)",
      "\u001b[1;32m<ipython-input-196-f1ed52727c45>\u001b[0m in \u001b[0;36m<module>\u001b[1;34m\u001b[0m\n\u001b[0;32m     10\u001b[0m     \u001b[1;31m# 제목과 본문 크롤링\u001b[0m\u001b[1;33m\u001b[0m\u001b[1;33m\u001b[0m\u001b[1;33m\u001b[0m\u001b[0m\n\u001b[0;32m     11\u001b[0m     \u001b[0mcur_title\u001b[0m \u001b[1;33m=\u001b[0m \u001b[0mdriver\u001b[0m\u001b[1;33m.\u001b[0m\u001b[0mfind_element_by_css_selector\u001b[0m\u001b[1;33m(\u001b[0m\u001b[1;34m\"h3.title_text\"\u001b[0m\u001b[1;33m)\u001b[0m\u001b[1;33m.\u001b[0m\u001b[0mtext\u001b[0m\u001b[1;33m\u001b[0m\u001b[1;33m\u001b[0m\u001b[0m\n\u001b[1;32m---> 12\u001b[1;33m     \u001b[0mcur_content\u001b[0m \u001b[1;33m=\u001b[0m \u001b[0msoup\u001b[0m\u001b[1;33m.\u001b[0m\u001b[0mselect\u001b[0m\u001b[1;33m(\u001b[0m\u001b[1;34m\"#tbody\"\u001b[0m\u001b[1;33m)\u001b[0m\u001b[1;33m[\u001b[0m\u001b[1;36m0\u001b[0m\u001b[1;33m]\u001b[0m\u001b[1;33m.\u001b[0m\u001b[0mselect\u001b[0m\u001b[1;33m(\u001b[0m\u001b[1;34m'p'\u001b[0m\u001b[1;33m)\u001b[0m\u001b[1;33m\u001b[0m\u001b[1;33m\u001b[0m\u001b[0m\n\u001b[0m\u001b[0;32m     13\u001b[0m \u001b[1;33m\u001b[0m\u001b[0m\n\u001b[0;32m     14\u001b[0m     \u001b[0mtitle\u001b[0m\u001b[1;33m.\u001b[0m\u001b[0mappend\u001b[0m\u001b[1;33m(\u001b[0m\u001b[0mcur_title\u001b[0m\u001b[1;33m)\u001b[0m\u001b[1;33m\u001b[0m\u001b[1;33m\u001b[0m\u001b[0m\n",
      "\u001b[1;31mIndexError\u001b[0m: list index out of range"
     ]
    }
   ],
   "source": [
    "title = []\n",
    "content = []\n",
    "\n",
    "for url in address:\n",
    "    # 페이지 및 iframe 전환\n",
    "    driver.get(url)\n",
    "    driver.switch_to.frame(\"cafe_main\")\n",
    "    soup = BeautifulSoup(driver.page_source, \"html.parser\")\n",
    "\n",
    "    # 제목과 본문 크롤링\n",
    "    cur_title = driver.find_element_by_css_selector(\"h3.title_text\").text\n",
    "    cur_content = soup.select(\"#tbody\")[0].select('p')\n",
    "\n",
    "    title.append(cur_title)\n",
    "    content.append(cur_content)"
   ]
  },
  {
   "cell_type": "code",
   "execution_count": 194,
   "id": "eb6248b9",
   "metadata": {},
   "outputs": [
    {
     "data": {
      "text/plain": [
       "['ENFP분들 적극적인? 여자 어떠시나요',\n",
       " 'ENFP와 연락',\n",
       " '.',\n",
       " '제가 원래 마음의 문을 잘 안 여는데',\n",
       " '예전에 좋아했던 ENFP',\n",
       " '직설적인거 싫어한다며.. 상처 받는다며..',\n",
       " '중2포토 만들어드려용',\n",
       " '엔픕 사람 잘 못믿나요???ENFP 봐주세용',\n",
       " '주변 사람에게 미완의 작품을 보여 줬을 때 얻는 위험',\n",
       " '이상형발견 급해요 어떡하죠',\n",
       " '인프피를 가장 괴롭게 하는 법',\n",
       " '남 뒷담을 즐겨 하는 사람들의 심리가 뭘까요?',\n",
       " '노래 하나 추천하고 갑니다',\n",
       " '엔ㅍ프피 친구의 상처주는 말',\n",
       " 'ENFP 분들은 어떤 타입을 좋아하시고 또 어떤 타입을 싫어하시나요?',\n",
       " '3~5년전 이맘때..',\n",
       " '엔프피 갬성 블로그',\n",
       " 'ESFJ와 연애해보신 INFP 있으신가요?',\n",
       " '엔프피는 어느유형이랑 친구많이할까요?',\n",
       " '엔프피랑 연애중인 엔프제입니다',\n",
       " '엔프피남에 대한 고찰',\n",
       " '감정의 발작(부정적인 말 주의)?',\n",
       " '엔프피 원래 이렇게 따뜻해요??']"
      ]
     },
     "execution_count": 194,
     "metadata": {},
     "output_type": "execute_result"
    }
   ],
   "source": [
    "# 크롤링한 게시글 제목\n",
    "title"
   ]
  },
  {
   "cell_type": "code",
   "execution_count": 195,
   "id": "04a597ec",
   "metadata": {},
   "outputs": [
    {
     "data": {
      "text/plain": [
       "[[],\n",
       " [],\n",
       " [],\n",
       " [],\n",
       " [],\n",
       " [],\n",
       " [],\n",
       " [],\n",
       " [],\n",
       " [],\n",
       " [],\n",
       " [],\n",
       " [],\n",
       " [],\n",
       " [],\n",
       " [],\n",
       " [],\n",
       " [],\n",
       " [],\n",
       " [],\n",
       " [],\n",
       " [],\n",
       " []]"
      ]
     },
     "execution_count": 195,
     "metadata": {},
     "output_type": "execute_result"
    }
   ],
   "source": [
    "# 크롤링한 게시글 본문\n",
    "content"
   ]
  },
  {
   "cell_type": "code",
   "execution_count": null,
   "id": "5d2e5c0d",
   "metadata": {},
   "outputs": [],
   "source": [
    "#data_crawled_from_naver_cafe = pd.DataFrame({'mbti': nickname, 'title': title, 'content': content})"
   ]
  }
 ],
 "metadata": {
  "kernelspec": {
   "display_name": "Python 3",
   "language": "python",
   "name": "python3"
  },
  "language_info": {
   "codemirror_mode": {
    "name": "ipython",
    "version": 3
   },
   "file_extension": ".py",
   "mimetype": "text/x-python",
   "name": "python",
   "nbconvert_exporter": "python",
   "pygments_lexer": "ipython3",
   "version": "3.8.8"
  }
 },
 "nbformat": 4,
 "nbformat_minor": 5
}

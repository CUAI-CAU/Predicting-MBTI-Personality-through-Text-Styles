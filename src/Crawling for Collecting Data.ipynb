{
 "cells": [
  {
   "cell_type": "markdown",
   "id": "e4714a91",
   "metadata": {},
   "source": [
    "### 기본 세팅"
   ]
  },
  {
   "cell_type": "code",
   "execution_count": 1,
   "id": "e7e1aca5",
   "metadata": {},
   "outputs": [],
   "source": [
    "import pandas as pd\n",
    "import os\n",
    "import time\n",
    "\n",
    "from selenium import webdriver\n",
    "from bs4 import BeautifulSoup as bs"
   ]
  },
  {
   "cell_type": "code",
   "execution_count": 2,
   "id": "29fe196c",
   "metadata": {},
   "outputs": [],
   "source": [
    "driver = webdriver.Chrome('chromedriver.exe')\n",
    "driver.implicitly_wait(3)"
   ]
  },
  {
   "cell_type": "code",
   "execution_count": 3,
   "id": "acc11e59",
   "metadata": {},
   "outputs": [],
   "source": [
    "# 네이버 로그인\n",
    "driver.get('https://nid.naver.com/nidlogin.login')\n",
    "driver.find_element_by_name('id').send_keys('bokju128')        # 아이디 입력\n",
    "driver.find_element_by_name('pw').send_keys('uks01uks28!')     # 비밀번호 입력\n",
    "driver.find_element_by_css_selector('#frmNIDLogin > fieldset > input').click()"
   ]
  },
  {
   "cell_type": "markdown",
   "id": "edb39a71",
   "metadata": {},
   "source": [
    "### 주소 및 닉네임 크롤링 테스트\n",
    "INFP & ENFP 게시판: menuid=18"
   ]
  },
  {
   "cell_type": "code",
   "execution_count": 72,
   "id": "3c0a85f5",
   "metadata": {},
   "outputs": [],
   "source": [
    "page = 0\n",
    "address = []\n",
    "nickname = []\n",
    "\n",
    "while page <= 1:\n",
    "    try:\n",
    "        # 페이지 및 iframe 전환\n",
    "        page += 1\n",
    "        driver.get(f\"https://cafe.naver.com/ArticleList.nhn?search.clubid=11856775&search.menuid=18&search.boardtype=L&search.page={page}\")\n",
    "        driver.switch_to.frame(\"cafe_main\")\n",
    "        \n",
    "        # 더이상 게시글이 없을 경우\n",
    "        try:\n",
    "            if driver.find_element_by_class_name(\"nodata\").text == '등록된 게시글이 없습니다.':\n",
    "                break\n",
    "        except:\n",
    "            pass\n",
    "        \n",
    "        # 페이지당 주소 및 닉네임 30개 수집\n",
    "        for i in range(1, 31, 1):\n",
    "            address.append(driver.find_element_by_xpath(f\"/html/body/div[1]/div/div[4]/table/tbody/tr[{i}]/td[1]/div[2]/div/a[1]\").get_attribute(\"href\"))\n",
    "            nickname.append(driver.find_element_by_xpath(f\"/html/body/div[1]/div/div[4]/table/tbody/tr[{i}]/td[2]/div/table/tbody/tr/td/a\").get_attribute(\"onclick\"))\n",
    "                            \n",
    "        # 기존 웹페이지로 복귀\n",
    "        driver.switch_to.default_content()   \n",
    "    except:\n",
    "        pass"
   ]
  },
  {
   "cell_type": "code",
   "execution_count": 73,
   "id": "2d523412",
   "metadata": {},
   "outputs": [
    {
     "data": {
      "text/plain": [
       "['https://cafe.naver.com/ArticleRead.nhn?clubid=11856775&page=1&menuid=18&boardtype=L&articleid=501496&referrerAllArticles=false',\n",
       " 'https://cafe.naver.com/ArticleRead.nhn?clubid=11856775&page=1&menuid=18&boardtype=L&articleid=501481&referrerAllArticles=false',\n",
       " 'https://cafe.naver.com/ArticleRead.nhn?clubid=11856775&page=1&menuid=18&boardtype=L&articleid=501477&referrerAllArticles=false',\n",
       " 'https://cafe.naver.com/ArticleRead.nhn?clubid=11856775&page=1&menuid=18&boardtype=L&articleid=501473&referrerAllArticles=false',\n",
       " 'https://cafe.naver.com/ArticleRead.nhn?clubid=11856775&page=1&menuid=18&boardtype=L&articleid=501426&referrerAllArticles=false',\n",
       " 'https://cafe.naver.com/ArticleRead.nhn?clubid=11856775&page=1&menuid=18&boardtype=L&articleid=501402&referrerAllArticles=false',\n",
       " 'https://cafe.naver.com/ArticleRead.nhn?clubid=11856775&page=1&menuid=18&boardtype=L&articleid=501392&referrerAllArticles=false',\n",
       " 'https://cafe.naver.com/ArticleRead.nhn?clubid=11856775&page=1&menuid=18&boardtype=L&articleid=501371&referrerAllArticles=false',\n",
       " 'https://cafe.naver.com/ArticleRead.nhn?clubid=11856775&page=1&menuid=18&boardtype=L&articleid=501346&referrerAllArticles=false',\n",
       " 'https://cafe.naver.com/ArticleRead.nhn?clubid=11856775&page=1&menuid=18&boardtype=L&articleid=501335&referrerAllArticles=false',\n",
       " 'https://cafe.naver.com/ArticleRead.nhn?clubid=11856775&page=1&menuid=18&boardtype=L&articleid=501334&referrerAllArticles=false',\n",
       " 'https://cafe.naver.com/ArticleRead.nhn?clubid=11856775&page=1&menuid=18&boardtype=L&articleid=501323&referrerAllArticles=false',\n",
       " 'https://cafe.naver.com/ArticleRead.nhn?clubid=11856775&page=1&menuid=18&boardtype=L&articleid=501302&referrerAllArticles=false',\n",
       " 'https://cafe.naver.com/ArticleRead.nhn?clubid=11856775&page=1&menuid=18&boardtype=L&articleid=501281&referrerAllArticles=false',\n",
       " 'https://cafe.naver.com/ArticleRead.nhn?clubid=11856775&page=1&menuid=18&boardtype=L&articleid=501265&referrerAllArticles=false',\n",
       " 'https://cafe.naver.com/ArticleRead.nhn?clubid=11856775&page=2&menuid=18&boardtype=L&articleid=501259&referrerAllArticles=false',\n",
       " 'https://cafe.naver.com/ArticleRead.nhn?clubid=11856775&page=2&menuid=18&boardtype=L&articleid=501234&referrerAllArticles=false',\n",
       " 'https://cafe.naver.com/ArticleRead.nhn?clubid=11856775&page=2&menuid=18&boardtype=L&articleid=501232&referrerAllArticles=false',\n",
       " 'https://cafe.naver.com/ArticleRead.nhn?clubid=11856775&page=2&menuid=18&boardtype=L&articleid=501219&referrerAllArticles=false',\n",
       " 'https://cafe.naver.com/ArticleRead.nhn?clubid=11856775&page=2&menuid=18&boardtype=L&articleid=501198&referrerAllArticles=false',\n",
       " 'https://cafe.naver.com/ArticleRead.nhn?clubid=11856775&page=2&menuid=18&boardtype=L&articleid=501184&referrerAllArticles=false',\n",
       " 'https://cafe.naver.com/ArticleRead.nhn?clubid=11856775&page=2&menuid=18&boardtype=L&articleid=501159&referrerAllArticles=false',\n",
       " 'https://cafe.naver.com/ArticleRead.nhn?clubid=11856775&page=2&menuid=18&boardtype=L&articleid=501153&referrerAllArticles=false',\n",
       " 'https://cafe.naver.com/ArticleRead.nhn?clubid=11856775&page=2&menuid=18&boardtype=L&articleid=501145&referrerAllArticles=false',\n",
       " 'https://cafe.naver.com/ArticleRead.nhn?clubid=11856775&page=2&menuid=18&boardtype=L&articleid=501136&referrerAllArticles=false',\n",
       " 'https://cafe.naver.com/ArticleRead.nhn?clubid=11856775&page=2&menuid=18&boardtype=L&articleid=501135&referrerAllArticles=false',\n",
       " 'https://cafe.naver.com/ArticleRead.nhn?clubid=11856775&page=2&menuid=18&boardtype=L&articleid=501124&referrerAllArticles=false',\n",
       " 'https://cafe.naver.com/ArticleRead.nhn?clubid=11856775&page=2&menuid=18&boardtype=L&articleid=501121&referrerAllArticles=false',\n",
       " 'https://cafe.naver.com/ArticleRead.nhn?clubid=11856775&page=2&menuid=18&boardtype=L&articleid=501106&referrerAllArticles=false',\n",
       " 'https://cafe.naver.com/ArticleRead.nhn?clubid=11856775&page=2&menuid=18&boardtype=L&articleid=501103&referrerAllArticles=false']"
      ]
     },
     "execution_count": 73,
     "metadata": {},
     "output_type": "execute_result"
    }
   ],
   "source": [
    "address"
   ]
  },
  {
   "cell_type": "code",
   "execution_count": 74,
   "id": "a2c3ee8f",
   "metadata": {},
   "outputs": [
    {
     "data": {
      "text/plain": [
       "30"
      ]
     },
     "execution_count": 74,
     "metadata": {},
     "output_type": "execute_result"
    }
   ],
   "source": [
    "len(address)"
   ]
  },
  {
   "cell_type": "code",
   "execution_count": 79,
   "id": "5762cff5",
   "metadata": {},
   "outputs": [
    {
     "data": {
      "text/plain": [
       "[\"ui(event, 'lisa031026',3,'엥뿌삐짱짱맨','11856775','', 'false', 'true', 'mbticafe', 'false', '18'); return false;\",\n",
       " \"ui(event, 'applejimmy',3,'ss INFP','11856775','', 'false', 'true', 'mbticafe', 'false', '18'); return false;\",\n",
       " \"ui(event, 'smc2987',3,'INFP 노아','11856775','', 'false', 'true', 'mbticafe', 'false', '18'); return false;\",\n",
       " \"ui(event, 'eyeofbird',3,'망고 INFP 6w5','11856775','', 'false', 'true', 'mbticafe', 'false', '18'); return false;\",\n",
       " \"ui(event, 'koe1012',3,'INFP흰여우','11856775','', 'false', 'true', 'mbticafe', 'false', '18'); return false;\",\n",
       " \"ui(event, 'zebulun86',3,'당직사령','11856775','', 'false', 'true', 'mbticafe', 'false', '18'); return false;\",\n",
       " \"ui(event, 'wwihk1234',3,'Enfp 31','11856775','', 'false', 'true', 'mbticafe', 'false', '18'); return false;\",\n",
       " \"ui(event, 'upark0407',3,'ENFTP S2 ISTJ','11856775','', 'false', 'true', 'mbticafe', 'false', '18'); return false;\",\n",
       " \"ui(event, 'snrntpdy0617',3,'ISTP 찬란한','11856775','', 'false', 'true', 'mbticafe', 'false', '18'); return false;\",\n",
       " \"ui(event, 'blinkjsoojnnie',3,'잇티제가 좋은 인프피','11856775','', 'false', 'true', 'mbticafe', 'false', '18'); return false;\",\n",
       " \"ui(event, 'blinkjsoojnnie',3,'잇티제가 좋은 인프피','11856775','', 'false', 'true', 'mbticafe', 'false', '18'); return false;\",\n",
       " \"ui(event, 'junhe9411',3,'마피 INFP','11856775','', 'false', 'true', 'mbticafe', 'false', '18'); return false;\",\n",
       " \"ui(event, 'morningstar5875',3,'별별 ENFP','11856775','', 'false', 'true', 'mbticafe', 'false', '18'); return false;\",\n",
       " \"ui(event, 'jangds907',3,'토마토 ISTFJ','11856775','', 'false', 'true', 'mbticafe', 'false', '18'); return false;\",\n",
       " \"ui(event, 'ohb4178',3,'SJ윤 8w9','11856775','', 'false', 'true', 'mbticafe', 'false', '18'); return false;\",\n",
       " \"ui(event, 'tjs6003',3,'랄라랄라g','11856775','', 'false', 'true', 'mbticafe', 'false', '18'); return false;\",\n",
       " \"ui(event, 'qkr6864',3,'esfj바보','11856775','', 'false', 'true', 'mbticafe', 'false', '18'); return false;\",\n",
       " \"ui(event, 'miso171',3,'한여름 ENFP 4w3','11856775','', 'false', 'true', 'mbticafe', 'false', '18'); return false;\",\n",
       " \"ui(event, 'dbswjdgkrud',3,'단냠','11856775','', 'false', 'true', 'mbticafe', 'false', '18'); return false;\",\n",
       " \"ui(event, 'koe1012',3,'INFP흰여우','11856775','', 'false', 'true', 'mbticafe', 'false', '18'); return false;\",\n",
       " \"ui(event, 'juenin',3,'인프핕','11856775','', 'false', 'true', 'mbticafe', 'false', '18'); return false;\",\n",
       " \"ui(event, 'yey_',3,'조각INFP','11856775','', 'false', 'true', 'mbticafe', 'false', '18'); return false;\",\n",
       " \"ui(event, 'yey_',3,'조각INFP','11856775','', 'false', 'true', 'mbticafe', 'false', '18'); return false;\",\n",
       " \"ui(event, 'jk6729',3,'열심히 ISxJ','11856775','', 'false', 'true', 'mbticafe', 'false', '18'); return false;\",\n",
       " \"ui(event, 'rlacodus345',3,'잉엥쁑삥ienfp','11856775','', 'false', 'true', 'mbticafe', 'false', '18'); return false;\",\n",
       " \"ui(event, 'lisa031026',3,'엥뿌삐짱짱맨','11856775','', 'false', 'true', 'mbticafe', 'false', '18'); return false;\",\n",
       " \"ui(event, 'astros29',3,'뽀로','11856775','', 'false', 'true', 'mbticafe', 'false', '18'); return false;\",\n",
       " \"ui(event, 'lisa031026',3,'엥뿌삐짱짱맨','11856775','', 'false', 'true', 'mbticafe', 'false', '18'); return false;\",\n",
       " \"ui(event, 'kyehyuk',3,'천상인프피','11856775','', 'false', 'true', 'mbticafe', 'false', '18'); return false;\",\n",
       " \"ui(event, 'number010322',3,'내가인프피라니','11856775','', 'false', 'true', 'mbticafe', 'false', '18'); return false;\"]"
      ]
     },
     "execution_count": 79,
     "metadata": {},
     "output_type": "execute_result"
    }
   ],
   "source": [
    "nickname"
   ]
  },
  {
   "cell_type": "code",
   "execution_count": 76,
   "id": "61e81ba6",
   "metadata": {},
   "outputs": [
    {
     "data": {
      "text/plain": [
       "30"
      ]
     },
     "execution_count": 76,
     "metadata": {},
     "output_type": "execute_result"
    }
   ],
   "source": [
    "len(nickname)"
   ]
  },
  {
   "cell_type": "code",
   "execution_count": 15,
   "id": "ac336664",
   "metadata": {},
   "outputs": [
    {
     "name": "stderr",
     "output_type": "stream",
     "text": [
      "<ipython-input-15-06fab17d91d2>:6: DeprecationWarning: use driver.switch_to.frame instead\n",
      "  driver.switch_to_frame('cafe_main')\n"
     ]
    },
    {
     "ename": "NoSuchElementException",
     "evalue": "Message: no such element: Unable to locate element: {\"method\":\"xpath\",\"selector\":\"/html/body/div[1]/div[1]/div/div[2]/div/div[1]/div[1]/table/tbody/tr/td[1]/span\"}\n  (Session info: chrome=91.0.4472.124)\n",
     "output_type": "error",
     "traceback": [
      "\u001b[1;31m---------------------------------------------------------------------------\u001b[0m",
      "\u001b[1;31mNoSuchElementException\u001b[0m                    Traceback (most recent call last)",
      "\u001b[1;32m<ipython-input-15-06fab17d91d2>\u001b[0m in \u001b[0;36m<module>\u001b[1;34m\u001b[0m\n\u001b[0;32m      6\u001b[0m     \u001b[0mdriver\u001b[0m\u001b[1;33m.\u001b[0m\u001b[0mswitch_to_frame\u001b[0m\u001b[1;33m(\u001b[0m\u001b[1;34m'cafe_main'\u001b[0m\u001b[1;33m)\u001b[0m\u001b[1;33m\u001b[0m\u001b[1;33m\u001b[0m\u001b[0m\n\u001b[0;32m      7\u001b[0m \u001b[1;33m\u001b[0m\u001b[0m\n\u001b[1;32m----> 8\u001b[1;33m     \u001b[0mtitle\u001b[0m\u001b[1;33m.\u001b[0m\u001b[0mappend\u001b[0m\u001b[1;33m(\u001b[0m\u001b[0mdriver\u001b[0m\u001b[1;33m.\u001b[0m\u001b[0mfind_element_by_xpath\u001b[0m\u001b[1;33m(\u001b[0m\u001b[1;34m'/html/body/div[1]/div[1]/div/div[2]/div/div[1]/div[1]/table/tbody/tr/td[1]/span'\u001b[0m\u001b[1;33m)\u001b[0m\u001b[1;33m.\u001b[0m\u001b[0mtext\u001b[0m\u001b[1;33m)\u001b[0m\u001b[1;33m\u001b[0m\u001b[1;33m\u001b[0m\u001b[0m\n\u001b[0m\u001b[0;32m      9\u001b[0m     \u001b[0mbody\u001b[0m\u001b[1;33m.\u001b[0m\u001b[0mappend\u001b[0m\u001b[1;33m(\u001b[0m\u001b[0mdriver\u001b[0m\u001b[1;33m.\u001b[0m\u001b[0mfind_element_by_xpath\u001b[0m\u001b[1;33m(\u001b[0m\u001b[1;34m'/html/body/div[1]/div[1]/div/div[2]/div/div[5]'\u001b[0m\u001b[1;33m)\u001b[0m\u001b[1;33m.\u001b[0m\u001b[0mtext\u001b[0m\u001b[1;33m)\u001b[0m\u001b[1;33m\u001b[0m\u001b[1;33m\u001b[0m\u001b[0m\n\u001b[0;32m     10\u001b[0m \u001b[1;33m\u001b[0m\u001b[0m\n",
      "\u001b[1;32m~\\anaconda3\\lib\\site-packages\\selenium\\webdriver\\remote\\webdriver.py\u001b[0m in \u001b[0;36mfind_element_by_xpath\u001b[1;34m(self, xpath)\u001b[0m\n\u001b[0;32m    392\u001b[0m             \u001b[0melement\u001b[0m \u001b[1;33m=\u001b[0m \u001b[0mdriver\u001b[0m\u001b[1;33m.\u001b[0m\u001b[0mfind_element_by_xpath\u001b[0m\u001b[1;33m(\u001b[0m\u001b[1;34m'//div/td[1]'\u001b[0m\u001b[1;33m)\u001b[0m\u001b[1;33m\u001b[0m\u001b[1;33m\u001b[0m\u001b[0m\n\u001b[0;32m    393\u001b[0m         \"\"\"\n\u001b[1;32m--> 394\u001b[1;33m         \u001b[1;32mreturn\u001b[0m \u001b[0mself\u001b[0m\u001b[1;33m.\u001b[0m\u001b[0mfind_element\u001b[0m\u001b[1;33m(\u001b[0m\u001b[0mby\u001b[0m\u001b[1;33m=\u001b[0m\u001b[0mBy\u001b[0m\u001b[1;33m.\u001b[0m\u001b[0mXPATH\u001b[0m\u001b[1;33m,\u001b[0m \u001b[0mvalue\u001b[0m\u001b[1;33m=\u001b[0m\u001b[0mxpath\u001b[0m\u001b[1;33m)\u001b[0m\u001b[1;33m\u001b[0m\u001b[1;33m\u001b[0m\u001b[0m\n\u001b[0m\u001b[0;32m    395\u001b[0m \u001b[1;33m\u001b[0m\u001b[0m\n\u001b[0;32m    396\u001b[0m     \u001b[1;32mdef\u001b[0m \u001b[0mfind_elements_by_xpath\u001b[0m\u001b[1;33m(\u001b[0m\u001b[0mself\u001b[0m\u001b[1;33m,\u001b[0m \u001b[0mxpath\u001b[0m\u001b[1;33m)\u001b[0m\u001b[1;33m:\u001b[0m\u001b[1;33m\u001b[0m\u001b[1;33m\u001b[0m\u001b[0m\n",
      "\u001b[1;32m~\\anaconda3\\lib\\site-packages\\selenium\\webdriver\\remote\\webdriver.py\u001b[0m in \u001b[0;36mfind_element\u001b[1;34m(self, by, value)\u001b[0m\n\u001b[0;32m    974\u001b[0m                 \u001b[0mby\u001b[0m \u001b[1;33m=\u001b[0m \u001b[0mBy\u001b[0m\u001b[1;33m.\u001b[0m\u001b[0mCSS_SELECTOR\u001b[0m\u001b[1;33m\u001b[0m\u001b[1;33m\u001b[0m\u001b[0m\n\u001b[0;32m    975\u001b[0m                 \u001b[0mvalue\u001b[0m \u001b[1;33m=\u001b[0m \u001b[1;34m'[name=\"%s\"]'\u001b[0m \u001b[1;33m%\u001b[0m \u001b[0mvalue\u001b[0m\u001b[1;33m\u001b[0m\u001b[1;33m\u001b[0m\u001b[0m\n\u001b[1;32m--> 976\u001b[1;33m         return self.execute(Command.FIND_ELEMENT, {\n\u001b[0m\u001b[0;32m    977\u001b[0m             \u001b[1;34m'using'\u001b[0m\u001b[1;33m:\u001b[0m \u001b[0mby\u001b[0m\u001b[1;33m,\u001b[0m\u001b[1;33m\u001b[0m\u001b[1;33m\u001b[0m\u001b[0m\n\u001b[0;32m    978\u001b[0m             'value': value})['value']\n",
      "\u001b[1;32m~\\anaconda3\\lib\\site-packages\\selenium\\webdriver\\remote\\webdriver.py\u001b[0m in \u001b[0;36mexecute\u001b[1;34m(self, driver_command, params)\u001b[0m\n\u001b[0;32m    319\u001b[0m         \u001b[0mresponse\u001b[0m \u001b[1;33m=\u001b[0m \u001b[0mself\u001b[0m\u001b[1;33m.\u001b[0m\u001b[0mcommand_executor\u001b[0m\u001b[1;33m.\u001b[0m\u001b[0mexecute\u001b[0m\u001b[1;33m(\u001b[0m\u001b[0mdriver_command\u001b[0m\u001b[1;33m,\u001b[0m \u001b[0mparams\u001b[0m\u001b[1;33m)\u001b[0m\u001b[1;33m\u001b[0m\u001b[1;33m\u001b[0m\u001b[0m\n\u001b[0;32m    320\u001b[0m         \u001b[1;32mif\u001b[0m \u001b[0mresponse\u001b[0m\u001b[1;33m:\u001b[0m\u001b[1;33m\u001b[0m\u001b[1;33m\u001b[0m\u001b[0m\n\u001b[1;32m--> 321\u001b[1;33m             \u001b[0mself\u001b[0m\u001b[1;33m.\u001b[0m\u001b[0merror_handler\u001b[0m\u001b[1;33m.\u001b[0m\u001b[0mcheck_response\u001b[0m\u001b[1;33m(\u001b[0m\u001b[0mresponse\u001b[0m\u001b[1;33m)\u001b[0m\u001b[1;33m\u001b[0m\u001b[1;33m\u001b[0m\u001b[0m\n\u001b[0m\u001b[0;32m    322\u001b[0m             response['value'] = self._unwrap_value(\n\u001b[0;32m    323\u001b[0m                 response.get('value', None))\n",
      "\u001b[1;32m~\\anaconda3\\lib\\site-packages\\selenium\\webdriver\\remote\\errorhandler.py\u001b[0m in \u001b[0;36mcheck_response\u001b[1;34m(self, response)\u001b[0m\n\u001b[0;32m    240\u001b[0m                 \u001b[0malert_text\u001b[0m \u001b[1;33m=\u001b[0m \u001b[0mvalue\u001b[0m\u001b[1;33m[\u001b[0m\u001b[1;34m'alert'\u001b[0m\u001b[1;33m]\u001b[0m\u001b[1;33m.\u001b[0m\u001b[0mget\u001b[0m\u001b[1;33m(\u001b[0m\u001b[1;34m'text'\u001b[0m\u001b[1;33m)\u001b[0m\u001b[1;33m\u001b[0m\u001b[1;33m\u001b[0m\u001b[0m\n\u001b[0;32m    241\u001b[0m             \u001b[1;32mraise\u001b[0m \u001b[0mexception_class\u001b[0m\u001b[1;33m(\u001b[0m\u001b[0mmessage\u001b[0m\u001b[1;33m,\u001b[0m \u001b[0mscreen\u001b[0m\u001b[1;33m,\u001b[0m \u001b[0mstacktrace\u001b[0m\u001b[1;33m,\u001b[0m \u001b[0malert_text\u001b[0m\u001b[1;33m)\u001b[0m\u001b[1;33m\u001b[0m\u001b[1;33m\u001b[0m\u001b[0m\n\u001b[1;32m--> 242\u001b[1;33m         \u001b[1;32mraise\u001b[0m \u001b[0mexception_class\u001b[0m\u001b[1;33m(\u001b[0m\u001b[0mmessage\u001b[0m\u001b[1;33m,\u001b[0m \u001b[0mscreen\u001b[0m\u001b[1;33m,\u001b[0m \u001b[0mstacktrace\u001b[0m\u001b[1;33m)\u001b[0m\u001b[1;33m\u001b[0m\u001b[1;33m\u001b[0m\u001b[0m\n\u001b[0m\u001b[0;32m    243\u001b[0m \u001b[1;33m\u001b[0m\u001b[0m\n\u001b[0;32m    244\u001b[0m     \u001b[1;32mdef\u001b[0m \u001b[0m_value_or_default\u001b[0m\u001b[1;33m(\u001b[0m\u001b[0mself\u001b[0m\u001b[1;33m,\u001b[0m \u001b[0mobj\u001b[0m\u001b[1;33m,\u001b[0m \u001b[0mkey\u001b[0m\u001b[1;33m,\u001b[0m \u001b[0mdefault\u001b[0m\u001b[1;33m)\u001b[0m\u001b[1;33m:\u001b[0m\u001b[1;33m\u001b[0m\u001b[1;33m\u001b[0m\u001b[0m\n",
      "\u001b[1;31mNoSuchElementException\u001b[0m: Message: no such element: Unable to locate element: {\"method\":\"xpath\",\"selector\":\"/html/body/div[1]/div[1]/div/div[2]/div/div[1]/div[1]/table/tbody/tr/td[1]/span\"}\n  (Session info: chrome=91.0.4472.124)\n"
     ]
    }
   ],
   "source": [
    "title = []\n",
    "body = []\n",
    "\n",
    "for url in address:\n",
    "    driver.get(url)\n",
    "    driver.switch_to_frame('cafe_main')\n",
    "    \n",
    "    title.append(driver.find_element_by_xpath('/html/body/div[1]/div[1]/div/div[2]/div/div[1]/div[1]/table/tbody/tr/td[1]/span').text)\n",
    "    body.append(driver.find_element_by_xpath('/html/body/div[1]/div[1]/div/div[2]/div/div[5]').text)\n",
    "    \n",
    "data = pd.DataFrame({'title': title, 'body': body})"
   ]
  },
  {
   "cell_type": "code",
   "execution_count": null,
   "id": "b43f7b19",
   "metadata": {},
   "outputs": [],
   "source": []
  }
 ],
 "metadata": {
  "kernelspec": {
   "display_name": "Python 3",
   "language": "python",
   "name": "python3"
  },
  "language_info": {
   "codemirror_mode": {
    "name": "ipython",
    "version": 3
   },
   "file_extension": ".py",
   "mimetype": "text/x-python",
   "name": "python",
   "nbconvert_exporter": "python",
   "pygments_lexer": "ipython3",
   "version": "3.8.8"
  }
 },
 "nbformat": 4,
 "nbformat_minor": 5
}
